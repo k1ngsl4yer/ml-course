{
  "cells": [
    {
      "cell_type": "markdown",
      "metadata": {
        "id": "nTSf4ro-qU0d"
      },
      "source": [
        "## Бонусное задание: word2vec на PyTorch\n",
        "\n",
        "Как вы уже могли заметить, идея, лежащая в основе [word2vec](https://arxiv.org/pdf/1310.4546), достаточно общая. В данном задании вы реализуете его самостоятельно.\n",
        "\n",
        "Дисклеймер: не стоит удивляться тому, что реализация от `gensim` (или аналоги) обучается быстрее и работает точнее. Она использует множество доработок и ускорений, а также достаточно эффективный код. Ваша задача добиться промежуточных результатов за разумное время.\n",
        "\n",
        "P.s. Как ни странно, GPU в этом задании нам не потребуется."
      ]
    },
    {
      "cell_type": "markdown",
      "metadata": {
        "id": "ULzzT6QA0AgL"
      },
      "source": [
        "__Requirements:__ if you're running locally, in the selected environment run the following command:\n",
        "\n",
        "```pip install --upgrade nltk bokeh umap-learn```\n"
      ]
    },
    {
      "cell_type": "code",
      "execution_count": 1,
      "metadata": {
        "id": "Oipe2DU8qfm7",
        "outputId": "cc03ee1c-b0bb-4123-a44d-e83a0ab534a8",
        "colab": {
          "base_uri": "https://localhost:8080/"
        }
      },
      "outputs": [
        {
          "output_type": "stream",
          "name": "stdout",
          "text": [
            "Requirement already satisfied: nltk in /usr/local/lib/python3.10/dist-packages (3.8.1)\n",
            "Collecting nltk\n",
            "  Downloading nltk-3.9.1-py3-none-any.whl.metadata (2.9 kB)\n",
            "Requirement already satisfied: bokeh in /usr/local/lib/python3.10/dist-packages (3.4.3)\n",
            "Collecting bokeh\n",
            "  Downloading bokeh-3.6.0-py3-none-any.whl.metadata (12 kB)\n",
            "Collecting umap-learn\n",
            "  Downloading umap_learn-0.5.7-py3-none-any.whl.metadata (21 kB)\n",
            "Requirement already satisfied: click in /usr/local/lib/python3.10/dist-packages (from nltk) (8.1.7)\n",
            "Requirement already satisfied: joblib in /usr/local/lib/python3.10/dist-packages (from nltk) (1.4.2)\n",
            "Requirement already satisfied: regex>=2021.8.3 in /usr/local/lib/python3.10/dist-packages (from nltk) (2024.9.11)\n",
            "Requirement already satisfied: tqdm in /usr/local/lib/python3.10/dist-packages (from nltk) (4.66.5)\n",
            "Requirement already satisfied: Jinja2>=2.9 in /usr/local/lib/python3.10/dist-packages (from bokeh) (3.1.4)\n",
            "Requirement already satisfied: contourpy>=1.2 in /usr/local/lib/python3.10/dist-packages (from bokeh) (1.3.0)\n",
            "Requirement already satisfied: numpy>=1.16 in /usr/local/lib/python3.10/dist-packages (from bokeh) (1.26.4)\n",
            "Requirement already satisfied: packaging>=16.8 in /usr/local/lib/python3.10/dist-packages (from bokeh) (24.1)\n",
            "Requirement already satisfied: pandas>=1.2 in /usr/local/lib/python3.10/dist-packages (from bokeh) (2.2.2)\n",
            "Requirement already satisfied: pillow>=7.1.0 in /usr/local/lib/python3.10/dist-packages (from bokeh) (10.4.0)\n",
            "Requirement already satisfied: PyYAML>=3.10 in /usr/local/lib/python3.10/dist-packages (from bokeh) (6.0.2)\n",
            "Requirement already satisfied: tornado>=6.2 in /usr/local/lib/python3.10/dist-packages (from bokeh) (6.3.3)\n",
            "Requirement already satisfied: xyzservices>=2021.09.1 in /usr/local/lib/python3.10/dist-packages (from bokeh) (2024.9.0)\n",
            "Requirement already satisfied: scipy>=1.3.1 in /usr/local/lib/python3.10/dist-packages (from umap-learn) (1.13.1)\n",
            "Requirement already satisfied: scikit-learn>=0.22 in /usr/local/lib/python3.10/dist-packages (from umap-learn) (1.5.2)\n",
            "Requirement already satisfied: numba>=0.51.2 in /usr/local/lib/python3.10/dist-packages (from umap-learn) (0.60.0)\n",
            "Collecting pynndescent>=0.5 (from umap-learn)\n",
            "  Downloading pynndescent-0.5.13-py3-none-any.whl.metadata (6.8 kB)\n",
            "Requirement already satisfied: MarkupSafe>=2.0 in /usr/local/lib/python3.10/dist-packages (from Jinja2>=2.9->bokeh) (3.0.2)\n",
            "Requirement already satisfied: llvmlite<0.44,>=0.43.0dev0 in /usr/local/lib/python3.10/dist-packages (from numba>=0.51.2->umap-learn) (0.43.0)\n",
            "Requirement already satisfied: python-dateutil>=2.8.2 in /usr/local/lib/python3.10/dist-packages (from pandas>=1.2->bokeh) (2.8.2)\n",
            "Requirement already satisfied: pytz>=2020.1 in /usr/local/lib/python3.10/dist-packages (from pandas>=1.2->bokeh) (2024.2)\n",
            "Requirement already satisfied: tzdata>=2022.7 in /usr/local/lib/python3.10/dist-packages (from pandas>=1.2->bokeh) (2024.2)\n",
            "Requirement already satisfied: threadpoolctl>=3.1.0 in /usr/local/lib/python3.10/dist-packages (from scikit-learn>=0.22->umap-learn) (3.5.0)\n",
            "Requirement already satisfied: six>=1.5 in /usr/local/lib/python3.10/dist-packages (from python-dateutil>=2.8.2->pandas>=1.2->bokeh) (1.16.0)\n",
            "Downloading nltk-3.9.1-py3-none-any.whl (1.5 MB)\n",
            "\u001b[2K   \u001b[90m━━━━━━━━━━━━━━━━━━━━━━━━━━━━━━━━━━━━━━━━\u001b[0m \u001b[32m1.5/1.5 MB\u001b[0m \u001b[31m16.4 MB/s\u001b[0m eta \u001b[36m0:00:00\u001b[0m\n",
            "\u001b[?25hDownloading bokeh-3.6.0-py3-none-any.whl (6.9 MB)\n",
            "\u001b[2K   \u001b[90m━━━━━━━━━━━━━━━━━━━━━━━━━━━━━━━━━━━━━━━━\u001b[0m \u001b[32m6.9/6.9 MB\u001b[0m \u001b[31m39.0 MB/s\u001b[0m eta \u001b[36m0:00:00\u001b[0m\n",
            "\u001b[?25hDownloading umap_learn-0.5.7-py3-none-any.whl (88 kB)\n",
            "\u001b[2K   \u001b[90m━━━━━━━━━━━━━━━━━━━━━━━━━━━━━━━━━━━━━━━━\u001b[0m \u001b[32m88.8/88.8 kB\u001b[0m \u001b[31m5.4 MB/s\u001b[0m eta \u001b[36m0:00:00\u001b[0m\n",
            "\u001b[?25hDownloading pynndescent-0.5.13-py3-none-any.whl (56 kB)\n",
            "\u001b[2K   \u001b[90m━━━━━━━━━━━━━━━━━━━━━━━━━━━━━━━━━━━━━━━━\u001b[0m \u001b[32m56.9/56.9 kB\u001b[0m \u001b[31m3.8 MB/s\u001b[0m eta \u001b[36m0:00:00\u001b[0m\n",
            "\u001b[?25hInstalling collected packages: nltk, pynndescent, bokeh, umap-learn\n",
            "  Attempting uninstall: nltk\n",
            "    Found existing installation: nltk 3.8.1\n",
            "    Uninstalling nltk-3.8.1:\n",
            "      Successfully uninstalled nltk-3.8.1\n",
            "  Attempting uninstall: bokeh\n",
            "    Found existing installation: bokeh 3.4.3\n",
            "    Uninstalling bokeh-3.4.3:\n",
            "      Successfully uninstalled bokeh-3.4.3\n",
            "\u001b[31mERROR: pip's dependency resolver does not currently take into account all the packages that are installed. This behaviour is the source of the following dependency conflicts.\n",
            "panel 1.4.5 requires bokeh<3.5.0,>=3.4.0, but you have bokeh 3.6.0 which is incompatible.\u001b[0m\u001b[31m\n",
            "\u001b[0mSuccessfully installed bokeh-3.6.0 nltk-3.9.1 pynndescent-0.5.13 umap-learn-0.5.7\n"
          ]
        }
      ],
      "source": [
        "!pip install --upgrade nltk bokeh umap-learn"
      ]
    },
    {
      "cell_type": "code",
      "execution_count": 2,
      "metadata": {
        "id": "pqPU4Lu2qU0h"
      },
      "outputs": [],
      "source": [
        "import itertools\n",
        "import random\n",
        "import string\n",
        "from collections import Counter\n",
        "from itertools import chain\n",
        "\n",
        "import matplotlib.pyplot as plt\n",
        "import numpy as np\n",
        "import torch\n",
        "import torch.autograd as autograd\n",
        "import torch.nn as nn\n",
        "import torch.nn.functional as F\n",
        "import torch.optim as optim\n",
        "import umap\n",
        "from IPython.display import clear_output\n",
        "from matplotlib import pyplot as plt\n",
        "from nltk.tokenize import WordPunctTokenizer\n",
        "from torch.optim.lr_scheduler import ReduceLROnPlateau, StepLR\n",
        "from tqdm.auto import tqdm as tqdma"
      ]
    },
    {
      "cell_type": "code",
      "execution_count": 86,
      "metadata": {
        "colab": {
          "base_uri": "https://localhost:8080/"
        },
        "id": "8Fbx57z3qU0i",
        "outputId": "f30b0d1c-3172-45d4-fb1d-09753d9bee3a"
      },
      "outputs": [
        {
          "output_type": "stream",
          "name": "stdout",
          "text": [
            "File ‘./quora.txt’ already there; not retrieving.\n"
          ]
        }
      ],
      "source": [
        "# download the data:\n",
        "#!wget https://www.dropbox.com/s/obaitrix9jyu84r/quora.txt?dl=1 -O ./quora.txt -nc\n",
        "# alternative download link: https://yadi.sk/i/BPQrUu1NaTduEw"
      ]
    },
    {
      "cell_type": "code",
      "execution_count": 3,
      "metadata": {
        "colab": {
          "base_uri": "https://localhost:8080/",
          "height": 36
        },
        "id": "8EYy5dQpqU0i",
        "outputId": "cca54fe9-537a-49be-8826-522823d8fc7c",
        "scrolled": false
      },
      "outputs": [
        {
          "output_type": "execute_result",
          "data": {
            "text/plain": [
              "\"What TV shows or books help you read people's body language?\\n\""
            ],
            "application/vnd.google.colaboratory.intrinsic+json": {
              "type": "string"
            }
          },
          "metadata": {},
          "execution_count": 3
        }
      ],
      "source": [
        "data = list(open(\"./quora.txt\", encoding=\"utf-8\"))\n",
        "data[50]"
      ]
    },
    {
      "cell_type": "markdown",
      "metadata": {
        "id": "feBEGI2eqU0j"
      },
      "source": [
        "Токенизация – первый шаг.\n",
        "Тексты, с которыми мы работаем, включают в себя пунктуацию, смайлики и прочие нестандартные токены, так что простой `str.split` не подойдет.\n",
        "\n",
        "Обратимся к `nltk` - библиотеку, нашла широкое применеие в области NLP."
      ]
    },
    {
      "cell_type": "code",
      "execution_count": 4,
      "metadata": {
        "colab": {
          "base_uri": "https://localhost:8080/"
        },
        "id": "7mWTvm50qU0j",
        "outputId": "5c4fad7d-c7c9-48a5-a6bf-515f9b8255bf"
      },
      "outputs": [
        {
          "output_type": "stream",
          "name": "stdout",
          "text": [
            "['What', 'TV', 'shows', 'or', 'books', 'help', 'you', 'read', 'people', \"'\", 's', 'body', 'language', '?']\n"
          ]
        }
      ],
      "source": [
        "tokenizer = WordPunctTokenizer()\n",
        "\n",
        "print(tokenizer.tokenize(data[50]))"
      ]
    },
    {
      "cell_type": "code",
      "execution_count": 5,
      "metadata": {
        "id": "HzC05EHWqU0j"
      },
      "outputs": [],
      "source": [
        "data_tok = [\n",
        "    tokenizer.tokenize(\n",
        "        line.translate(str.maketrans(\"\", \"\", string.punctuation)).lower()\n",
        "    )\n",
        "    for line in data\n",
        "]\n",
        "data_tok = [x for x in data_tok if len(x) >= 3]"
      ]
    },
    {
      "cell_type": "markdown",
      "metadata": {
        "id": "6azRAgHIqU0k"
      },
      "source": [
        "Несколько проверок:"
      ]
    },
    {
      "cell_type": "code",
      "execution_count": 6,
      "metadata": {
        "id": "Cp8UpxdWqU0k"
      },
      "outputs": [],
      "source": [
        "assert all(\n",
        "    isinstance(row, (list, tuple)) for row in data_tok\n",
        "), \"please convert each line into a list of tokens (strings)\"\n",
        "assert all(\n",
        "    all(isinstance(tok, str) for tok in row) for row in data_tok\n",
        "), \"please convert each line into a list of tokens (strings)\"\n",
        "is_latin = lambda tok: all(\"a\" <= x.lower() <= \"z\" for x in tok)\n",
        "assert all(\n",
        "    map(lambda l: not is_latin(l) or l.islower(), map(\" \".join, data_tok))\n",
        "), \"please make sure to lowercase the data\""
      ]
    },
    {
      "cell_type": "markdown",
      "metadata": {
        "id": "37e7-MIhqU0x"
      },
      "source": [
        "Ниже заданы константы ширины окна контекста и проведена предобработка для построения skip-gram модели."
      ]
    },
    {
      "cell_type": "code",
      "execution_count": 7,
      "metadata": {
        "id": "fugc1IomqU0x"
      },
      "outputs": [],
      "source": [
        "min_count = 5\n",
        "window_radius = 5"
      ]
    },
    {
      "cell_type": "code",
      "execution_count": 8,
      "metadata": {
        "id": "L9yykwTJ0Aht"
      },
      "outputs": [],
      "source": [
        "vocabulary_with_counter = Counter(chain.from_iterable(data_tok))\n",
        "\n",
        "word_count_dict = dict()\n",
        "for word, counter in vocabulary_with_counter.items():\n",
        "    if counter >= min_count:\n",
        "        word_count_dict[word] = counter\n",
        "\n",
        "vocabulary = set(word_count_dict.keys())\n",
        "del vocabulary_with_counter"
      ]
    },
    {
      "cell_type": "code",
      "execution_count": 9,
      "metadata": {
        "id": "-jROdrxf0Ahv"
      },
      "outputs": [],
      "source": [
        "word_to_index = {word: index for index, word in enumerate(vocabulary)}\n",
        "index_to_word = {index: word for word, index in word_to_index.items()}"
      ]
    },
    {
      "cell_type": "markdown",
      "metadata": {
        "id": "4Y8rlBfqqU0x"
      },
      "source": [
        "Пары `(слово, контекст)` на основе доступного датасета сгенерированы ниже."
      ]
    },
    {
      "cell_type": "code",
      "execution_count": 10,
      "metadata": {
        "id": "h2-aqyyaqU0x",
        "outputId": "4888a927-c4c1-4cd8-d6e4-9c67c9fd1733",
        "colab": {
          "base_uri": "https://localhost:8080/"
        }
      },
      "outputs": [
        {
          "output_type": "stream",
          "name": "stdout",
          "text": [
            "Generated 40220313 pairs of target and context words.\n"
          ]
        }
      ],
      "source": [
        "context_pairs = []\n",
        "\n",
        "for text in data_tok:\n",
        "    for i, central_word in enumerate(text):\n",
        "        context_indices = range(\n",
        "            max(0, i - window_radius), min(i + window_radius, len(text))\n",
        "        )\n",
        "        for j in context_indices:\n",
        "            if j == i:\n",
        "                continue\n",
        "            context_word = text[j]\n",
        "            if central_word in vocabulary and context_word in vocabulary:\n",
        "                context_pairs.append(\n",
        "                    (word_to_index[central_word], word_to_index[context_word])\n",
        "                )\n",
        "\n",
        "print(f\"Generated {len(context_pairs)} pairs of target and context words.\")"
      ]
    },
    {
      "cell_type": "code",
      "source": [
        "#print([(index_to_word[w1], index_to_word[w2]) for (w1, w2) in context_pairs])"
      ],
      "metadata": {
        "id": "MKb6Rv99NO9F",
        "outputId": "20020b81-d17e-4a81-9ad1-06af54ad41ad",
        "colab": {
          "base_uri": "https://localhost:8080/",
          "height": 315
        }
      },
      "execution_count": 95,
      "outputs": [
        {
          "output_type": "error",
          "ename": "KeyboardInterrupt",
          "evalue": "",
          "traceback": [
            "\u001b[0;31m---------------------------------------------------------------------------\u001b[0m",
            "\u001b[0;31mKeyboardInterrupt\u001b[0m                         Traceback (most recent call last)",
            "    \u001b[0;31m[... skipping hidden 1 frame]\u001b[0m\n",
            "\u001b[0;32m<ipython-input-95-ccad8e2f9d70>\u001b[0m in \u001b[0;36m<cell line: 1>\u001b[0;34m()\u001b[0m\n\u001b[0;32m----> 1\u001b[0;31m \u001b[0mprint\u001b[0m\u001b[0;34m(\u001b[0m\u001b[0;34m[\u001b[0m\u001b[0;34m(\u001b[0m\u001b[0mindex_to_word\u001b[0m\u001b[0;34m[\u001b[0m\u001b[0mw1\u001b[0m\u001b[0;34m]\u001b[0m\u001b[0;34m,\u001b[0m \u001b[0mindex_to_word\u001b[0m\u001b[0;34m[\u001b[0m\u001b[0mw2\u001b[0m\u001b[0;34m]\u001b[0m\u001b[0;34m)\u001b[0m \u001b[0;32mfor\u001b[0m \u001b[0;34m(\u001b[0m\u001b[0mw1\u001b[0m\u001b[0;34m,\u001b[0m \u001b[0mw2\u001b[0m\u001b[0;34m)\u001b[0m \u001b[0;32min\u001b[0m \u001b[0mcontext_pairs\u001b[0m\u001b[0;34m]\u001b[0m\u001b[0;34m)\u001b[0m\u001b[0;34m\u001b[0m\u001b[0;34m\u001b[0m\u001b[0m\n\u001b[0m",
            "\u001b[0;32m<ipython-input-95-ccad8e2f9d70>\u001b[0m in \u001b[0;36m<listcomp>\u001b[0;34m(.0)\u001b[0m\n\u001b[0;32m----> 1\u001b[0;31m \u001b[0mprint\u001b[0m\u001b[0;34m(\u001b[0m\u001b[0;34m[\u001b[0m\u001b[0;34m(\u001b[0m\u001b[0mindex_to_word\u001b[0m\u001b[0;34m[\u001b[0m\u001b[0mw1\u001b[0m\u001b[0;34m]\u001b[0m\u001b[0;34m,\u001b[0m \u001b[0mindex_to_word\u001b[0m\u001b[0;34m[\u001b[0m\u001b[0mw2\u001b[0m\u001b[0;34m]\u001b[0m\u001b[0;34m)\u001b[0m \u001b[0;32mfor\u001b[0m \u001b[0;34m(\u001b[0m\u001b[0mw1\u001b[0m\u001b[0;34m,\u001b[0m \u001b[0mw2\u001b[0m\u001b[0;34m)\u001b[0m \u001b[0;32min\u001b[0m \u001b[0mcontext_pairs\u001b[0m\u001b[0;34m]\u001b[0m\u001b[0;34m)\u001b[0m\u001b[0;34m\u001b[0m\u001b[0;34m\u001b[0m\u001b[0m\n\u001b[0m",
            "\u001b[0;31mKeyboardInterrupt\u001b[0m: ",
            "\nDuring handling of the above exception, another exception occurred:\n",
            "\u001b[0;31mKeyboardInterrupt\u001b[0m                         Traceback (most recent call last)",
            "\u001b[0;31mKeyboardInterrupt\u001b[0m: "
          ]
        }
      ]
    },
    {
      "cell_type": "markdown",
      "metadata": {
        "id": "Up7Lp80d0Ahw"
      },
      "source": [
        "#### Подзадача №1: subsampling\n",
        "Для того, чтобы сгладить разницу в частоте встречаемсости слов, необходимо реализовать механизм subsampling'а.\n",
        "Для этого вам необходимо реализовать функцию ниже.\n",
        "\n",
        "Вероятность **исключить** слово из обучения (на фиксированном шаге) вычисляется как\n",
        "$$\n",
        "P_\\text{drop}(w_i)=1 - \\sqrt{\\frac{t}{f(w_i)}},\n",
        "$$\n",
        "где $f(w_i)$ – нормированная частота встречаемости слова, а $t$ – заданный порог (threshold)."
      ]
    },
    {
      "cell_type": "code",
      "execution_count": 11,
      "metadata": {
        "id": "xFRXRE6_0Ahx"
      },
      "outputs": [],
      "source": [
        "def subsample_frequent_words(word_count_dict, threshold=1e-5):\n",
        "    \"\"\"\n",
        "    Calculates the subsampling probabilities for words based on their frequencies.\n",
        "\n",
        "    This function is used to determine the probability of keeping a word in the dataset\n",
        "    when subsampling frequent words. The method used is inspired by the subsampling approach\n",
        "    in Word2Vec, where each word's frequency affects its probability of being kept.\n",
        "\n",
        "    Parameters:\n",
        "    - word_count_dict (dict): A dictionary where keys are words and values are the counts of those words.\n",
        "    - threshold (float, optional): A threshold parameter used to adjust the frequency of word subsampling.\n",
        "                                   Defaults to 1e-5.\n",
        "\n",
        "    Returns:\n",
        "    - dict: A dictionary where keys are words and values are the probabilities of keeping each word.\n",
        "\n",
        "    Example:\n",
        "    >>> word_counts = {'the': 5000, 'is': 1000, 'apple': 50}\n",
        "    >>> subsample_frequent_words(word_counts)\n",
        "    {'the': 0.028, 'is': 0.223, 'apple': 1.0}\n",
        "    \"\"\"\n",
        "\n",
        "    ### YOUR CODE HERE\n",
        "    total_counts = sum(word_count_dict.values())\n",
        "    keep_prob_dict = {\n",
        "        word: (total_counts*threshold/word_count_dict[word])**0.5 for word in word_count_dict.keys()\n",
        "    }  # THIS IS A PLACEHOLDER!\n",
        "    return keep_prob_dict"
      ]
    },
    {
      "cell_type": "code",
      "source": [
        "word_counts = {'the': 5000, 'is': 1000, 'apple': 50}\n",
        "subsample_frequent_words(word_counts)"
      ],
      "metadata": {
        "id": "1KigplQQ6YlV",
        "outputId": "74b03235-ca88-4233-a4da-37a28d43a48a",
        "colab": {
          "base_uri": "https://localhost:8080/"
        }
      },
      "execution_count": 12,
      "outputs": [
        {
          "output_type": "execute_result",
          "data": {
            "text/plain": [
              "{'the': 0.0034785054261852176,\n",
              " 'is': 0.007778174593052023,\n",
              " 'apple': 0.034785054261852175}"
            ]
          },
          "metadata": {},
          "execution_count": 12
        }
      ]
    },
    {
      "cell_type": "markdown",
      "metadata": {
        "id": "P0QYiP7O0Ahx"
      },
      "source": [
        "#### Подзадача №2: negative sampling\n",
        "Для более эффективного обучения необходимо не только предсказывать высокие вероятности для слов из контекста, но и предсказывать низкие для слов, не встреченных в контексте. Для этого вам необходимо вычислить вероятност использовать слово в качестве negative sample, реализовав функцию ниже.\n",
        "\n",
        "В оригинальной статье предлагается оценивать вероятность слов выступать в качестве negative sample согласно распределению $P_n(w)$\n",
        "$$\n",
        "P_n(w) = \\frac{U(w)^{3/4}}{Z},\n",
        "$$\n",
        "\n",
        "где $U(w)$ распределение слов по частоте (или, как его еще называют, по униграммам), а $Z$ – нормировочная константа, чтобы общая мера была равна $1$."
      ]
    },
    {
      "cell_type": "code",
      "execution_count": 13,
      "metadata": {
        "id": "EK_-koJO0Ahx"
      },
      "outputs": [],
      "source": [
        "def get_negative_sampling_prob(word_count_dict):\n",
        "    \"\"\"\n",
        "    Calculates the negative sampling probabilities for words based on their frequencies.\n",
        "\n",
        "    This function adjusts the frequency of each word raised to the power of 0.75, which is\n",
        "    commonly used in algorithms like Word2Vec to moderate the influence of very frequent words.\n",
        "    It then normalizes these adjusted frequencies to ensure they sum to 1, forming a probability\n",
        "    distribution used for negative sampling.\n",
        "\n",
        "    Parameters:\n",
        "    - word_count_dict (dict): A dictionary where keys are words and values are the counts of those words.\n",
        "\n",
        "    Returns:\n",
        "    - dict: A dictionary where keys are words and values are the probabilities of selecting each word\n",
        "            for negative sampling.\n",
        "\n",
        "    Example:\n",
        "    >>> word_counts = {'the': 5000, 'is': 1000, 'apple': 50}\n",
        "    >>> get_negative_sampling_prob(word_counts)\n",
        "    {'the': 0.298, 'is': 0.160, 'apple': 0.042}\n",
        "    \"\"\"\n",
        "\n",
        "    ### YOUR CODE HERE\n",
        "    norm_factor = sum([x**0.75 for x in word_count_dict.values()])\n",
        "    negative_sampling_prob_dict = {\n",
        "        word: word_count_dict[word]**0.75/norm_factor for word in word_count_dict.keys()\n",
        "    }  # THIS IS A PLACEHOLDER!\n",
        "    return negative_sampling_prob_dict"
      ]
    },
    {
      "cell_type": "code",
      "source": [
        "word_counts = {'the': 5000, 'is': 1000, 'apple': 50}\n",
        "get_negative_sampling_prob(word_counts)\n",
        "sum(get_negative_sampling_prob(word_counts).values()\n",
        ")"
      ],
      "metadata": {
        "id": "DRNFS-NP7VEK",
        "outputId": "53f94762-902a-4e4f-e1c8-e67a03d1bf5b",
        "colab": {
          "base_uri": "https://localhost:8080/"
        }
      },
      "execution_count": 14,
      "outputs": [
        {
          "output_type": "execute_result",
          "data": {
            "text/plain": [
              "1.0"
            ]
          },
          "metadata": {},
          "execution_count": 14
        }
      ]
    },
    {
      "cell_type": "markdown",
      "metadata": {
        "id": "JLAFcjRK0Ahy"
      },
      "source": [
        "Для удобства, преобразуем полученные словари в массивы (т.к. все слова все равно уже пронумерованы)."
      ]
    },
    {
      "cell_type": "code",
      "execution_count": 15,
      "metadata": {
        "id": "wjX0DD6u0Ahy"
      },
      "outputs": [],
      "source": [
        "keep_prob_dict = subsample_frequent_words(word_count_dict)\n",
        "assert keep_prob_dict.keys() == word_count_dict.keys()"
      ]
    },
    {
      "cell_type": "code",
      "execution_count": 16,
      "metadata": {
        "id": "2OvUYKiV0Ahy"
      },
      "outputs": [],
      "source": [
        "negative_sampling_prob_dict = get_negative_sampling_prob(word_count_dict)\n",
        "assert negative_sampling_prob_dict.keys() == negative_sampling_prob_dict.keys()\n",
        "assert np.allclose(sum(negative_sampling_prob_dict.values()), 1)"
      ]
    },
    {
      "cell_type": "code",
      "execution_count": 17,
      "metadata": {
        "id": "xvD0ulaV0Ahz"
      },
      "outputs": [],
      "source": [
        "keep_prob_array = np.array(\n",
        "    [keep_prob_dict[index_to_word[idx]] for idx in range(len(word_to_index))]\n",
        ")\n",
        "negative_sampling_prob_array = np.array(\n",
        "    [\n",
        "        negative_sampling_prob_dict[index_to_word[idx]]\n",
        "        for idx in range(len(word_to_index))\n",
        "    ]\n",
        ")"
      ]
    },
    {
      "cell_type": "markdown",
      "metadata": {
        "id": "ll10LnkI0Ahz"
      },
      "source": [
        "Если все прошло успешно, функция ниже поможет вам с генерацией подвыборок (батчей)."
      ]
    },
    {
      "cell_type": "code",
      "execution_count": 18,
      "metadata": {
        "id": "nz6Dpap60Ah0"
      },
      "outputs": [],
      "source": [
        "def generate_batch_with_neg_samples(\n",
        "    context_pairs,\n",
        "    batch_size,\n",
        "    keep_prob_array,\n",
        "    word_to_index,\n",
        "    num_negatives,\n",
        "    negative_sampling_prob_array,\n",
        "):\n",
        "    batch = []\n",
        "    neg_samples = []\n",
        "\n",
        "    while len(batch) < batch_size:\n",
        "        center, context = random.choice(context_pairs)\n",
        "        if random.random() < keep_prob_array[center]:\n",
        "            batch.append((center, context))\n",
        "            neg_sample = np.random.choice(\n",
        "                range(len(negative_sampling_prob_array)),\n",
        "                size=num_negatives,\n",
        "                p=negative_sampling_prob_array,\n",
        "            )\n",
        "            neg_samples.append(neg_sample)\n",
        "    batch = np.array(batch)\n",
        "    neg_samples = np.vstack(neg_samples)\n",
        "    return batch, neg_samples"
      ]
    },
    {
      "cell_type": "code",
      "execution_count": 19,
      "metadata": {
        "id": "LE8rLVuz0Ah0"
      },
      "outputs": [],
      "source": [
        "batch_size = 4\n",
        "num_negatives = 15\n",
        "batch, neg_samples = generate_batch_with_neg_samples(\n",
        "    context_pairs,\n",
        "    batch_size,\n",
        "    keep_prob_array,\n",
        "    word_to_index,\n",
        "    num_negatives,\n",
        "    negative_sampling_prob_array,\n",
        ")"
      ]
    },
    {
      "cell_type": "markdown",
      "metadata": {
        "id": "fBb3t25i0Ah1"
      },
      "source": [
        "Наконец, время реализовать модель. Обращаем ваше внимание, использование линейных слоев (`nn.Linear`) далеко не всегда оправданно!\n",
        "\n",
        "Напомним, что в случае negative sampling решается задача максимизации следующего функционала:\n",
        "\n",
        "$$\n",
        "\\mathcal{L} = \\log \\sigma({\\mathbf{v}'_{w_O}}^\\top \\mathbf{v}_{w_I}) + \\sum_{i=1}^{k} \\mathbb{E}_{w_i \\sim P_n(w)} \\left[ \\log \\sigma({-\\mathbf{v}'_{w_i}}^\\top \\mathbf{v}_{w_I}) \\right],\n",
        "$$\n",
        "\n",
        "где:\n",
        "- $\\mathbf{v}_{w_I}$ – вектор центрального слова $w_I$,\n",
        "- $\\mathbf{v}'_{w_O}$ – вектор слова из контекста $w_O$,\n",
        "- $k$ – число negative samplesЮ,\n",
        "- $P_n(w)$ – распределение negative samples, заданное выше,\n",
        "- $\\sigma$ – сигмоида."
      ]
    },
    {
      "cell_type": "code",
      "execution_count": 20,
      "metadata": {
        "id": "sN2HQAK80Ah1"
      },
      "outputs": [],
      "source": [
        "class SkipGramModelWithNegSampling(nn.Module):\n",
        "    def __init__(self, vocab_size, embedding_dim):\n",
        "        super().__init__()\n",
        "        self.center_embeddings = nn.Embedding(vocab_size, embedding_dim)  # YOUR CODE HERE\n",
        "        self.context_embeddings = nn.Embedding(vocab_size, embedding_dim)  # YOUR CODE HERE\n",
        "\n",
        "    def forward(self, center_words, pos_context_words, neg_context_words):\n",
        "        # YOUR CODE HERE\n",
        "        center_embeds = self.center_embeddings(center_words)\n",
        "        pos_context_embeds = self.context_embeddings(pos_context_words)\n",
        "        neg_context_embeds = self.context_embeddings(neg_context_words)\n",
        "\n",
        "        pos_scores = torch.mul(center_embeds, pos_context_embeds).sum(dim=1)  # THIS IS A PLACEHOLDER\n",
        "        neg_scores = torch.bmm(neg_context_embeds, center_embeds.unsqueeze(2)).squeeze(2)  # THIS IS A PLACEHOLDER\n",
        "\n",
        "        return pos_scores, neg_scores"
      ]
    },
    {
      "cell_type": "code",
      "execution_count": 21,
      "metadata": {
        "id": "8tvczpWn0Ah2"
      },
      "outputs": [],
      "source": [
        "device = torch.device(\"cpu\")"
      ]
    },
    {
      "cell_type": "code",
      "execution_count": 22,
      "metadata": {
        "id": "NFwZj7gy0Ah2"
      },
      "outputs": [],
      "source": [
        "vocab_size = len(word_to_index)\n",
        "embedding_dim = 32\n",
        "num_negatives = 15\n",
        "\n",
        "model = SkipGramModelWithNegSampling(vocab_size, embedding_dim).to(device)\n",
        "optimizer = optim.Adam(model.parameters(), lr=0.05)\n",
        "lr_scheduler = ReduceLROnPlateau(optimizer, factor=0.5, patience=150)\n",
        "criterion = nn.BCEWithLogitsLoss()"
      ]
    },
    {
      "cell_type": "code",
      "execution_count": 23,
      "metadata": {
        "id": "qHCCRJAs0Ah3"
      },
      "outputs": [],
      "source": [
        "params_counter = 0\n",
        "for weights in model.parameters():\n",
        "    params_counter += weights.shape.numel()\n",
        "assert params_counter == len(word_to_index) * embedding_dim * 2"
      ]
    },
    {
      "cell_type": "code",
      "execution_count": 24,
      "metadata": {
        "id": "kqu80Fb60Ah4"
      },
      "outputs": [],
      "source": [
        "def train_skipgram_with_neg_sampling(\n",
        "    model,\n",
        "    context_pairs,\n",
        "    keep_prob_array,\n",
        "    word_to_index,\n",
        "    batch_size,\n",
        "    num_negatives,\n",
        "    negative_sampling_prob_array,\n",
        "    steps,\n",
        "    optimizer=optimizer,\n",
        "    lr_scheduler=lr_scheduler,\n",
        "    device=device,\n",
        "):\n",
        "    pos_labels = torch.ones(batch_size).to(device)\n",
        "    neg_labels = torch.zeros(batch_size, num_negatives).to(device)\n",
        "    loss_history = []\n",
        "    for step in tqdma(range(steps)):\n",
        "        batch, neg_samples = generate_batch_with_neg_samples(\n",
        "            context_pairs,\n",
        "            batch_size,\n",
        "            keep_prob_array,\n",
        "            word_to_index,\n",
        "            num_negatives,\n",
        "            negative_sampling_prob_array,\n",
        "        )\n",
        "        center_words = torch.tensor([pair[0] for pair in batch], dtype=torch.long).to(\n",
        "            device\n",
        "        )\n",
        "        pos_context_words = torch.tensor(\n",
        "            [pair[1] for pair in batch], dtype=torch.long\n",
        "        ).to(device)\n",
        "        neg_context_words = torch.tensor(neg_samples, dtype=torch.long).to(device)\n",
        "\n",
        "        optimizer.zero_grad()\n",
        "        pos_scores, neg_scores = model(\n",
        "            center_words, pos_context_words, neg_context_words\n",
        "        )\n",
        "\n",
        "        loss_pos = criterion(pos_scores, pos_labels)\n",
        "        loss_neg = criterion(neg_scores, neg_labels)\n",
        "\n",
        "        loss = loss_pos + loss_neg\n",
        "        loss.backward()\n",
        "        optimizer.step()\n",
        "\n",
        "        loss_history.append(loss.item())\n",
        "        lr_scheduler.step(loss_history[-1])\n",
        "\n",
        "        if step % 100 == 0:\n",
        "            print(\n",
        "                f\"Step {step}, Loss: {np.mean(loss_history[-100:])}, learning rate: {lr_scheduler._last_lr}\"\n",
        "            )"
      ]
    },
    {
      "cell_type": "code",
      "execution_count": 25,
      "metadata": {
        "id": "-rj5MC_G0Ah6",
        "outputId": "65c6988f-5247-43cf-f602-eefe08e7d841",
        "colab": {
          "base_uri": "https://localhost:8080/",
          "height": 483,
          "referenced_widgets": [
            "3938c759797c41be97b4b95109fa3d0e",
            "ee0a423c765a4ab78b41bfeee05d5072",
            "a8ff0ce095a84454971cb0d42a71d4ee",
            "242ef3217369479792a3c68eb157e667",
            "d24d602c346e4ab7be9d4904ac4c351e",
            "ef3400bb31684f07b96775cafaa16083",
            "9efcee153a944f6a90e09a59930503ce",
            "cfb3e6056a7b4dc7bc3cd8140990e141",
            "63339d01d52e4c9296daf913510d5901",
            "02c3df890a44442faff04b3ce824cffb",
            "1cc02be4f2624836ad449276c566106d"
          ]
        }
      },
      "outputs": [
        {
          "output_type": "display_data",
          "data": {
            "text/plain": [
              "  0%|          | 0/2500 [00:00<?, ?it/s]"
            ],
            "application/vnd.jupyter.widget-view+json": {
              "version_major": 2,
              "version_minor": 0,
              "model_id": "3938c759797c41be97b4b95109fa3d0e"
            }
          },
          "metadata": {}
        },
        {
          "output_type": "stream",
          "name": "stdout",
          "text": [
            "Step 0, Loss: 4.7059431076049805, learning rate: [0.05]\n",
            "Step 100, Loss: 3.478221538066864, learning rate: [0.05]\n",
            "Step 200, Loss: 2.5719420528411865, learning rate: [0.05]\n",
            "Step 300, Loss: 2.265963513851166, learning rate: [0.05]\n",
            "Step 400, Loss: 2.1206843531131745, learning rate: [0.05]\n",
            "Step 500, Loss: 2.051493195295334, learning rate: [0.05]\n",
            "Step 600, Loss: 2.0365638756752014, learning rate: [0.05]\n",
            "Step 700, Loss: 2.0688062584400178, learning rate: [0.05]\n",
            "Step 800, Loss: 2.0628427481651306, learning rate: [0.025]\n",
            "Step 900, Loss: 1.9578537130355835, learning rate: [0.025]\n",
            "Step 1000, Loss: 1.8844396662712097, learning rate: [0.025]\n",
            "Step 1100, Loss: 1.8387134313583373, learning rate: [0.025]\n",
            "Step 1200, Loss: 1.7963686048984528, learning rate: [0.0125]\n",
            "Step 1300, Loss: 1.7267052519321442, learning rate: [0.00625]\n",
            "Step 1400, Loss: 1.7142123007774352, learning rate: [0.00625]\n",
            "Step 1500, Loss: 1.678995019197464, learning rate: [0.00625]\n",
            "Step 1600, Loss: 1.652806466817856, learning rate: [0.003125]\n",
            "Step 1700, Loss: 1.6374844932556152, learning rate: [0.0015625]\n",
            "Step 1800, Loss: 1.6429821741580963, learning rate: [0.0015625]\n",
            "Step 1900, Loss: 1.635005999803543, learning rate: [0.00078125]\n",
            "Step 2000, Loss: 1.626636325120926, learning rate: [0.000390625]\n",
            "Step 2100, Loss: 1.6267140853404998, learning rate: [0.000390625]\n",
            "Step 2200, Loss: 1.6274306130409242, learning rate: [0.0001953125]\n",
            "Step 2300, Loss: 1.6290829968452454, learning rate: [9.765625e-05]\n",
            "Step 2400, Loss: 1.6038956224918366, learning rate: [9.765625e-05]\n"
          ]
        }
      ],
      "source": [
        "steps = 2500\n",
        "batch_size = 512\n",
        "train_skipgram_with_neg_sampling(\n",
        "    model,\n",
        "    context_pairs,\n",
        "    keep_prob_array,\n",
        "    word_to_index,\n",
        "    batch_size,\n",
        "    num_negatives,\n",
        "    negative_sampling_prob_array,\n",
        "    steps,\n",
        ")"
      ]
    },
    {
      "cell_type": "markdown",
      "metadata": {
        "id": "_-KpXklD0Ah7"
      },
      "source": [
        "Наконец, используйте полученную матрицу весов в качестве матрицы в векторными представлениями слов. Рекомендуем использовать для сдачи матрицу, которая отвечала за слова из контекста (т.е. декодера)."
      ]
    },
    {
      "cell_type": "code",
      "execution_count": 26,
      "metadata": {
        "id": "pb2e_5Fd0Ah7"
      },
      "outputs": [],
      "source": [
        "_model_parameters = model.parameters()\n",
        "embedding_matrix_center = next(\n",
        "    _model_parameters\n",
        ").detach()  # Assuming that first matrix was for central word\n",
        "embedding_matrix_context = next(\n",
        "    _model_parameters\n",
        ").detach()  # Assuming that second matrix was for context word"
      ]
    },
    {
      "cell_type": "code",
      "execution_count": 27,
      "metadata": {
        "id": "YadsCF3n0Ah8"
      },
      "outputs": [],
      "source": [
        "def get_word_vector(word, embedding_matrix, word_to_index=word_to_index):\n",
        "    return embedding_matrix[word_to_index[word]]"
      ]
    },
    {
      "cell_type": "code",
      "source": [],
      "metadata": {
        "id": "YJdE44_FsNmF"
      },
      "execution_count": null,
      "outputs": []
    },
    {
      "cell_type": "markdown",
      "metadata": {
        "id": "8ILFfa1B0Ah8"
      },
      "source": [
        "Простые проверки:"
      ]
    },
    {
      "cell_type": "code",
      "execution_count": 29,
      "metadata": {
        "id": "0fvJI5JJ0AiF",
        "outputId": "2b52e588-10ad-4152-cff7-eac190edacb2",
        "colab": {
          "base_uri": "https://localhost:8080/",
          "height": 176
        }
      },
      "outputs": [
        {
          "output_type": "error",
          "ename": "AssertionError",
          "evalue": "",
          "traceback": [
            "\u001b[0;31m---------------------------------------------------------------------------\u001b[0m",
            "\u001b[0;31mAssertionError\u001b[0m                            Traceback (most recent call last)",
            "\u001b[0;32m<ipython-input-29-16bed20f46b1>\u001b[0m in \u001b[0;36m<cell line: 9>\u001b[0;34m()\u001b[0m\n\u001b[1;32m      7\u001b[0m     \u001b[0mget_word_vector\u001b[0m\u001b[0;34m(\u001b[0m\u001b[0;34m\"dell\"\u001b[0m\u001b[0;34m,\u001b[0m \u001b[0membedding_matrix_context\u001b[0m\u001b[0;34m)\u001b[0m\u001b[0;34m[\u001b[0m\u001b[0;32mNone\u001b[0m\u001b[0;34m,\u001b[0m \u001b[0;34m:\u001b[0m\u001b[0;34m]\u001b[0m\u001b[0;34m,\u001b[0m\u001b[0;34m\u001b[0m\u001b[0;34m\u001b[0m\u001b[0m\n\u001b[1;32m      8\u001b[0m )\n\u001b[0;32m----> 9\u001b[0;31m \u001b[0;32massert\u001b[0m \u001b[0msimilarity_1\u001b[0m \u001b[0;34m>\u001b[0m \u001b[0msimilarity_2\u001b[0m\u001b[0;34m\u001b[0m\u001b[0;34m\u001b[0m\u001b[0m\n\u001b[0m",
            "\u001b[0;31mAssertionError\u001b[0m: "
          ]
        }
      ],
      "source": [
        "similarity_1 = F.cosine_similarity(\n",
        "    get_word_vector(\"iphone\", embedding_matrix_context)[None, :],\n",
        "    get_word_vector(\"apple\", embedding_matrix_context)[None, :],\n",
        ")\n",
        "similarity_2 = F.cosine_similarity(\n",
        "    get_word_vector(\"iphone\", embedding_matrix_context)[None, :],\n",
        "    get_word_vector(\"dell\", embedding_matrix_context)[None, :],\n",
        ")\n",
        "assert similarity_1 > similarity_2"
      ]
    },
    {
      "cell_type": "code",
      "execution_count": 30,
      "metadata": {
        "id": "kFZXODvM0AiF",
        "outputId": "c184d4a6-b1bf-43e3-d32a-1b26d438ca3b",
        "colab": {
          "base_uri": "https://localhost:8080/",
          "height": 176
        }
      },
      "outputs": [
        {
          "output_type": "error",
          "ename": "AssertionError",
          "evalue": "",
          "traceback": [
            "\u001b[0;31m---------------------------------------------------------------------------\u001b[0m",
            "\u001b[0;31mAssertionError\u001b[0m                            Traceback (most recent call last)",
            "\u001b[0;32m<ipython-input-30-e507153c32d6>\u001b[0m in \u001b[0;36m<cell line: 9>\u001b[0;34m()\u001b[0m\n\u001b[1;32m      7\u001b[0m     \u001b[0mget_word_vector\u001b[0m\u001b[0;34m(\u001b[0m\u001b[0;34m\"macbook\"\u001b[0m\u001b[0;34m,\u001b[0m \u001b[0membedding_matrix_context\u001b[0m\u001b[0;34m)\u001b[0m\u001b[0;34m[\u001b[0m\u001b[0;32mNone\u001b[0m\u001b[0;34m,\u001b[0m \u001b[0;34m:\u001b[0m\u001b[0;34m]\u001b[0m\u001b[0;34m,\u001b[0m\u001b[0;34m\u001b[0m\u001b[0;34m\u001b[0m\u001b[0m\n\u001b[1;32m      8\u001b[0m )\n\u001b[0;32m----> 9\u001b[0;31m \u001b[0;32massert\u001b[0m \u001b[0msimilarity_1\u001b[0m \u001b[0;34m>\u001b[0m \u001b[0msimilarity_2\u001b[0m\u001b[0;34m\u001b[0m\u001b[0;34m\u001b[0m\u001b[0m\n\u001b[0m",
            "\u001b[0;31mAssertionError\u001b[0m: "
          ]
        }
      ],
      "source": [
        "similarity_1 = F.cosine_similarity(\n",
        "    get_word_vector(\"windows\", embedding_matrix_context)[None, :],\n",
        "    get_word_vector(\"laptop\", embedding_matrix_context)[None, :],\n",
        ")\n",
        "similarity_2 = F.cosine_similarity(\n",
        "    get_word_vector(\"windows\", embedding_matrix_context)[None, :],\n",
        "    get_word_vector(\"macbook\", embedding_matrix_context)[None, :],\n",
        ")\n",
        "assert similarity_1 > similarity_2"
      ]
    },
    {
      "cell_type": "markdown",
      "metadata": {
        "id": "n2MBJPNh0AiG"
      },
      "source": [
        "Наконец, взглянем на ближайшие по косинусной мере слова. Функция реализована ниже."
      ]
    },
    {
      "cell_type": "code",
      "execution_count": 31,
      "metadata": {
        "id": "dA0V6rOYtsLk"
      },
      "outputs": [],
      "source": [
        "def find_nearest(word, embedding_matrix, word_to_index=word_to_index, k=10):\n",
        "    word_vector = get_word_vector(word, embedding_matrix)[None, :]\n",
        "    dists = F.cosine_similarity(embedding_matrix, word_vector)\n",
        "    index_sorted = torch.argsort(dists)\n",
        "    top_k = index_sorted[-k:]\n",
        "    return [(index_to_word[x], dists[x].item()) for x in top_k.numpy()]"
      ]
    },
    {
      "cell_type": "code",
      "execution_count": 32,
      "metadata": {
        "id": "iSdhawDE0AiG",
        "outputId": "45ee6d4e-46d6-47c2-813c-59bda9a35354",
        "colab": {
          "base_uri": "https://localhost:8080/"
        }
      },
      "outputs": [
        {
          "output_type": "execute_result",
          "data": {
            "text/plain": [
              "[('tableau', 0.6574414372444153),\n",
              " ('cringe', 0.6597863435745239),\n",
              " ('elss', 0.6679767370223999),\n",
              " ('zerg', 0.6690899729728699),\n",
              " ('himalayas', 0.6701554656028748),\n",
              " ('kegel', 0.6717036962509155),\n",
              " ('pdfs', 0.6784303784370422),\n",
              " ('xamarin', 0.6886854767799377),\n",
              " ('rifled', 0.6961446404457092),\n",
              " ('python', 0.9999999403953552)]"
            ]
          },
          "metadata": {},
          "execution_count": 32
        }
      ],
      "source": [
        "find_nearest(\"python\", embedding_matrix_context, k=10)"
      ]
    },
    {
      "cell_type": "markdown",
      "metadata": {
        "id": "DvJibF2_0AiH"
      },
      "source": [
        "Также вы можете визуально проверить, как представлены в латентном пространстве часто встречающиеся слова."
      ]
    },
    {
      "cell_type": "code",
      "execution_count": 33,
      "metadata": {
        "id": "CdtiZ8io0AiH"
      },
      "outputs": [],
      "source": [
        "top_k = 5000\n",
        "_top_words = sorted([x for x in word_count_dict.items()], key=lambda x: x[1])[\n",
        "    -top_k - 100 : -100\n",
        "]  # ignoring 100 most frequent words\n",
        "top_words = [x[0] for x in _top_words]\n",
        "del _top_words"
      ]
    },
    {
      "cell_type": "code",
      "execution_count": 34,
      "metadata": {
        "id": "awzJcHdn0AiH"
      },
      "outputs": [],
      "source": [
        "word_embeddings = torch.cat(\n",
        "    [embedding_matrix_context[word_to_index[x]][None, :] for x in top_words], dim=0\n",
        ").numpy()"
      ]
    },
    {
      "cell_type": "code",
      "execution_count": 35,
      "metadata": {
        "id": "PiMOaRvr0AiI"
      },
      "outputs": [],
      "source": [
        "import bokeh.models as bm\n",
        "import bokeh.plotting as pl\n",
        "from bokeh.io import output_notebook\n",
        "\n",
        "output_notebook()\n",
        "\n",
        "\n",
        "def draw_vectors(\n",
        "    x,\n",
        "    y,\n",
        "    radius=10,\n",
        "    alpha=0.25,\n",
        "    color=\"blue\",\n",
        "    width=600,\n",
        "    height=400,\n",
        "    show=True,\n",
        "    **kwargs,\n",
        "):\n",
        "    \"\"\"draws an interactive plot for data points with auxilirary info on hover\"\"\"\n",
        "    if isinstance(color, str):\n",
        "        color = [color] * len(x)\n",
        "    data_source = bm.ColumnDataSource({\"x\": x, \"y\": y, \"color\": color, **kwargs})\n",
        "\n",
        "    fig = pl.figure(active_scroll=\"wheel_zoom\", width=width, height=height)\n",
        "    fig.scatter(\"x\", \"y\", size=radius, color=\"color\", alpha=alpha, source=data_source)\n",
        "\n",
        "    fig.add_tools(bm.HoverTool(tooltips=[(key, \"@\" + key) for key in kwargs.keys()]))\n",
        "    if show:\n",
        "        pl.show(fig)\n",
        "    return fig"
      ]
    },
    {
      "cell_type": "code",
      "execution_count": 36,
      "metadata": {
        "id": "XUvE4K5-0AiI"
      },
      "outputs": [],
      "source": [
        "embedding = umap.UMAP(n_neighbors=5).fit_transform(word_embeddings)"
      ]
    },
    {
      "cell_type": "code",
      "execution_count": 37,
      "metadata": {
        "id": "GLrOjRuC0AiI",
        "outputId": "c92c2588-3f27-4928-9a95-25fb3b7143cf",
        "colab": {
          "base_uri": "https://localhost:8080/",
          "height": 434
        }
      },
      "outputs": [
        {
          "output_type": "display_data",
          "data": {
            "application/javascript": [
              "'use strict';\n",
              "(function(root) {\n",
              "  function now() {\n",
              "    return new Date();\n",
              "  }\n",
              "\n",
              "  const force = true;\n",
              "\n",
              "  if (typeof root._bokeh_onload_callbacks === \"undefined\" || force === true) {\n",
              "    root._bokeh_onload_callbacks = [];\n",
              "    root._bokeh_is_loading = undefined;\n",
              "  }\n",
              "\n",
              "const JS_MIME_TYPE = 'application/javascript';\n",
              "  const HTML_MIME_TYPE = 'text/html';\n",
              "  const EXEC_MIME_TYPE = 'application/vnd.bokehjs_exec.v0+json';\n",
              "  const CLASS_NAME = 'output_bokeh rendered_html';\n",
              "\n",
              "  /**\n",
              "   * Render data to the DOM node\n",
              "   */\n",
              "  function render(props, node) {\n",
              "    const script = document.createElement(\"script\");\n",
              "    node.appendChild(script);\n",
              "  }\n",
              "\n",
              "  /**\n",
              "   * Handle when an output is cleared or removed\n",
              "   */\n",
              "  function handleClearOutput(event, handle) {\n",
              "    function drop(id) {\n",
              "      const view = Bokeh.index.get_by_id(id)\n",
              "      if (view != null) {\n",
              "        view.model.document.clear()\n",
              "        Bokeh.index.delete(view)\n",
              "      }\n",
              "    }\n",
              "\n",
              "    const cell = handle.cell;\n",
              "\n",
              "    const id = cell.output_area._bokeh_element_id;\n",
              "    const server_id = cell.output_area._bokeh_server_id;\n",
              "\n",
              "    // Clean up Bokeh references\n",
              "    if (id != null) {\n",
              "      drop(id)\n",
              "    }\n",
              "\n",
              "    if (server_id !== undefined) {\n",
              "      // Clean up Bokeh references\n",
              "      const cmd_clean = \"from bokeh.io.state import curstate; print(curstate().uuid_to_server['\" + server_id + \"'].get_sessions()[0].document.roots[0]._id)\";\n",
              "      cell.notebook.kernel.execute(cmd_clean, {\n",
              "        iopub: {\n",
              "          output: function(msg) {\n",
              "            const id = msg.content.text.trim()\n",
              "            drop(id)\n",
              "          }\n",
              "        }\n",
              "      });\n",
              "      // Destroy server and session\n",
              "      const cmd_destroy = \"import bokeh.io.notebook as ion; ion.destroy_server('\" + server_id + \"')\";\n",
              "      cell.notebook.kernel.execute(cmd_destroy);\n",
              "    }\n",
              "  }\n",
              "\n",
              "  /**\n",
              "   * Handle when a new output is added\n",
              "   */\n",
              "  function handleAddOutput(event, handle) {\n",
              "    const output_area = handle.output_area;\n",
              "    const output = handle.output;\n",
              "\n",
              "    // limit handleAddOutput to display_data with EXEC_MIME_TYPE content only\n",
              "    if ((output.output_type != \"display_data\") || (!Object.prototype.hasOwnProperty.call(output.data, EXEC_MIME_TYPE))) {\n",
              "      return\n",
              "    }\n",
              "\n",
              "    const toinsert = output_area.element.find(\".\" + CLASS_NAME.split(' ')[0]);\n",
              "\n",
              "    if (output.metadata[EXEC_MIME_TYPE][\"id\"] !== undefined) {\n",
              "      toinsert[toinsert.length - 1].firstChild.textContent = output.data[JS_MIME_TYPE];\n",
              "      // store reference to embed id on output_area\n",
              "      output_area._bokeh_element_id = output.metadata[EXEC_MIME_TYPE][\"id\"];\n",
              "    }\n",
              "    if (output.metadata[EXEC_MIME_TYPE][\"server_id\"] !== undefined) {\n",
              "      const bk_div = document.createElement(\"div\");\n",
              "      bk_div.innerHTML = output.data[HTML_MIME_TYPE];\n",
              "      const script_attrs = bk_div.children[0].attributes;\n",
              "      for (let i = 0; i < script_attrs.length; i++) {\n",
              "        toinsert[toinsert.length - 1].firstChild.setAttribute(script_attrs[i].name, script_attrs[i].value);\n",
              "        toinsert[toinsert.length - 1].firstChild.textContent = bk_div.children[0].textContent\n",
              "      }\n",
              "      // store reference to server id on output_area\n",
              "      output_area._bokeh_server_id = output.metadata[EXEC_MIME_TYPE][\"server_id\"];\n",
              "    }\n",
              "  }\n",
              "\n",
              "  function register_renderer(events, OutputArea) {\n",
              "\n",
              "    function append_mime(data, metadata, element) {\n",
              "      // create a DOM node to render to\n",
              "      const toinsert = this.create_output_subarea(\n",
              "        metadata,\n",
              "        CLASS_NAME,\n",
              "        EXEC_MIME_TYPE\n",
              "      );\n",
              "      this.keyboard_manager.register_events(toinsert);\n",
              "      // Render to node\n",
              "      const props = {data: data, metadata: metadata[EXEC_MIME_TYPE]};\n",
              "      render(props, toinsert[toinsert.length - 1]);\n",
              "      element.append(toinsert);\n",
              "      return toinsert\n",
              "    }\n",
              "\n",
              "    /* Handle when an output is cleared or removed */\n",
              "    events.on('clear_output.CodeCell', handleClearOutput);\n",
              "    events.on('delete.Cell', handleClearOutput);\n",
              "\n",
              "    /* Handle when a new output is added */\n",
              "    events.on('output_added.OutputArea', handleAddOutput);\n",
              "\n",
              "    /**\n",
              "     * Register the mime type and append_mime function with output_area\n",
              "     */\n",
              "    OutputArea.prototype.register_mime_type(EXEC_MIME_TYPE, append_mime, {\n",
              "      /* Is output safe? */\n",
              "      safe: true,\n",
              "      /* Index of renderer in `output_area.display_order` */\n",
              "      index: 0\n",
              "    });\n",
              "  }\n",
              "\n",
              "  // register the mime type if in Jupyter Notebook environment and previously unregistered\n",
              "  if (root.Jupyter !== undefined) {\n",
              "    const events = require('base/js/events');\n",
              "    const OutputArea = require('notebook/js/outputarea').OutputArea;\n",
              "\n",
              "    if (OutputArea.prototype.mime_types().indexOf(EXEC_MIME_TYPE) == -1) {\n",
              "      register_renderer(events, OutputArea);\n",
              "    }\n",
              "  }\n",
              "  if (typeof (root._bokeh_timeout) === \"undefined\" || force === true) {\n",
              "    root._bokeh_timeout = Date.now() + 5000;\n",
              "    root._bokeh_failed_load = false;\n",
              "  }\n",
              "\n",
              "  const NB_LOAD_WARNING = {'data': {'text/html':\n",
              "     \"<div style='background-color: #fdd'>\\n\"+\n",
              "     \"<p>\\n\"+\n",
              "     \"BokehJS does not appear to have successfully loaded. If loading BokehJS from CDN, this \\n\"+\n",
              "     \"may be due to a slow or bad network connection. Possible fixes:\\n\"+\n",
              "     \"</p>\\n\"+\n",
              "     \"<ul>\\n\"+\n",
              "     \"<li>re-rerun `output_notebook()` to attempt to load from CDN again, or</li>\\n\"+\n",
              "     \"<li>use INLINE resources instead, as so:</li>\\n\"+\n",
              "     \"</ul>\\n\"+\n",
              "     \"<code>\\n\"+\n",
              "     \"from bokeh.resources import INLINE\\n\"+\n",
              "     \"output_notebook(resources=INLINE)\\n\"+\n",
              "     \"</code>\\n\"+\n",
              "     \"</div>\"}};\n",
              "\n",
              "  function display_loaded(error = null) {\n",
              "    const el = document.getElementById(null);\n",
              "    if (el != null) {\n",
              "      const html = (() => {\n",
              "        if (typeof root.Bokeh === \"undefined\") {\n",
              "          if (error == null) {\n",
              "            return \"BokehJS is loading ...\";\n",
              "          } else {\n",
              "            return \"BokehJS failed to load.\";\n",
              "          }\n",
              "        } else {\n",
              "          const prefix = `BokehJS ${root.Bokeh.version}`;\n",
              "          if (error == null) {\n",
              "            return `${prefix} successfully loaded.`;\n",
              "          } else {\n",
              "            return `${prefix} <b>encountered errors</b> while loading and may not function as expected.`;\n",
              "          }\n",
              "        }\n",
              "      })();\n",
              "      el.innerHTML = html;\n",
              "\n",
              "      if (error != null) {\n",
              "        const wrapper = document.createElement(\"div\");\n",
              "        wrapper.style.overflow = \"auto\";\n",
              "        wrapper.style.height = \"5em\";\n",
              "        wrapper.style.resize = \"vertical\";\n",
              "        const content = document.createElement(\"div\");\n",
              "        content.style.fontFamily = \"monospace\";\n",
              "        content.style.whiteSpace = \"pre-wrap\";\n",
              "        content.style.backgroundColor = \"rgb(255, 221, 221)\";\n",
              "        content.textContent = error.stack ?? error.toString();\n",
              "        wrapper.append(content);\n",
              "        el.append(wrapper);\n",
              "      }\n",
              "    } else if (Date.now() < root._bokeh_timeout) {\n",
              "      setTimeout(() => display_loaded(error), 100);\n",
              "    }\n",
              "  }\n",
              "\n",
              "  function run_callbacks() {\n",
              "    try {\n",
              "      root._bokeh_onload_callbacks.forEach(function(callback) {\n",
              "        if (callback != null)\n",
              "          callback();\n",
              "      });\n",
              "    } finally {\n",
              "      delete root._bokeh_onload_callbacks\n",
              "    }\n",
              "    console.debug(\"Bokeh: all callbacks have finished\");\n",
              "  }\n",
              "\n",
              "  function load_libs(css_urls, js_urls, callback) {\n",
              "    if (css_urls == null) css_urls = [];\n",
              "    if (js_urls == null) js_urls = [];\n",
              "\n",
              "    root._bokeh_onload_callbacks.push(callback);\n",
              "    if (root._bokeh_is_loading > 0) {\n",
              "      console.debug(\"Bokeh: BokehJS is being loaded, scheduling callback at\", now());\n",
              "      return null;\n",
              "    }\n",
              "    if (js_urls == null || js_urls.length === 0) {\n",
              "      run_callbacks();\n",
              "      return null;\n",
              "    }\n",
              "    console.debug(\"Bokeh: BokehJS not loaded, scheduling load and callback at\", now());\n",
              "    root._bokeh_is_loading = css_urls.length + js_urls.length;\n",
              "\n",
              "    function on_load() {\n",
              "      root._bokeh_is_loading--;\n",
              "      if (root._bokeh_is_loading === 0) {\n",
              "        console.debug(\"Bokeh: all BokehJS libraries/stylesheets loaded\");\n",
              "        run_callbacks()\n",
              "      }\n",
              "    }\n",
              "\n",
              "    function on_error(url) {\n",
              "      console.error(\"failed to load \" + url);\n",
              "    }\n",
              "\n",
              "    for (let i = 0; i < css_urls.length; i++) {\n",
              "      const url = css_urls[i];\n",
              "      const element = document.createElement(\"link\");\n",
              "      element.onload = on_load;\n",
              "      element.onerror = on_error.bind(null, url);\n",
              "      element.rel = \"stylesheet\";\n",
              "      element.type = \"text/css\";\n",
              "      element.href = url;\n",
              "      console.debug(\"Bokeh: injecting link tag for BokehJS stylesheet: \", url);\n",
              "      document.body.appendChild(element);\n",
              "    }\n",
              "\n",
              "    for (let i = 0; i < js_urls.length; i++) {\n",
              "      const url = js_urls[i];\n",
              "      const element = document.createElement('script');\n",
              "      element.onload = on_load;\n",
              "      element.onerror = on_error.bind(null, url);\n",
              "      element.async = false;\n",
              "      element.src = url;\n",
              "      console.debug(\"Bokeh: injecting script tag for BokehJS library: \", url);\n",
              "      document.head.appendChild(element);\n",
              "    }\n",
              "  };\n",
              "\n",
              "  function inject_raw_css(css) {\n",
              "    const element = document.createElement(\"style\");\n",
              "    element.appendChild(document.createTextNode(css));\n",
              "    document.body.appendChild(element);\n",
              "  }\n",
              "\n",
              "  const js_urls = [\"https://cdn.bokeh.org/bokeh/release/bokeh-3.6.0.min.js\", \"https://cdn.bokeh.org/bokeh/release/bokeh-gl-3.6.0.min.js\", \"https://cdn.bokeh.org/bokeh/release/bokeh-widgets-3.6.0.min.js\", \"https://cdn.bokeh.org/bokeh/release/bokeh-tables-3.6.0.min.js\", \"https://cdn.bokeh.org/bokeh/release/bokeh-mathjax-3.6.0.min.js\"];\n",
              "  const css_urls = [];\n",
              "\n",
              "  const inline_js = [    function(Bokeh) {\n",
              "      Bokeh.set_log_level(\"info\");\n",
              "    },\n",
              "function(Bokeh) {\n",
              "    }\n",
              "  ];\n",
              "\n",
              "  function run_inline_js() {\n",
              "    if (root.Bokeh !== undefined || force === true) {\n",
              "      try {\n",
              "            for (let i = 0; i < inline_js.length; i++) {\n",
              "      inline_js[i].call(root, root.Bokeh);\n",
              "    }\n",
              "\n",
              "      } catch (error) {throw error;\n",
              "      }} else if (Date.now() < root._bokeh_timeout) {\n",
              "      setTimeout(run_inline_js, 100);\n",
              "    } else if (!root._bokeh_failed_load) {\n",
              "      console.log(\"Bokeh: BokehJS failed to load within specified timeout.\");\n",
              "      root._bokeh_failed_load = true;\n",
              "    } else if (force !== true) {\n",
              "      const cell = $(document.getElementById(null)).parents('.cell').data().cell;\n",
              "      cell.output_area.append_execute_result(NB_LOAD_WARNING)\n",
              "    }\n",
              "  }\n",
              "\n",
              "  if (root._bokeh_is_loading === 0) {\n",
              "    console.debug(\"Bokeh: BokehJS loaded, going straight to plotting\");\n",
              "    run_inline_js();\n",
              "  } else {\n",
              "    load_libs(css_urls, js_urls, function() {\n",
              "      console.debug(\"Bokeh: BokehJS plotting callback run at\", now());\n",
              "      run_inline_js();\n",
              "    });\n",
              "  }\n",
              "}(window));"
            ],
            "application/vnd.bokehjs_load.v0+json": "'use strict';\n(function(root) {\n  function now() {\n    return new Date();\n  }\n\n  const force = true;\n\n  if (typeof root._bokeh_onload_callbacks === \"undefined\" || force === true) {\n    root._bokeh_onload_callbacks = [];\n    root._bokeh_is_loading = undefined;\n  }\n\n\n  if (typeof (root._bokeh_timeout) === \"undefined\" || force === true) {\n    root._bokeh_timeout = Date.now() + 5000;\n    root._bokeh_failed_load = false;\n  }\n\n  const NB_LOAD_WARNING = {'data': {'text/html':\n     \"<div style='background-color: #fdd'>\\n\"+\n     \"<p>\\n\"+\n     \"BokehJS does not appear to have successfully loaded. If loading BokehJS from CDN, this \\n\"+\n     \"may be due to a slow or bad network connection. Possible fixes:\\n\"+\n     \"</p>\\n\"+\n     \"<ul>\\n\"+\n     \"<li>re-rerun `output_notebook()` to attempt to load from CDN again, or</li>\\n\"+\n     \"<li>use INLINE resources instead, as so:</li>\\n\"+\n     \"</ul>\\n\"+\n     \"<code>\\n\"+\n     \"from bokeh.resources import INLINE\\n\"+\n     \"output_notebook(resources=INLINE)\\n\"+\n     \"</code>\\n\"+\n     \"</div>\"}};\n\n  function display_loaded(error = null) {\n    const el = document.getElementById(null);\n    if (el != null) {\n      const html = (() => {\n        if (typeof root.Bokeh === \"undefined\") {\n          if (error == null) {\n            return \"BokehJS is loading ...\";\n          } else {\n            return \"BokehJS failed to load.\";\n          }\n        } else {\n          const prefix = `BokehJS ${root.Bokeh.version}`;\n          if (error == null) {\n            return `${prefix} successfully loaded.`;\n          } else {\n            return `${prefix} <b>encountered errors</b> while loading and may not function as expected.`;\n          }\n        }\n      })();\n      el.innerHTML = html;\n\n      if (error != null) {\n        const wrapper = document.createElement(\"div\");\n        wrapper.style.overflow = \"auto\";\n        wrapper.style.height = \"5em\";\n        wrapper.style.resize = \"vertical\";\n        const content = document.createElement(\"div\");\n        content.style.fontFamily = \"monospace\";\n        content.style.whiteSpace = \"pre-wrap\";\n        content.style.backgroundColor = \"rgb(255, 221, 221)\";\n        content.textContent = error.stack ?? error.toString();\n        wrapper.append(content);\n        el.append(wrapper);\n      }\n    } else if (Date.now() < root._bokeh_timeout) {\n      setTimeout(() => display_loaded(error), 100);\n    }\n  }\n\n  function run_callbacks() {\n    try {\n      root._bokeh_onload_callbacks.forEach(function(callback) {\n        if (callback != null)\n          callback();\n      });\n    } finally {\n      delete root._bokeh_onload_callbacks\n    }\n    console.debug(\"Bokeh: all callbacks have finished\");\n  }\n\n  function load_libs(css_urls, js_urls, callback) {\n    if (css_urls == null) css_urls = [];\n    if (js_urls == null) js_urls = [];\n\n    root._bokeh_onload_callbacks.push(callback);\n    if (root._bokeh_is_loading > 0) {\n      console.debug(\"Bokeh: BokehJS is being loaded, scheduling callback at\", now());\n      return null;\n    }\n    if (js_urls == null || js_urls.length === 0) {\n      run_callbacks();\n      return null;\n    }\n    console.debug(\"Bokeh: BokehJS not loaded, scheduling load and callback at\", now());\n    root._bokeh_is_loading = css_urls.length + js_urls.length;\n\n    function on_load() {\n      root._bokeh_is_loading--;\n      if (root._bokeh_is_loading === 0) {\n        console.debug(\"Bokeh: all BokehJS libraries/stylesheets loaded\");\n        run_callbacks()\n      }\n    }\n\n    function on_error(url) {\n      console.error(\"failed to load \" + url);\n    }\n\n    for (let i = 0; i < css_urls.length; i++) {\n      const url = css_urls[i];\n      const element = document.createElement(\"link\");\n      element.onload = on_load;\n      element.onerror = on_error.bind(null, url);\n      element.rel = \"stylesheet\";\n      element.type = \"text/css\";\n      element.href = url;\n      console.debug(\"Bokeh: injecting link tag for BokehJS stylesheet: \", url);\n      document.body.appendChild(element);\n    }\n\n    for (let i = 0; i < js_urls.length; i++) {\n      const url = js_urls[i];\n      const element = document.createElement('script');\n      element.onload = on_load;\n      element.onerror = on_error.bind(null, url);\n      element.async = false;\n      element.src = url;\n      console.debug(\"Bokeh: injecting script tag for BokehJS library: \", url);\n      document.head.appendChild(element);\n    }\n  };\n\n  function inject_raw_css(css) {\n    const element = document.createElement(\"style\");\n    element.appendChild(document.createTextNode(css));\n    document.body.appendChild(element);\n  }\n\n  const js_urls = [\"https://cdn.bokeh.org/bokeh/release/bokeh-3.6.0.min.js\", \"https://cdn.bokeh.org/bokeh/release/bokeh-gl-3.6.0.min.js\", \"https://cdn.bokeh.org/bokeh/release/bokeh-widgets-3.6.0.min.js\", \"https://cdn.bokeh.org/bokeh/release/bokeh-tables-3.6.0.min.js\", \"https://cdn.bokeh.org/bokeh/release/bokeh-mathjax-3.6.0.min.js\"];\n  const css_urls = [];\n\n  const inline_js = [    function(Bokeh) {\n      Bokeh.set_log_level(\"info\");\n    },\nfunction(Bokeh) {\n    }\n  ];\n\n  function run_inline_js() {\n    if (root.Bokeh !== undefined || force === true) {\n      try {\n            for (let i = 0; i < inline_js.length; i++) {\n      inline_js[i].call(root, root.Bokeh);\n    }\n\n      } catch (error) {throw error;\n      }} else if (Date.now() < root._bokeh_timeout) {\n      setTimeout(run_inline_js, 100);\n    } else if (!root._bokeh_failed_load) {\n      console.log(\"Bokeh: BokehJS failed to load within specified timeout.\");\n      root._bokeh_failed_load = true;\n    } else if (force !== true) {\n      const cell = $(document.getElementById(null)).parents('.cell').data().cell;\n      cell.output_area.append_execute_result(NB_LOAD_WARNING)\n    }\n  }\n\n  if (root._bokeh_is_loading === 0) {\n    console.debug(\"Bokeh: BokehJS loaded, going straight to plotting\");\n    run_inline_js();\n  } else {\n    load_libs(css_urls, js_urls, function() {\n      console.debug(\"Bokeh: BokehJS plotting callback run at\", now());\n      run_inline_js();\n    });\n  }\n}(window));"
          },
          "metadata": {}
        },
        {
          "output_type": "display_data",
          "data": {
            "text/html": [
              "\n",
              "  <div id=\"b586d28b-fccb-4d86-82e2-8345168fbfa9\" data-root-id=\"p1004\" style=\"display: contents;\"></div>\n"
            ]
          },
          "metadata": {}
        },
        {
          "output_type": "display_data",
          "data": {
            "application/javascript": [
              "(function(root) {\n",
              "  function embed_document(root) {\n",
              "  const docs_json = {\"2c3247b3-85d6-4b15-a438-12ac9b7a62c9\":{\"version\":\"3.6.0\",\"title\":\"Bokeh Application\",\"roots\":[{\"type\":\"object\",\"name\":\"Figure\",\"id\":\"p1004\",\"attributes\":{\"height\":400,\"x_range\":{\"type\":\"object\",\"name\":\"DataRange1d\",\"id\":\"p1005\"},\"y_range\":{\"type\":\"object\",\"name\":\"DataRange1d\",\"id\":\"p1006\"},\"x_scale\":{\"type\":\"object\",\"name\":\"LinearScale\",\"id\":\"p1013\"},\"y_scale\":{\"type\":\"object\",\"name\":\"LinearScale\",\"id\":\"p1014\"},\"title\":{\"type\":\"object\",\"name\":\"Title\",\"id\":\"p1011\"},\"renderers\":[{\"type\":\"object\",\"name\":\"GlyphRenderer\",\"id\":\"p1044\",\"attributes\":{\"data_source\":{\"type\":\"object\",\"name\":\"ColumnDataSource\",\"id\":\"p1001\",\"attributes\":{\"selected\":{\"type\":\"object\",\"name\":\"Selection\",\"id\":\"p1002\",\"attributes\":{\"indices\":[],\"line_indices\":[]}},\"selection_policy\":{\"type\":\"object\",\"name\":\"UnionRenderers\",\"id\":\"p1003\"},\"data\":{\"type\":\"map\",\"entries\":[[\"x\",{\"type\":\"ndarray\",\"array\":{\"type\":\"bytes\",\"data\":\"WSTlQOKGGUFlMhJBEfn4QG7rDUGBXbBA0XoAQSvJ+ECYH7RAMMkCQfSVE0FhpZZA2//nQHSZskBVdXdAg9SvQEcjY0AfUglBonILQSi8y0BCbhJBT7ylQO1txEAA1ANBNfcQQQGUW0BphudAeCoGQcxkskBetgJB5eDWQKgSv0B3RNBAGu0KQVJB7UBf7ZVAkaJuQBpX+UC79gtBneSzQHUHhkCh69NA4w66QMIlD0HbJxVBABkPQZcw6kCdq9ZArf2iQAcJ7ECwvflA0HiiQAZqkkC7GaFALMADQQLs90CeUr9AXV7cQEBaDEERGXtAAIH6QA62kkBJnqBAnE1TQHn6gECQctVAKtbNQCrntkC0Q1tAr3ENQauEuEC3yRtBBR8DQaD/IEG3CbdAXl0IQf9QCUGN6+lAxTx6QON/kkBZjNJAM9MGQekgEEFw3AxBmOwGQZVgu0Cuw/RAf/akQOPZBkGcOtBA0lB3QCtp+0D18aFACZAVQQqQ0EBcdY1A/j72QG03p0CNHCFBa8jSQMtouEBF6+5A/e3wQL3Ri0BLCdhASRTXQDbkqkDBt55AY/b+QI1TykDmExFB3sLSQAnvA0HlTwdBPSntQBBmkED/a5tA+nm6QA7130Dt8YJA/EgdQYI1AkFOisFAuSkRQbCdhkCy2cBALcKvQNB6kUDFChRB3G0AQWEL00BcMO5Afci+QD5lzEDttxBBpKzGQPjBqEC2T7tAe6SBQOYT5EAlDAFBhoqDQArCGUFl4R1BRkZpQKhr10DCIxZBghumQGJOyEBmauVA2usiQWTbqkASZNpArrvSQFh5D0G/0/FAwuqFQKcMnECq7hJBHKycQKtK5EA0ewNBl/+wQC09/0CMCtJA4VbgQDm890An3hBBVRWSQDKRaEA9mhRB1wVWQDVDk0Bp0fJA6DYIQWFd40DAaIlAABsRQXt66kCgZHhAM84AQX5VvkA0uLxARrXRQN7MgUC26ZhA783/QKSRi0CMZQFBzfQiQfq630APexFBteb/QGYi0kByobJArJQPQXGU/kA+rstA+Qz0QH+B6EAptwNBVZIKQZnXGUEEPbVABRIDQbLnskCRPwBBNtW0QO5r50B9LrJACw3nQIAJqUCze8FARHTlQN4gckBr3hBBSdRSQHt32EC68LxACZ3LQMhWBkFKdNxAcnwTQfO8AUFZVNFAc52pQAvF8EBIWhhBihoXQWrTCUEjfA1B8NWiQPgj8kDQDrlAFF8aQVzzykBNRPBAgagMQdw7GEEl0cNAkmoDQX0ju0BeZ2tA22SoQNsSbUDJkGVA3OzsQOrewEDS3YBANjanQKa4k0DqY6pApDQKQQdxIUHFjc1An0aAQKVMo0DmsuVA658FQQVbUUBO3P1ALmKmQC9hokBRJ+5A9T0fQSIUEkF+OK1ACU8FQQ1dkUAojAhBHKOvQAXI40CacOtAEEyiQKH8FkFnT5JA0rTtQJbuykApV6FAAHARQY44j0DXNAFBLQCXQFXgsUATQGpASH4HQU7YA0Gk54xAtj0PQbvd6UBs79lA/amYQOayckA9woRAQu7eQHaX60BlruBAWg9tQPBjx0CngMZA/RJZQC9e6UDNaKNA1TYYQTvZ8UCzmshAZILsQCq2/0ATwgBBeD0QQajboUBHeQFBLxqiQJh0CkFX3slACkQbQY23YUCCYeFAoF5mQMpTBEEmv4dAK1gaQfTv20APaQdB8JQaQar3S0DkhRhBAM+kQBeahUCzaIhAwPofQbP2CEEz3udA1/iNQBVzA0FGzJ9AuUYNQaPBwUC54RxBL1UFQcI4f0As5LJAJyvCQC06iUDnEwxB9limQPwWFUFm9JtAMgcFQQU/G0FUME5A1o/+QDb8tEBPkOVAyIPRQLHArEAhDvNAU626QFBDEEGwrAVBe4XNQIlLzEBQCbZA0CYCQayHDEET4qJAyy3aQCx7HEFNF89Amde6QMb6ekCKat1AjLT+QO7azUBHMBtBZe4jQZuYnUB/NgRBLvgTQQHME0HvdbVA/ganQC/0XECsduBAiXkRQXanAUHRq+5Ahu6YQKHWjUCYRM9Atr/yQDDfvUCQiG1A7Y+dQGHMcEAPe6pAmgYPQeSf5EDlfLBAKdDfQJWp4UDPpA5B1AERQQPB50BD/opAeFbcQDF4F0HiIglBgjCAQJj0xUCiwgVBVT+UQLgyukBJW75A93oRQeGVvkCYHrRA03DNQKzrBUFFjgVB2CT4QLg3o0A0C+dA89bZQERSC0FFhAhBmRRwQNSi5kA9UOpA8zLNQHUIjkBwmaJA6DunQFPnnEDdjLtADJPYQPfVBUHO7+hAkZ3LQBkimEAsnhVBkWThQDYTA0H3y9ZASX6rQHDMhkDDiYxAzRQWQYQOEkHQ+OpAWbgKQXB1CEEPx/FAh6N7QOu5nEAxVYNAsEYRQa+c2ECfwQdB6WTcQBxH00DqXP9A3Mi4QNtGsEDdtIFAOKvDQHHd9kAeDtJAtirdQHlUG0Fe87tAviYXQaJjGUHVKxhBT0IMQemFyECvlAlBQyUWQcCyp0ASCAZBR1ohQa0rH0HRENJAdDoOQZPTx0CdnBRBsNsPQY8cB0FqGRBBS3SBQPe9o0AK/P9ADkPjQLcQuUCt0wVBSPbbQCnh5UA5lO1A/sWpQNfKAkGtSRZBcRvaQMKHkUCQwRVBULqmQMJAaEApiBVBAo0WQVkk40DtiOlAa9bmQEzphUAgXf9A04f7QCFwDUE6H9pAHXTSQHmo0EB5cw5BEEW9QIPrnkBM0vxARpmlQNiaEkEo+iJBH1cLQWKxtUBdSPpAe/QVQcizBEGLDwBByl4QQWnxxUD20gZBxYH1QBLb3EC6MhFBfQ2pQNSO4EDSsatAxaq7QMhN30D6Z5NAQEquQFjHC0ElcBNBeyP8QNSCokBes+hAt+zkQK2qykC17MFAVU4GQWnNjUDbHAVBOpfFQG3AuUAZBMlANTXiQKkiDEG8z/FA5wX8QCacDEGJUqhAqyjbQGpGrEBIpAhBM6rIQHtS+UADtGtAuKKkQCyhFEGHpOlAdVunQE5330C3IBVBP3INQY3WnkAE1udAiPa4QCqbAkFhS5RA0H8PQZZfqkB2sYBA/+IIQa7R70AuzQ5BkE6+QCKcCEFcLgJB4PnUQO3ut0DFHehAHkkIQWolnUAO+v5AvUPyQFTf70AktOJAh/6JQMdtnUAQ1bxA1iy6QKFqG0Fw7RFBeqEHQff1DEEwfqdADBMVQXplm0Bc2ARB5ZLGQD2OqkCXBAZB4WWmQCp00kAHeuZAOtwZQeaYXECYx+NAuofrQIGg5kAVBMtAb51cQNMOBEEPiOZANCbZQBweE0GwSQVBhN6jQCAErkAuIQNB7VziQMrcDUHZtgdBuFDsQBKnE0FhGwxBLuCSQFDc80DgvKlAzwADQbZJf0A0mpBARf7GQBRXyECTpI5AGhYJQYQQBkGEcvxAfj/SQGwUH0GHBBJBXNUEQXB9oEDYsB5BowgUQW+CBUH/bOBAP0jYQFEuA0GhSKJAa7XhQLJ9AkHo6uxAJHCaQI73BUEOQeRA+/4kQb3hq0BYzRlBSnm7QApbv0BxEqFAn9jwQPRn1kA+fBNBZC7CQAEtg0BHystA2n4NQY/Sn0Dr8ZZAcj4MQScy8ED5voRAJw4UQSL4vkCWZbNAaeUHQVuPvUChmx1Bczu5QGjZuUAnnAVBCAihQNVbyEA6mpBA/uSpQG//5kAHJN5AmV5+QJaYt0ASwsFAUdvRQEgq1EDrZAZBnrUaQUYIBUFahsNAjTmtQKD1tUCyAAhBVdaPQAvQvUAsQZxAwyi4QD/vEEGoPAJBhei9QBkvAUF7+4RAPlgIQY2u2kAuPhpBBMSOQLk6gEBwQdtAArZqQDL2DUGc3apANPfjQCo0nED3Zu5AujFwQIEzvECmjAhBzRL3QDEpFEEvsYVAm5vaQHOd+kBF/71At53RQMRF2kC0OspAdZkdQc2C8EALMN5ACCG4QBMLAEEOmIpAScPzQGi23kBFgRdBgQLUQPNav0AVk81Anue4QJOU70DmuwZB6TSGQEWdyUCS2MRAg9ZPQLjwEEHO69lAFmzjQH4auEB4ZeJAzbDMQCWDk0BaHQlBtCcHQYJehkATl4FAHfcVQZ9tx0BNN6tAxS+RQMOv8UD7hupA847jQPRGDUGnlulAdJjuQCYDjEBFq9hAGTMCQQu96kBONvBARiLnQBMkCEG/0QpBvUgRQXXvi0DjsiFBqdGaQNn5GkFF6clAWkrtQNgA0kBB779AWyS4QKHeu0DMTvhA3wj0QJlTEkEQQsRAx7oKQW/HoEBAiPNAy8aHQCNR60Dty/dAN9gAQTpcq0AtI9xAPsTWQOWV40B+/6BASmnZQABlmEAdC+JA2juqQK9vnUBy6BZBThL6QHnYvUCZZ6lA7ZKlQNBxDEGtPt9Ai5CBQDbGnUDLO7VAZtYgQc9sq0AOAQ5BFQsNQc1Px0ByfgNB1EMcQRHCx0Bo5udAKscFQZYk6UBFTKdAXMUXQW8un0DkFYNAMTXoQMBKikDPCQRBIf3gQIKnr0Dar/lABav8QGjCAEEK9upASgSYQKi020ANPhdBaWPgQJV+E0FPmfJAVpDaQKR6nkA6hNFA0/WEQKa3CEGbS/xA5LfmQH6kxUD0tZNAm2ytQA32B0GEGBFBptsOQb4XU0CIK/BAHs6wQAx/A0GMasJABt+vQKN45kCoNwFBM+TvQJCZ20A9DSJBxxkdQTo/kUBn9KxAL93AQBoNzEDyLXpAwHfZQJbiD0FlwORAvxz6QEEk5EBsyPpA6ljhQF3yHkGkN95A94gEQcN8ykCL46JAXr+XQNRmAkFkTaZApxwOQWn/20BKgwtBwokPQal5AEFfcf9A+jKLQH2P4kBEM9NAEjvkQB2dgkAenxlBMgfsQEc950AC6/RABsaUQDAGDEEP0dZAVDgDQZO3kkAiIwxBeMK0QHwEr0Dc19xAxTj4QGzREEGIzuFAH4TnQGIxuUDll4BADv6wQORjsUClXw1BuPLGQNaGrUCdCwlBrZNbQGrpFEEDNJdA/kP8QNG330DBu7FAARO9QFtKCUHykddAvdAQQQV9HkHvk65AdEG7QKxK5UBsPSBBcmvKQBCT9EDSlhdBOEbUQB6cy0AftQdBQ0rGQKCSi0CyLRNB7voKQZGnFEFb9pdA+DuPQEHm1kBgdNVAwC7IQCoD/kDIVphAavbIQP2pvEAX/RlBZFzkQN0WwEBUAvZAKIzbQG1Im0CVN/xAPiDKQMjSxEC2YuNAWE19QN0f0EDEX4pAGWQHQR0Gy0DL/thARFQHQfYUCkG3NadAdoKSQBSpsEAb2BtBhozNQPcIBEHbbbxALRiWQDthhUCHlAJB+GHkQLgxokB8zIFA0goKQeiIt0AQda9AEKzSQNp5jkAyLvNAd8TPQIkFtEBTg6dAgf0UQbhCbUDXSglBrwcVQSE9GkE2jN9AqxCZQDOwE0EK4MJAGySxQNRV80DlSOVAJowNQQ1MFkGXjsNAv2/WQJppqkAT1cZAGq/EQMuzC0HHQoxAV8MVQVoPnkCbLb9AKdPCQHyZ50A0gKNALGi3QLr2jEAwl/VA5xDFQE6HmUCVtLNAjWKpQFbNykDvYdFAUfELQVB5AEGkL3hAdSjNQG0yZEDQy6xA6LL4QJ5a5UD0WwdBSr4dQVO+tkDxTwVBi0y6QFIllkBXnIdAj+PLQNcfz0ClT/hA1pEVQQsIBEGWpIZA3LSFQHmsDUH/P+NAm+GYQOtF9EDBGBlBqxKBQDuhw0CyI8BAStIFQQXDn0C7XQJBybQRQWBm5UCEKblA4ebIQEO3uEDrEwRBUofgQIPS0ECoRARBzta+QEmsE0FGedlALTf1QEw8ckBmvvNAJMLvQO52EEHb9+JAevPwQIEzz0D/kQ1By6LWQKYR+ECYfQtB0vmtQDy200AKWOJAPxuhQKThBEHFaLNA1oP2QLQ5YEDdarZASJOFQIlrEUH7a5dATq/AQGQlBEHZethAZj0WQV+DDkEnYw1BIqCCQNbS6UAXvRpBzPvwQM+RAUGyi4FAEW5OQIUPA0G28L9AzZx3QDbLBEGPj6VAfs31QElfoEA0FBhB4J4XQXsa90AUK9VASjOOQDcyrkAZFgBBlrAGQbwg5kDBY6VApxsRQYCUG0FcosJA6qUKQT8GEkGQNpRACd+0QBqIC0ELUhJBrJDWQOeapEBYyr9AUMmrQPpUs0A4+tVAsyeIQKfi8UBs3lxAvDgQQcdLrEASsKlA8njgQILio0DEIAJBW/mEQGMSlUCES7dAcG5vQOWP2EBH3KZA7XECQS9Lo0C2I/dAya4QQWUa/kC3mMxAQW4XQR7O7UBw7J1AaeitQGYQ30CI7eJAKr68QEAkZ0DG8gRB/wC6QLS74kB2rwJBRhCTQHtelEDunxBBnoulQF1H40Dd6AhBjhWYQHm2X0Bl4NxA4RSnQLmbbkAmtw1BR4/eQDhuAkGjcYBAhafIQO8k5UDwEqlATEyGQB0tuEDgwuFA8gbIQAYcCEEqP4pADAPgQIlE1EBQOxdBXQKvQHaLh0BS7ahACiayQAtatEAPROFAD/aHQA1C2UDLJNlAskziQMh7xEB+ICVBOjCKQGAtDkFvNbRAtxCkQGiiCEFVwwFBie67QEhEsEBgE/dA0ilbQNhQG0H8QLVAU6roQCNjtkAnvuhAI1f9QPvqHkFdCaFA3FScQC/M4EC5349AWKggQdcQ4ECSTltArajkQEhl3EDgaJlAiaYCQV/GCkHPj7BAOVPTQEocEUE+XQpBTNmkQIdJo0BqxhFBnUbMQGkIFkF+wRhBfbUZQTQOBkG4FuJAxgyZQIH310A9JBdBXgKtQFngFUF7d21Agx/9QKGvr0Br/89AKKrnQKjs4EDxgQhBxuHmQEq2z0C/Er5APoUiQZr8pUCOCcFA4jGrQAy020AeGtVAMGkFQSZAFkEjywNBsP4RQXgKykBg8oRAVqUbQXee3UBC9B5BthPJQJ5OxkCdesdAWgMEQVh6g0BBzKNAEXwXQV8p+kDZPQlBczkVQYpOhUDPMgZBKrH7QMSamUDc5gJB8pLjQDoLikDjEKFANYi/QEEpv0B77h9BJygfQUu3d0D7U7lAz/7hQDpUnEAN1b5ASJ4IQV97vkAs0MZADej+QEC3UkCL8hBBjXm9QPiNCEG5JrVAO/EWQYoM5EBIW8lACZy2QF70xkDUGcBAdxyEQCQUrEBwBglB924CQQg8hkCmBRVB9vVnQGvzskDVjs9Ar2ERQSgkCUFwhqFA7Xx5QE0Hw0A0WgVBtxGkQF5B9UBa4thArV8WQe53nUDGK4VA3DUFQbiFi0BM/qVAMja6QAPX7EDLHqlAqanUQLKwjkDV5glBegetQCFnskA3YXhAZ5TxQOGlxUAjNhdBu7sJQbBRA0F2lupA4EQcQW4vDkF+y6xAYxoKQYRXgkAThvlA/4UJQUoR4EBKM5NAoeORQFCNGEGnGqxAKPDjQHwJ+ECQP/xAk/nqQPBs5EBoqwJB9FbWQNHytkBqDQlB8wwFQUjr4kBMstdAnmENQXjb40AT649AUm60QKmhskA8ntpAOcnKQMzB7ECfKyJBkHLJQDAj2EALnX5AFizKQDvWIkHOXctAePsWQeFLtkB+UOhAZfHAQIMHDEGa++pAeFjmQKIdkkBW45pAcjvFQD4EA0HrvPlA+KUGQWMcoECnpG5ANQasQGdZCkGqtABBYCfhQLka/0BbuXtAgHslQctHBEFaeo5AmBC3QA/SFUH3IsNAqnPTQIaNwkCubhtB68gaQewtpUCNGb1Aao/lQDa+DUFiXxVB23KgQIXH6EA6ktpAZogPQW7aeEDFPiBB8ryjQJT5g0CFQIVAYez9QIwY00DKloFANen1QMTTbkDTBxVBI00JQRPsAkEztM5A06jHQOv35ECHwQxBNSnPQO6TAEH8UolAp+ghQQ0N8EDYzA5BC2vLQD28pkBTo5RArRuCQG8BBEFdk61A6y4gQbg5pUBzAaJAxG94QEegAkFgGglB+AQTQbdFy0C7921A4okOQQvoEEGVCaRAt4cDQeK0gECH6atAui0QQbHABkE6htpA9yQaQWVKzUAsO8NAhBcLQZXI+ECNZAZBKJTRQF8HAEEMjONABGGXQP1T6kCkU6lAUiOjQKNmYEBsTc9ApimdQC9x4kAk2gZBJoyzQAtv/EByaO1AFk3/QM63/kAl17xANdTmQGk8okDAlgxBy9y9QItn5UCfa+JAeW2xQL9CDEGNaJpAGZrfQAy+1kCvORFB1tXOQLmUi0B3G5NAXXPhQASjz0Aw22NAzQWgQOPbAUFH2lhASnflQNl5bEC6+uZALqKzQLAW6kBlcKVAg/eBQFc8dkAj/3NA6dbhQBdQIUFv7OlA6HH9QHV2BkE0LslAcvYKQZVq0EAL6QpBzFPSQHMYA0F8/bVAWcsTQbZQ50AXt3ZAJoWDQJSU60DYr6BAJem4QLT6C0F3SghBx4trQE72v0CSog1BP/yGQIJDxUCAAM5APyQDQRYpkECxdq1AijLJQJ7S30Cf0BRB2C3PQEjS60BOyvtAnWTYQJ/kEkE0X6VAqh6UQKIgIEHM7AxBHSHPQNrMxkAQCwVBo2wBQd8in0A4ERZBLdjhQKTl+0DiLxFBV9ESQVjD5kDEbLJA8pO7QGu2tkDDiPlAV7LNQDKIG0E2X5hAN8MKQafdwkB9hBtB2fPAQHeP4EDRqMlAbH7vQGpEe0Dr1whBXjeyQAAd5kAr8eZARfjeQEws4EBIwaRA4DXcQK5P6kBtnhZBc1WcQPumukBXtRRBQkXLQP6bzUCuY4VAqnYCQRxX7EA1K/hAUfIBQXzlC0E79tJAsiy0QLP5BkE9PK5Al6z3QL3k8kBQoL9AoOciQTxhG0E43cJAnNUFQfziBEHhzVJAGWmQQLqM00Ai7MJAV8HeQAHkTEAdtxpBnzDZQFkCDEGTsb1ADqsbQRs07EC7rb5AGDigQNQiAkEhjORA+8DSQKdD8UClTx1B/JqrQE980EB8KltA6r3LQAqJAkExyQtBCcl9QGxZ3UAXNBdBrwrjQE+qFEHo4GtAOYcWQaSN3kAb4xxBjpLlQNsb2UD37d9AqSeaQAd69EC0YvZAqEegQJGqD0FMj/lApOXYQDbNoUCCZ61AXCMCQZlnr0DVgh1BQgHuQNWvnUDJe4lAIoCjQA2oEEEiq/9ALCQDQZi6HkFkhq5Ark9aQHybckAcdrZAHRX5QOp+qUArzBFBxToTQfdFC0EhVBZB8tH3QP8pjUDETRZB70ysQAo5DEGuexxBGETQQADdvEA7UAlB9S3xQBR5C0HDtf9An/jbQH4rI0H8bqxAqsITQdf6C0HJpwhB7oMFQc8zD0ETqxFBPYvpQAEUBEEL2gZBMh0MQfczrEBN/9BAr6wSQTqRwEAZqCJBphONQNPnlUB6JXdA2+z2QPLbfkBhh69A0C1pQAV+u0CXqNZAkCQIQeqq90DiKcxA+aP7QNTIpEBTZxJB9cmXQF5/yUD3UNRAnsgbQRH0G0EMdo1AmYa/QKXE7EDg+/1AYEtXQNWCpEDSixVBevt+QOOyAEG+G7FAeZceQRICg0CwNbNAlIQbQVFo7kDQegRBkkMYQdQTl0C8SBVBDMKgQJ5/A0Fqi5lANZTSQO9kAUE4kQZBDSzHQLJKuEDCjKFA/+yeQMjUzUAEl59AWgumQBRh5EDcfvVAeX6vQCjBrEBu1FtAowS0QFyZ9UDxRAhByTXyQHLikkBPa+ZA7VQdQSm3/UCsIwtBL/eHQKqb60DbXdRABWGGQHMtF0HoUhZBxMqdQKXUGkHTK7RAE8LJQP0xnkAfXP9Avk0aQU+Y20BQQgxBFWivQO29/kAHaiJB7p/tQFWv3kCeBbxAb6ygQKVCs0D3kQtByALRQHFb/UBo0AFB8LnOQEPtzUDhXQ5BKKYVQTRblECVdhNBvcqkQPClk0AUI7JAms7eQMTMm0BVJgRBDVoFQb9u1kB9JG5Ayd4MQdps/0BtxZtAB7fiQGHgJUEKrM1AXmIDQeLI6ECKngFBL1y+QA/J3UAUzN1AhrgFQbaAbkDW8+VAZoSRQOujoUCzyvhAnzj1QCQBHEEIbO1Az/nKQD35B0Eew+dAD2zXQL1W60DpAsFAfjOOQCNzwkBfzoRAcVYVQQFl8kA0lOdA00PmQHBdo0Crp7tAJy2JQEmSsEB0S+lApVEMQd7OAUEuXdxAmrLVQIyWlkCWLwtBIO+tQLxDukCNm95A9PSEQATCE0Gjt8FAPmsgQUWNCEEraIlAXZMWQVZFmUB1/otAxhG1QGW8AEE1CYVAe2wIQXp5FUEvJ4xAuZoMQUHo1EDGtCNBH52QQCBpCkFFzI1Atb+kQJj6B0HOe/xAAAOdQGJq3UAMuwJB1+GOQH837UAk1vJAbOWqQAO8l0CVEQRB/pPrQDgX3kD3LalAkobFQEAjc0DQnBFBd9DjQNqlFkHGh9hAMM3WQIa4ZUAJVxlBS5a8QH3MoUAvY4RAhXCfQMIDCEHDVB5BI7NVQKgNCEFkuatACcx3QDszgkDFTRpBM3dyQMJZmECFntZAfqXeQPUr1UB2BxNBq1bpQCFEFkFi5e5A4Ef9QI3m5UA3wgVBR9QWQaieh0BLOwRBpNWlQOWCwUCZQQZBEJnxQMA98UC2vfhAZBrRQKvNd0DZ9f1AsfYIQV5GEUGdXQhBARGLQGTDrUBX9MdAAq/uQF4egUASvY5Ap6bsQLDi+0ByZBBBPuwgQVd+5EBXAt9AF/ToQLK+y0DPjp9A4VTlQM9T+UB6KYNAKEEcQcSQB0Eo4bpAbyy3QJlJhkD9TKdARQz0QDgg00CHUNFAFkNoQFqRiUC/lCVBcgXJQEMb+UBA7O1A4+KhQB4/mEAzahJBhmKoQJBh10AyYnJAeqKcQNyeEkFIZ9lA63cWQVIl80D70tRAR94fQTFj2ECoHadAZHwRQVA2z0A/TMpAPDoDQc83r0CVH8BAnDGEQMYh0UAR6vJAhVLyQKb8DkEQ+glB7FrLQG04rkADS+9AQg+6QDb14UAEEGVA9l4DQTNCZkB+jAxBm8/HQDGb2EA2OhNB2CH3QCqyykAU1xxBcTTqQF3Sg0D67QBBqfChQFQMI0FBrMFAy/keQfPyDkGYbB5BtVq7QIY60UBgmBpBM+PZQLBEHUFv4w1BBuGTQLCHDUEjSbpAaHubQLZHF0Edhm5AKuyrQCZoGUF+PAJBZ38IQTUbFkEqiQZBSzrtQPlfjEC8NBhBDWPrQNF08EDJuvVANWrqQLx/vED5VBBBKJFWQOADp0DijtxAWWSvQD+hAUHAzfBA160BQR4NB0FygIJAu3UUQRAsukDGJhJBgGzYQEDnpEDN+bFAyGyxQIHVp0CYB4RA0rUFQeQcAUESkt1ARr3TQIRF+0APGrRAy3WQQAZTxUAW/CFBbo3TQJ/eokCnWfxAUhvuQIkCd0BEFcxAEQmjQHyJp0D9J8lANQP0QCGC80CG7SRBwaScQGaSokAuQ8ZAGa2VQKF/i0BB0pVAm+r0QPEEDkGJRAZBg4DJQAN0DUFEw55AaGURQcAglEBAhcxATrW5QOzn40C/FSFB2OnKQKqj5EDxBKVAtJfgQFj9vEDrYYRA6i2QQLD5+0CayOxAsUHaQJ5o4kCMo85A+4aiQPc05UAbcoFAjBnAQJ7U3EBvQQtBvTq7QK3PE0FIC9xAizP7QNsa9UA4FLNAS7kAQR67CUHalhRBJ5TpQFRBCkFp951AVuKgQNvVA0FLFXVALt7/QGQog0BdevZA3+KgQFw0okAqXCNBpZQJQfUgmECnAWhAWUDBQKFxEEGoBbhAxjOQQAbu/0B7HBRB4kX4QBfz8kD1YZ1Aw0UWQQ9WBUF73xJBd5gGQXWm/kDkRhhBL76dQKGrs0CTExtBr/UWQZFkgEB2kRBBRENyQAnzy0A06aBA95zEQD6axEBeirxAqUaXQKgCEEG0iQFBtS2TQJlgzkDITo9A2doEQcAZ20Ab0SZBveQDQYpY2EA5J7ZAIgjkQBm3mUA53wBBgJEHQSMw+0Ct3aFA3eB2QOBQg0C6nqpA2YsQQeGxp0AnTwBBlNH1QFg5okDVMulAvzNtQMCzBUEn2MpAc6oUQZhQEkHuwXJAeFKfQDy6BkFSLJJAv62mQGxKikDTuP9AciG7QBCh4UC5p/JAn9nKQOet4kBOS8VAkgSkQLO6G0HSqqhAb0PqQDBEBkFANwNBD+4TQaeV3UBLUNhAbr+HQM1Is0BeANNALHP5QGuijUAqSJ1AX33JQImr/EDzPe9A7G7dQFgNEEHbJxFB9SkYQbC7v0AwKSdBwpXCQOyTBEG1z5dAcH63QOOqe0CDa/VAIzr2QLSS20C9rxVBVqTAQBU7G0ENcAJBCowXQUK5wECUBhJBidjoQC+c50An2u9ABTWeQH9x6ECRLhFBGdJcQPNCoUAvB8pABjz3QFLK2UCjPxZBxrjZQJv1A0G7DbVATAzlQAVevUDmf35A19IGQTKTCkFW+L9Awy2YQIZUkkAJ5xtBYUbmQGCAFUH0exhBIM3LQINPy0BiVtNAShb9QJh16EAIegFBg7zjQBrxDkFr15ZAumPZQOJjF0HQfOFAdEqeQJfW1UA4uM5AVbLsQCvzFUGLWs9Ahpv/QJOaxkBkS3dAhXSDQNiDokCgde1A3joDQYw3zkCgSL9A3cXsQOQtukAdItpAVTirQA0o60B41L1AUVD0QKOJqEDjUwlBgPWSQIOyq0Bs97lALf71QID4E0HRBuhALMbiQDgQqUAUkxRBZIYLQcp+1kDrwrhA7RzSQHeUlEAKXfpAYvLZQA0N+EBgbatAK72UQCDtsUCqus5AM7sRQRRLvkCW+hFBwILpQIBj/EAMGwVBQ8IQQe69rkDkMM5ArvgLQSBS/UAdxdxAvh73QCyUmUCWlBZBNaIRQbqMnEAy+pRAtdEMQbDx0EC5wABBfIYBQUGroUBoFhBBtjGlQFkXzEAUo6pAtoXhQMgmCUE/MMlAuJ8EQctqiECmMtJAoRDoQEfPu0Ch6rBAYIQGQVd3+kB58gZBLFQCQbEYdUCLWfpAWIXKQEp1sEC7E09AQi8QQSp9BEFWpA9BxIeAQI5Ki0CVAq9ARLTSQErI7UA9ygxBOTD1QJiH3kDQmpRAmH3mQP2HCkH8PQ9BpmjZQOgLEUGEqMtAuPuBQOxTB0FLVeVAFfSHQMzw9kACY3xAy9zkQAUVxkAw3mlA6Of/QDwi+0BVPRRBYGjUQENGs0B1oRJBj8zGQBxU10B9iM1AwZKlQMqc00CM0fdAnySIQNiphkA9SARBdMCJQARGGEGA6JRAAQ6cQPFnkUDW5t5AYDPVQCcw+EAADQNBd17FQMQB80BMkgtB3FoVQV2r70A9S4NA9KmHQGquvUC3w9tAZSW4QIJwCUGrW4RAiLayQAICgkAmj79A/grYQIyO4UAwrfRAl/SbQNYfoED3OM1AednHQDqkl0A4kYRAvN2mQMuerkDfZ9VASJnJQEkTA0GCD6JA59DiQAK86EB8qCBBsi2IQIgYwUDRPrxAOineQBpSjkDjR8NAOIHjQPSwk0Dkm/pA/5XGQJ+XxED1CoNARysPQRBmDEE1u6hAFW4aQb/Mu0D7sYtAadneQDosykAH8PFAufmoQFNjyUAKLAVB6UaIQFik/0DnvdlAiPrBQF5mH0EaotZA0vnyQIRbAkGzpgxBvMniQGh4CkGZPqtAnQVVQCGHnUDyG7RAc+jLQGTOC0GcXf9Ah77uQB/M7kBbubdAiOnzQCYxxkCPrRFBtXqgQPS1yUB2ogRBihaxQHwUAEE0ILpAOvqzQO9N90DUbSBB+FGsQGjm60AGvapA9voTQdMkEUG/luZA9LYRQXYKgUDErIhAJTu1QG1uhEBDK9tAMlUdQUwX7EBWXfxAmIPFQDzR00DTuZ1Aacm3QHo9wUAAX9VAGB3BQLkGgUDWpfFAeDSKQFXT1UAX6oNArU2zQFAJuUBWcQ9B7ogAQS1Al0BPu5dAAjYaQbpDgUAXiKFAOicLQaUaEEF6Qt5A4IeQQIv6FEE0O7tA8q3iQPU9AkEBp7lAgmqbQLrrB0FL7opAbvybQK/UsUCrPMlAp833QO85CkGHPxpBVbDWQODDwUDDCw5B7ja9QFI8BkE69+FAHmEMQSlh4EDN9wNB62LUQIGDvkDXpvxApxIEQRVCjUBV9+dA43LzQDBlv0B7FcxAr5P1QEqkAEEceshA/msGQUfbAkEllAVBFFrJQBQ3u0BnsONA4HOyQAJToEAszadAvfO6QMi2xEBC+BdBEafjQBPJ5kAVkLhAC1GnQP9xmkBbcfFA0NuYQMaNz0DD7xxBCOXhQMu/pkB42eBA4EUdQfvj60DVv7ZAvIXRQGSE+UDituZA8k/hQG8qGEGmDeZAIbXKQNiDuECHPAhBmnbZQDt2BEFLLhZBcAprQLMWwkA3I+RAl6QGQayOGUEg8uJAJFoEQcDtpUAkFQ1BPVJyQLEP4EAw0dpACw2AQE5R80CF2ApBnqOcQODLBEFf8sZANtntQLmpqUDrmglBvd62QDA0wECZQf9AuAPIQL7AdUA4KM1ALFz1QJ4bCUEQmQZBtasRQSTEiEA32xlBqOmQQJN9rEBf9BxBhRURQVSPB0EtjPxAjY9MQBgZ/UDoT8dAGq8QQarfBkFXRoFAYmCpQJLeDUE+I9ZAMcDcQJnNxUD0VApB3MLWQJIa1UB1c9FAqogHQeXUtkDTVQxBCiIAQQFav0AtubVAqFXGQCDe/EA8LIhAWEz7QG3uEkE/AuxAX8ddQArAF0HnL8tALqMTQWm/pUDPzcZA8jP+QB9kJ0FDgQNBLMz4QPgEFkE4QBBBX8m8QEPQBEGPLuFAh27FQI423kB5V25AefMeQSn26UCahPxA2on3QKle9kD6lidB0Oe+QFFuFUHsg/NAuWPiQA4GBkEsrx9BPZEMQegLzUAHJBVB5LYMQTiw2EDU2PNALHe7QIYtmkBxhBpBnQodQcy70ECS3wJB+o4PQYmJn0AQyQhB//mlQEva0UCPJ7VAHlUhQYS5oEC+/AdBOVG8QOYQCkEBjv1ACeQRQS0aF0Edte9AoaaRQJfM5UCjBBZBjCAJQeJBDkHiEo1AkLGUQIwVo0A5HglBU2DOQNGnZkD3YhRBuuCAQCJc2ECkFoVASa6tQKAdCEFSiQBBYi4IQdkDFUEEv65Aze6rQBMtm0CI9/5ASmsIQcP3GEFTq5dApdyiQJv/uUAXybxA71shQeBJ+UDV3AtBTjnAQDi8sEBk4F1ASsW/QCrwBkGuYtJAhWkbQSfjA0EYrwNBnU+8QEgK9UDHm35AJidqQNUxr0CZmApB2boLQQGZ9UCkHLpA5Uj9QOJ+jUCMSOtArToLQVv1BEEHBlhA7Si4QAufG0Hmsf9A6SjJQLSQAkF3PsFA7xQUQfS2CkH906pAuZy/QJJMakDBMQhBFK2SQJc56UDzgRFB1aLjQGR1qUAuIrtAmFYDQSmj/UBf335ANRWoQKGf+kA5bwFBSdIZQVTjG0EbzQVBmmr6QKlMWkD2/btAi6XoQJ6vo0AtOAVBn3AOQRgtG0FFvKZA1xerQECBnUDI4wtBBXjKQOU3mkCkU8RAJvDnQCF230DyuPlAGCHJQI3atUB5pddAVN2kQCVuDEFEfwhBiEV5QG4ZsECGsghBPhoCQT8iE0GXbgBBkH0eQTn/7kC64exA2BIAQQH/60DtW4lAXQP6QJZMEUGjZ8ZALAUSQTlDAUFGHAFBK43sQMcWrUCd8V9AnYYUQVxknkBVqq9Am2fsQEYxBkGlpyJBkcL8QOVOz0CCt3RAZXUPQWuACUFI9VhA+F/KQF3V/ECQOPlAhcEBQceX/UD08PlAEjrfQJ4J3kC5hRFBVJvLQCFr4EDAQsNArSXVQJhbkkBdLPZAsPcQQWA40kDJCfZAS3EJQYDAGUFf5r5ARz6MQPGDtkBrNK5AIqKmQBcwt0CtOtFAzscRQWA31UD0pblAxCL1QD8LDUGO9gdBhE+NQNQk/UDeRQdBBpgNQdhXmkAYAAtBGiizQMICA0HBP95A0HGrQCCAz0BnwehA0skHQZmXjkBmNsJAgHLsQL2gF0FNWq1Al/+YQPit6kDRdNdABI75QCKuoUDbFKtAO4zDQJPn80BHgxFBkRIRQebFG0EgQAJBNWMcQbaruEBz2eZA2y4CQdlMbUAd0ZdAz9fQQJSXm0BSIsFAb4QgQZDh0UCe6cJARD/BQADJt0DbJfVACkpxQL36GEHqMg5BVyevQJ3IBUGBAoZAwLXtQAYXCUEdfpVAmRLsQNCBuEDe+7lANrKwQKQGxkCcEL9ABmHuQJyMCkFDe8dA8rS4QMvBnkDfTcpAC4DaQFQ5DkGpdKNApmTbQP7z20DkFN9AH/fIQAYa60A7acZAx20PQV+RbEB8TpxAnm4MQcmGqUArsKdA6TkZQXO6AEG4jmhAYzwBQWEsvEC7h81AzhUEQb7iEkHjWbhAIyXaQGEUEUEMSrRAKgsBQWcx50BDcRFBpgPwQKJ7+kBEF+NAud+uQCXu+kBPf29AA0D2QJdI/kDbHhZBzlESQYIWAkFbc8xAUyTmQKcbnEB1zN9A0TMDQT84+0BsQslANkHkQM0J/kCkIhxBxMLFQJ+wkUCm1PxAbKr7QNcGIEE/4IJA+IPyQAK2ukA/ePBAbvLBQFOxwUCiX+xAh/MFQVvx80AzpgNBNRwDQXWBsECjHgZBHM8MQVQWBkExm7hA658RQSnGw0CzX6NAcX3tQA7YBkHPhmhA5RDGQLfnx0Bl799ABwTpQLGeiUAx/LZAWoC5QPlhw0C24nhAS6+HQE/YAEEZC+tAuFwZQUg0xkBG7OZA/iXHQMha6kAi671ANlBTQB1E00ARQNhAP+gCQXAZv0CR3gpBKvbCQCI3DUE+HqNAB5fiQFZH40DWEABBHxcBQd5dp0DzJAdBIcHXQANW8EDiwKFAXY0OQSKuA0FoyARBnDqqQHrmrUBHKMhAB9wTQR7lEEF+MxFBJTGrQO/mAkFD5LhAk0icQBDpuEB6DP9A1VSwQOhJC0E73+hArSLdQPOAtEDHCWBAFx/5QPwWrEAMzg1BflvrQLY8A0FwtA9BNSRgQO/KCEFty+NAdd7WQC3nE0GLRgpBmCT9QGRysUAuUwNBauUDQYbpF0EMgvtAsX4kQYQNAEHzhIVAyMCiQAXc6kCsQa9AHD2ZQMFwpEAVegRBKRn2QDzn4kCX46xAo7AAQdp0tEAoEgJBNMoYQeZM8EDMfL1AD1oRQb2zt0DfdeBADZapQFtoHkEX0ANBjpbyQAYbF0GbcelA2mO4QHA+C0G9GLJANSXLQBO3skChM4hAQCGFQAcOl0DNn5tAQxzlQCLM9EAtQvhAIZj0QDX3nUCVQvlAf1UIQR2k+0DyRwdBF8KnQDxa20CpQ45Ag6/aQE7D3EBzhwFBIucDQcwgoUB3ueZAOMbcQOxx10BYfvpAHnjTQE2nxkDr7utAeyD9QCWEA0EJ0AdBdPrjQPgenUC7za1A2r6dQMiAyUBR+gZBpu+aQNeFE0F4BhdByOLIQJQH4EBMU8pAsSiyQFGRCEGXfcpAbM3vQI/EsECvOBtBAHIZQZ5E2kDaR6BAXv3qQL577EBfmQtBJJ3dQEsK20BtFfZAy7TQQBTUfkA1QgpBtT+kQCQzyED/HtBAFm4BQd6Y+0ApEMRADevaQHTCjECYZKlAX1zOQNlNqkBMkhBBTHDMQByCDEGypg5BMzSxQDrXCEEKVtpAHMIUQVT96kDkNsBAFTUYQaoSokBprwhBIu4NQf99uECtBPRAbIcDQckFzUCQSQBBCZEiQR864UC4iZZA5AEcQXDwFkHuKQNBMLXCQAn2EEFPe1tAOL/tQD872EDw6qBAJRKxQNGe1EByhp1Aq+ORQIA4v0B/vxRBYEPOQF5570D0ngxBoKgNQQYR+UBg8/RAPXgRQdja0UDNWgFBXSimQLlZDUGhOQxBq44ZQTPOAEG9BelAh7j4QMYVmUCl6h5BjCaQQBFOy0ArlxlBrIS6QFHf0UDRiM9APekcQd9FI0GWDyZB4iDEQNEd+EB2oxtBVLTGQLMOiEBMnKVAa7gJQe7h70BgAd5AERn5QPZE50A8eAVBKlkEQey6oUAskLpALDRwQNgeAkGF6ndADeCaQFUDDEFSqbBAz0IHQaca9EBZSCZBpcq6QDv3DEHLvQRBji9+QHlPBEG/IwdBJF+0QBiI4ECxJNNA3LDJQIHdvkBh2uhAATYEQa7EbEDxRQ5Bs2PwQIr6nUAfn9pAUxa7QInau0ACVfZAJfrMQEWukEDmNuxATQy4QMI/yEDMHa1AduX6QOcw0kD54x5BUdKuQJb4gUAwf/tARFgCQTW2j0CL2E1AtUrRQF0B+UBSZA5BYZ/tQHz8mkCK0ZhAN9AEQXcyukAdLo9Axgb3QOa2BEH09+9A5/6iQJBWCEH+69JAuw2XQIXm5UCCLOxA8poRQbZ3tkB92JtAlu/oQPTfrEBmQMRAxzQMQamwjEDdscJAuvhOQCg/50BLJApBIjLGQCZ+/UDGXeRAXRrEQM36/UDMFPBASSwIQZ4OC0Fl7L1Ao1DAQDcJ8UBwrv9Ar5exQJWTtUBRcPFA22G3QG/E3EDdmdpAd8LWQBJB7kAN7cdAuELEQNA79ECxjxlBClaGQImVA0HOyOtACz0CQc0Dv0BMqhRBv4PdQAwzx0BG2tNAOB3SQI9MxkDiV8hA74G/QFnzvUAMbxVBiiCaQJEx/EBenLJAWSvIQCfVAkGtFNNArGgAQdns1EDo14ZAkNwQQVUpfUDtKxFBkVYFQW6M8kASEnxAYlP1QGoMBkEXEwZBtzLtQFGI60CFkO5ACVSgQAiyD0Hi2BRB3bYCQacU2kAZN6dAQxCyQHge0UDz7pRAiPEOQTK5xkAU5hBBjxrSQB6nwECpaehA/GmSQEPdD0F5M8hAjrS3QLemo0A/uRFBMDV3QBdk40D4ggZBBx3NQC/ypEDdIPBAWzL5QM4Np0CzG7ZAV6rGQErC4ECq4gVBMb2mQOgo/UBK/7dAMTKAQLRHq0CivAtBX4bEQFOYIUGLEwBB2SMBQXxSuEAqogJBfb8mQdO/wEAeC+hA2cTlQD5H4kDd38RA2DS9QBqaEUH+JwRBW/7qQJ1o9UAqgu5AH02SQG8BCkGzMBFBMTe7QCcdA0GLh/hAVFWYQPysgkCt6OBAm+DeQPGu9kCTBr1A8wy8QILE80B0iv5AF2GwQMuEoUAdtPRABsDVQPQioED6fqZAfoDwQDfZtkAoqtxA2GrRQN4BnUD7SPJA0msIQeaf70BrzdtATrXhQDr+/0D6cbVAxfKWQMSAx0Ctr6JAyswbQbEPg0DUcA1BSdQCQcEeoECMV/xAYWzjQFK0+UDSFNRArLC/QAAOxEDgCGdA/DwGQR+PYEC53a5AWQXjQGV8ukCPVvdA+de1QK6OCUHN7plAE3DIQDH/2EDPRNxAJlLGQKwatEBIdtBAGIDrQE11eEDjBZ5A3paiQAYro0DkBdJA7H0OQZQlz0DkXNZAhr0RQTkOwEBnb+JAz6a8QBJ94kDjvB9BJJ2UQFkD40AqIrFAGTaqQMQVxECE19hAZKCpQFwVmkCe7tpA7PfXQPeYCEHrPYxAJsbnQEdD60BhgAFBeX2xQD05IEHrqNJA0nzjQF1huEBEQvBAkNi3QDPOAEFd+gxB7e72QCfq+EBUStpAg2G5QGyUqkBceBZBF4fFQBG3vUBAetZAcEUKQbIsCEFigtxAX/L3QIVL+kAHJwBBnTm9QJt630A27MFAtF77QGaPE0FR9t5AbTjYQM+ajEBwXtdALumPQL88A0FJnqFA/VJ1QBGkskAsX7RAEMPyQJFzB0HH9YpAWj51QLmg60DYTQJBKFIPQc/cBEGh9rxA//XAQIatGEH0YN9AJrARQcxyAkF59wNBYQiSQDDuG0HLBstAg6mDQJkB90BJ1upA8WmmQPBnBUH8uoRAwQO3QCNfeUCg4rxA04HyQANzh0A9ShJBGUv7QCj+l0Bb+MVAU/jXQDpcrUA/8dtAAjufQJq9skBOP7xA9R68QO3uHEEcuRVBpKPCQC43kEDu1thA/PWiQA0JCkFGMMpABuYHQSzOgkC0v+tA5NcPQRZgDEFLpZ9A9G20QM6+ykA4TNFA3LUWQaAvykBxgLZALISNQOK3BkF3sAFBS0zuQPdf1kAdXrdABQvwQJaLCkEx7gRBu0jeQOrGvUAn+ANB3ZgAQZw76kDcsx5B+QG2QG5h00D/4QNBZAwCQcvixkADh99AmULrQC3BqkAwdplAZfuDQG7hb0ABAMVAkkTeQD5CyEBGp4ZAnsLYQPtlyUCKzH9AOky7QDpF2UDzNgRBJjnkQCvXwUD4/LxAkngKQemvvECST+xAcx23QLZmxUC+jt1AATaDQNcww0C0RglBkN3CQPRAz0B4ZQFB4z7QQOIWgEAuOfVALacKQQ0vtUBCNfFAbCuIQKrYDEHHqqVAG476QGYt70Am9eBAtB/2QBL9/kCE6N1AEsbHQFtf+kCQcBJBvcyKQOCI5UDHL8RA52sTQWh5qEA76xdBmJqDQPsxsEBhhJ5AC0T5QII6A0GsshNBK/wIQRAj50ASLs1AwuYCQZM330DuCNxAoMbCQAiX2EBwnMJA0cUOQRD74EARYA9BCpLqQPMu3UA4CeJAnq7fQLd7u0AODrJArBDRQGPPxkCGw/tAftL5QG+j+0DrXwRBl+0JQXVPEEFoh7ZAYRSDQEwi80ChFb5AbxEQQVTZp0AVqAJB1hgVQW/gAkFjI95AoXmMQOBruEAJDPdAK2QAQSvf60ARahJBFsXXQIbgAkGfwKVAkSXMQPHYEEG4lf9AiPUHQe4luUAVyNJAabPBQMaaAEG4ovpAwsO9QBN3pkB9oA9BA5nwQDs3xUBl5OJAdrIhQUYOfECtwMtAus0GQRqywUCyXuNASv7yQGinxEDpK+FAmHEAQXgv7kDkl99AYpLRQKokVECaVplA9DQQQXGeFkGe9NVAVPiIQCwP3kA5RsxArhaDQOckCUEc7MxAgEXDQMn2EkHfIsNANPeuQI4q7kBo6wBBqe62QIqZgkCJBQVBt7vaQDwDwkBREuJArRjiQD1nG0HIz7NA0cjRQBa8w0DAhqBAaBPSQEeq30DWLa9A3h3JQE7RlUDPBsJAZgt6QIzFDEEbkPBAGbTEQJr/5UBtOKlANBINQS1qmkB9eLJAuCQGQeI0h0B4F9ZAvhnpQLEV+UCP8QpBqB4GQfGXFkEMPoVAQGQBQWVX1EC6jfJAMEq8QOI3zkAwxQZBRoQOQdmVrECVcwlBC8O+QJcL7kCbuAZBkfwAQYZZ7UDetLdA32nYQOvYy0ATF95ApGGrQAwquUBZMNBA6p/dQHXLvUD/F/9AP57AQE0A9UAH//tAi2rFQKy3o0BOG7xAkKsdQd8u40D8NgNB4GTKQGFqCUF2JahAC+7gQDxs30DSo4JAGFTAQEqfBEFoftBAvXXTQNC7w0DXuJZAup/YQKL5pECbypxAI0XyQB9KukB8OwFB9t+oQP018UDsRQVBjNGrQPQMz0At5rlA0gxgQMLfkECrDhZBGjMHQbuiFEEpxZ9AoSUNQSAGGkHZJNhAFB7pQC226EDs6ttAeJyzQAWz4ECM5R9BSpkWQaAHpECMAwRBvUfmQA87YUA40tVAoJaNQJWKskBReYpAxEqGQLSbE0EsWI1AbM7OQB/stEDymadAdG+OQI2jnEB7mBxBsZzqQHeygEDbldtAnCTZQPV+BEEiw7ZAAU8KQWVE40DdTN1Akg+ZQHH//kDkNPJAlkv0QLYtv0APAIRAavG0QIFW7EAzkrhAiD+WQLUu0kCspdNAaWCnQCIplUCquOJALpBdQGf6GkE73ARBKM69QEmCCEGce/xA/jXMQB33nkAhl/RAxHSqQGy6pEASaORARKDIQMSGt0DSgwNBMSv2QIjY6UC6Ys1AvrubQGfHDEFpFNlAW1/CQMCpr0AOi+BAFqNZQFpLqUD3YcFAFkXeQGDk4kCsegJBASfCQClj9ED1uY9AAB6UQBFMukCNtP1AgLjIQDLhmUAhc3NAGlWpQGmEXEBncc5A4hHDQNql4kBmJvtAXXf2QHaWGkEZPexA7AYIQbQRzkBYMc9A+jEQQe7c7UCNR4JA1wTeQCkStkDsBA9Bh4UMQUPT/UCh+/hAunedQMM2EkHzy7VAmP2MQA8EB0EfNblAvY6dQNMgs0Bt9+JAGW3FQNrE90D6/7ZAsx/bQDsM10AErKRAojjdQEjsCUFvtBBByw8GQdX8+kDQiKNAt08GQVHRk0BF8gRBGWWcQCos8kDOEPRA01rmQP6p6EBkO/BA7bgAQYqZAkEwhwVBKsIAQeKFDEE4IxhBhBepQGhAu0A/oKtAACejQJQc8UB8IqpAH6EEQUfHGkEUe/1AavPcQDHdkkABKgdBnpfFQEFMoEDRjddAX6sRQaAS50Ao+81AN4gSQVUe/ECH9a5A0eP3QPlPCEGR++5A33jEQMXe2ECAkLJAJWnwQOhYAkF3OglBOIrRQLURB0ESJcpAqEzkQLiCFkG6IvpANtbSQM+vxkC8FBBBp1WwQA8zE0G8R+VApcntQJeXsUD0npVAxA0EQQUEy0CsIO9Ahl/fQNMHj0DS4dZAi23jQAhA7kDIEghBjLG7QD3P8UCCc95AunsTQZil/0COVddAZ2v0QB905ECcgrlAmrkAQShA4ECaXh1BBpCOQCrvu0AtGHBA7t3+QL/7pkDLAZZAhEXYQG3us0DWz/ZAHincQDPyBEEScgRBL8vUQKPJEkE+n+hAl5HiQLv7jkCjXftAjK+rQJTxtUD0NfhAgN/SQBzTk0DbeNBAsvwJQZefFEHWCbRAOzLyQKfT8kA2hNxAVTSsQEtD4UAMFtBAE9wDQcXV60ABAg1BlBL+QP/3mkAmZ8hAVh3pQLIM00B9ZrNAKxbGQKvUx0BFHopAWVj2QOxnEkHPsptA8AGVQKbCy0CSp89A3OLcQJJs8kDvlw1BgGvQQFZOCkFzD6pAWjPDQPvcDEGNQMJAHMcEQUgEjEDBUxJBMQkBQXdX90BrC79AbigWQYLSfkCUGt9Apk7tQNsAt0BdiNxAqhAQQfDm3EAIiq9AZb4IQSLjIUG0bddAqvnnQPq4v0CgSBFBzkObQJEJdUDhpaRARyyWQGiZsEDYPwZBmIm1QEg080CO+sxAtGlpQMCRuEAeoQ1BIs7vQFcR50CxaMNAydT7QDnID0HVocxAZxj5QOw90kAEdgVBVx8GQcKJcEBxB+dALunPQG4+g0DTEARBKugFQSypeUAKzZhAFNDYQL2a20AoSA9BD4rqQP86AEEg/f1AyN7/QG3nBkE0EYFAK6uRQG6k1kDGp61Ard+qQEQP7kDyU9FAT0iBQNYmzECmGK1A9TrJQJXK2kADOb1AOoP8QMhosUDedQBBeFX1QGlD5kDD6vVAIHiBQDwKzkBA8xNBqgC4QL66/UCdpK9AZF2mQKt+yED5RshA9hb8QFvyDUHghuFAfx4KQTkz90D1675AJXvvQFvK1UB3ohBBsf8JQfRE+kCtBK1A4naTQAMDeEA3ECZBRZz/QDbQ4EBSVedAgGTTQNh3xEDzNfZArFHdQOYS6EBBB6hAd+oDQXf0D0HjmeJAyLveQDhD2EDxbNlAYDfRQGLm80A3VQJBom7FQJO8pkDf1OtA/ODGQC9S80AAGMFAnMD2QMOD2kAReZFArFhoQNEEFUGoxKdA++LBQIRWDEF9DPdAxHwJQXdr1kA9wexABUD3QBPoj0ABuqJASdfxQPeN7EAxz9RAXjjMQFwcAEFN1/xAVi7bQOw4skASKcFAcbTpQBQfm0D5UBxBz6oFQU6I7UC++bVAzevFQEqzTkAhNBRBkH7TQFZDr0AxmI9AMWjGQMIoiUDCWeVAvrOiQLsK0kA90LpAtLkNQYS9h0A8yBtBDZm6QBbOx0DNaxpB4JX9QMtiAkH7i7pAQojdQJuhh0AhIMhAFCDgQH09F0Eb5LtAlta2QLhAz0A1/OhAm3HaQKGss0CdhsRAJWTWQK044EArpd1Abk3iQDFhvECYVcxAlgbpQIiVvkAIjK9Av7+EQE64tkD2afpAs1buQF78AUH2abNACuniQMCe5kDmKuJAY6+8QEaI+0AaVbNAnlf7QNg9BkEB7RtBy1FvQHN5y0AlZKJAEmbwQJkUxEA4TtBAjugIQaR6uUB6s/BAc7fwQNnslEDtUJZAuKomQfJSA0GwmshAxwHoQHkviUDMCwdBrPTcQFkSlkAXLwxBRHkHQWFM7UCL8dpA8DrzQKhDu0BBPcdAgtfFQDcv3kCBgrNARCufQFGux0AsydZAVB/DQOGZw0BmX+tAdmEFQQd38UDIb/xAw3TuQN5N2kD4Hf9AOO0BQfIcqUAAXONAypvzQFeV7UDOOfJADZICQVdX20BlIfFAu4jrQGXsz0BpA9xAnmfEQOadtkAFwrBA7bDbQC4LkkAV/ohAJEvFQEVDAEGSaaVAt7K+QE7i/0AtyLhAzfvQQCAcvkDnu/RAz67pQBBJAEH1ONtAbi30QJ1YCUFF4uNA79nKQAGuDkHuNvxAo8/yQBt0i0C90vhADz/2QO1cy0BINfJAKHn6QExVBUErDKNAgKnGQBh26UBR5KFAIlQCQaSJ80Aj/txAM7L3QAtgp0DeKgZBgZvxQN2rAUE0eLtAC8G8QBnEDkEmp41AE6TGQIXA9kC68vlAAHu2QAzg8UCDA7RAjj6zQFYdiEAblN1AMASuQD4ZxUAMgbtAxa24QIhUn0CFl5hAXOvdQOt7AEEpvYJApiXTQMLZYUD/X9VAcpy8QPUUt0C5CgJB7vS6QGvy4UBMJZ1AHObNQJGl90CPtdxAQEqVQP0nvUCSE/NAkXglQWbR8ECMwfZALFjWQCY8F0GTQQZBKfTKQNZ26UC2XL1A1YINQVpcxkAdao5ARSLZQJt7g0B2ze9Aec4MQWTe9EAVDeBAgBMCQVOvB0HjrMhA+h3RQB47r0A8qKdA6YfYQHv2w0D45/9AEtHZQG0A3kApSoNAq9bUQBGfukB/b/lArGLFQNsoakChxMhAP2XOQOmr6kBehdxANS0EQWki10A5tLJAFgnsQE8Cq0ChIuVAfb8NQaXr00C6QARB1ffLQHJrBEGHefJAEVSTQCX5C0HI6BtBBnn6QOQv50ClqtxAFi7LQH/+9UCFcQBBYo/+QNKxd0CcRexAEdnaQJBQFkGMLvBAvl2mQF8UhEDxLvxAs7omQXJBqEBspr5Aps3AQAw54UAPrAFBGpwPQVop5UA0dLJAKSy6QBjl6EBMD9xAExDaQAu01ED1Ke1A12f9QHrxxkCr99xA/WjBQPXvykDredpAorTAQNzz90AoIfhAzXf/QNc5+EBXCMhANMXhQI2wEUF3s9RA11fSQMmxzkC0p6hATtzQQGEXukCxNfdAj62gQCID7UDF2eBAF5jSQJHp8kDxMwZBRhL2QCqq30DnI8xAqf7sQN8CC0F0HNdAJlnRQIMXzEB5J/ZAr8XtQA3ElkCU/QFBJSIVQcbP7EDukgBBCKTOQHbUt0AZlPpA8aPvQJI/8ECk98JAysUBQUFH8kAdtd5A7/jYQD8R8kDN+txA45OfQNZ8nkBQ6t1AWTHBQL5ThEBZPrlAqY7lQLtOiUC/haZAW2cMQRWMsUDXsgRBJwTTQLt52UA+Y+lAAKgMQfQzAEH/j/lAFb/NQG3aDkHjjqFA3q7AQC/xBEE0pfxA7le5QNsxjEDPagFBUsrWQM+320BiMSNBb038QNy5zUBnic1AdEYLQVfFtkALvgxBUzndQNU12EDlOdFAa+3OQCfIxUBMRfRAqF/KQFNYyUCYqcFAZAj6QCEGfkB01QVBdhWcQCgF6ECRB9dAn8PsQFusvUBtAeVAVFLRQCoM10BcptpAXt+oQBl61UCYa+dAf1oDQXb6tUAuruBAu8jSQBXEy0DH87lAPMTIQCa8AEF8iIFA13PoQE/lBEFlUw5BBiLMQM52AkHBVL1AdYTBQEzU7kD8zwBBOhivQBCq7UCYJ5ZA36TCQFhEGUF4GOxA1Q0aQVcmiUAfEhtBSFPvQOEIsEDibO9AjyvxQAgl3UD7b5ZAIU/GQDtJzEBjnM1A6qzCQFY+kUAz4+RACNcMQeh8FEGtAQlBu0MFQYj31UA7vrxA33m2QJcMhUB7vQRBPiPyQK+K+UBU4exAae/dQECywUCqPe9AvcQIQfWJzEA7D8RAeL+ZQF9WEUEZBclA+gfXQD3VkUBR9chAOePPQGKy90B5ltxACpHfQFoYDkGk87JAsYzZQH8u9UDYpeZAIavHQLNbx0AQcvdAXabhQAitFUHslgFBEnQWQdBx3EBE+vlAg43qQK/bx0Ahl7NAXQbyQEobCEGpINFADof3QJTOAUFHn+BAuCLQQCtO9ECnsQFBvMHuQBQeC0FmF4NAHSLfQCXo1kB1tL1A+rDkQEIP00BuhwJBaHjQQFtIC0E6IPlADoztQIPG7kA=\"},\"shape\":[5000],\"dtype\":\"float32\",\"order\":\"little\"}],[\"y\",{\"type\":\"ndarray\",\"array\":{\"type\":\"bytes\",\"data\":\"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\"},\"shape\":[5000],\"dtype\":\"float32\",\"order\":\"little\"}],[\"color\",[\"blue\",\"blue\",\"blue\",\"blue\",\"blue\",\"blue\",\"blue\",\"blue\",\"blue\",\"blue\",\"blue\",\"blue\",\"blue\",\"blue\",\"blue\",\"blue\",\"blue\",\"blue\",\"blue\",\"blue\",\"blue\",\"blue\",\"blue\",\"blue\",\"blue\",\"blue\",\"blue\",\"blue\",\"blue\",\"blue\",\"blue\",\"blue\",\"blue\",\"blue\",\"blue\",\"blue\",\"blue\",\"blue\",\"blue\",\"blue\",\"blue\",\"blue\",\"blue\",\"blue\",\"blue\",\"blue\",\"blue\",\"blue\",\"blue\",\"blue\",\"blue\",\"blue\",\"blue\",\"blue\",\"blue\",\"blue\",\"blue\",\"blue\",\"blue\",\"blue\",\"blue\",\"blue\",\"blue\",\"blue\",\"blue\",\"blue\",\"blue\",\"blue\",\"blue\",\"blue\",\"blue\",\"blue\",\"blue\",\"blue\",\"blue\",\"blue\",\"blue\",\"blue\",\"blue\",\"blue\",\"blue\",\"blue\",\"blue\",\"blue\",\"blue\",\"blue\",\"blue\",\"blue\",\"blue\",\"blue\",\"blue\",\"blue\",\"blue\",\"blue\",\"blue\",\"blue\",\"blue\",\"blue\",\"blue\",\"blue\",\"blue\",\"blue\",\"blue\",\"blue\",\"blue\",\"blue\",\"blue\",\"blue\",\"blue\",\"blue\",\"blue\",\"blue\",\"blue\",\"blue\",\"blue\",\"blue\",\"blue\",\"blue\",\"blue\",\"blue\",\"blue\",\"blue\",\"blue\",\"blue\",\"blue\",\"blue\",\"blue\",\"blue\",\"blue\",\"blue\",\"blue\",\"blue\",\"blue\",\"blue\",\"blue\",\"blue\",\"blue\",\"blue\",\"blue\",\"blue\",\"blue\",\"blue\",\"blue\",\"blue\",\"blue\",\"blue\",\"blue\",\"blue\",\"blue\",\"blue\",\"blue\",\"blue\",\"blue\",\"blue\",\"blue\",\"blue\",\"blue\",\"blue\",\"blue\",\"blue\",\"blue\",\"blue\",\"blue\",\"blue\",\"blue\",\"blue\",\"blue\",\"blue\",\"blue\",\"blue\",\"blue\",\"blue\",\"blue\",\"blue\",\"blue\",\"blue\",\"blue\",\"blue\",\"blue\",\"blue\",\"blue\",\"blue\",\"blue\",\"blue\",\"blue\",\"blue\",\"blue\",\"blue\",\"blue\",\"blue\",\"blue\",\"blue\",\"blue\",\"blue\",\"blue\",\"blue\",\"blue\",\"blue\",\"blue\",\"blue\",\"blue\",\"blue\",\"blue\",\"blue\",\"blue\",\"blue\",\"blue\",\"blue\",\"blue\",\"blue\",\"blue\",\"blue\",\"blue\",\"blue\",\"blue\",\"blue\",\"blue\",\"blue\",\"blue\",\"blue\",\"blue\",\"blue\",\"blue\",\"blue\",\"blue\",\"blue\",\"blue\",\"blue\",\"blue\",\"blue\",\"blue\",\"blue\",\"blue\",\"blue\",\"blue\",\"blue\",\"blue\",\"blue\",\"blue\",\"blue\",\"blue\",\"blue\",\"blue\",\"blue\",\"blue\",\"blue\",\"blue\",\"blue\",\"blue\",\"blue\",\"blue\",\"blue\",\"blue\",\"blue\",\"blue\",\"blue\",\"blue\",\"blue\",\"blue\",\"blue\",\"blue\",\"blue\",\"blue\",\"blue\",\"blue\",\"blue\",\"blue\",\"blue\",\"blue\",\"blue\",\"blue\",\"blue\",\"blue\",\"blue\",\"blue\",\"blue\",\"blue\",\"blue\",\"blue\",\"blue\",\"blue\",\"blue\",\"blue\",\"blue\",\"blue\",\"blue\",\"blue\",\"blue\",\"blue\",\"blue\",\"blue\",\"blue\",\"blue\",\"blue\",\"blue\",\"blue\",\"blue\",\"blue\",\"blue\",\"blue\",\"blue\",\"blue\",\"blue\",\"blue\",\"blue\",\"blue\",\"blue\",\"blue\",\"blue\",\"blue\",\"blue\",\"blue\",\"blue\",\"blue\",\"blue\",\"blue\",\"blue\",\"blue\",\"blue\",\"blue\",\"blue\",\"blue\",\"blue\",\"blue\",\"blue\",\"blue\",\"blue\",\"blue\",\"blue\",\"blue\",\"blue\",\"blue\",\"blue\",\"blue\",\"blue\",\"blue\",\"blue\",\"blue\",\"blue\",\"blue\",\"blue\",\"blue\",\"blue\",\"blue\",\"blue\",\"blue\",\"blue\",\"blue\",\"blue\",\"blue\",\"blue\",\"blue\",\"blue\",\"blue\",\"blue\",\"blue\",\"blue\",\"blue\",\"blue\",\"blue\",\"blue\",\"blue\",\"blue\",\"blue\",\"blue\",\"blue\",\"blue\",\"blue\",\"blue\",\"blue\",\"blue\",\"blue\",\"blue\",\"blue\",\"blue\",\"blue\",\"blue\",\"blue\",\"blue\",\"blue\",\"blue\",\"blue\",\"blue\",\"blue\",\"blue\",\"blue\",\"blue\",\"blue\",\"blue\",\"blue\",\"blue\",\"blue\",\"blue\",\"blue\",\"blue\",\"blue\",\"blue\",\"blue\",\"blue\",\"blue\",\"blue\",\"blue\",\"blue\",\"blue\",\"blue\",\"blue\",\"blue\",\"blue\",\"blue\",\"blue\",\"blue\",\"blue\",\"blue\",\"blue\",\"blue\",\"blue\",\"blue\",\"blue\",\"blue\",\"blue\",\"blue\",\"blue\",\"blue\",\"blue\",\"blue\",\"blue\",\"blue\",\"blue\",\"blue\",\"blue\",\"blue\",\"blue\",\"blue\",\"blue\",\"blue\",\"blue\",\"blue\",\"blue\",\"blue\",\"blue\",\"blue\",\"blue\",\"blue\",\"blue\",\"blue\",\"blue\",\"blue\",\"blue\",\"blue\",\"blue\",\"blue\",\"blue\",\"blue\",\"blue\",\"blue\",\"blue\",\"blue\",\"blue\",\"blue\",\"blue\",\"blue\",\"blue\",\"blue\",\"blue\",\"blue\",\"blue\",\"blue\",\"blue\",\"blue\",\"blue\",\"blue\",\"blue\",\"blue\",\"blue\",\"blue\",\"blue\",\"blue\",\"blue\",\"blue\",\"blue\",\"blue\",\"blue\",\"blue\",\"blue\",\"blue\",\"blue\",\"blue\",\"blue\",\"blue\",\"blue\",\"blue\",\"blue\",\"blue\",\"blue\",\"blue\",\"blue\",\"blue\",\"blue\",\"blue\",\"blue\",\"blue\",\"blue\",\"blue\",\"blue\",\"blue\",\"blue\",\"blue\",\"blue\",\"blue\",\"blue\",\"blue\",\"blue\",\"blue\",\"blue\",\"blue\",\"blue\",\"blue\",\"blue\",\"blue\",\"blue\",\"blue\",\"blue\",\"blue\",\"blue\",\"blue\",\"blue\",\"blue\",\"blue\",\"blue\",\"blue\",\"blue\",\"blue\",\"blue\",\"blue\",\"blue\",\"blue\",\"blue\",\"blue\",\"blue\",\"blue\",\"blue\",\"blue\",\"blue\",\"blue\",\"blue\",\"blue\",\"blue\",\"blue\",\"blue\",\"blue\",\"blue\",\"blue\",\"blue\",\"blue\",\"blue\",\"blue\",\"blue\",\"blue\",\"blue\",\"blue\",\"blue\",\"blue\",\"blue\",\"blue\",\"blue\",\"blue\",\"blue\",\"blue\",\"blue\",\"blue\",\"blue\",\"blue\",\"blue\",\"blue\",\"blue\",\"blue\",\"blue\",\"blue\",\"blue\",\"blue\",\"blue\",\"blue\",\"blue\",\"blue\",\"blue\",\"blue\",\"blue\",\"blue\",\"blue\",\"blue\",\"blue\",\"blue\",\"blue\",\"blue\",\"blue\",\"blue\",\"blue\",\"blue\",\"blue\",\"blue\",\"blue\",\"blue\",\"blue\",\"blue\",\"blue\",\"blue\",\"blue\",\"blue\",\"blue\",\"blue\",\"blue\",\"blue\",\"blue\",\"blue\",\"blue\",\"blue\",\"blue\",\"blue\",\"blue\",\"blue\",\"blue\",\"blue\",\"blue\",\"blue\",\"blue\",\"blue\",\"blue\",\"blue\",\"blue\",\"blue\",\"blue\",\"blue\",\"blue\",\"blue\",\"blue\",\"blue\",\"blue\",\"blue\",\"blue\",\"blue\",\"blue\",\"blue\",\"blue\",\"blue\",\"blue\",\"blue\",\"blue\",\"blue\",\"blue\",\"blue\",\"blue\",\"blue\",\"blue\",\"blue\",\"blue\",\"blue\",\"blue\",\"blue\",\"blue\",\"blue\",\"blue\",\"blue\",\"blue\",\"blue\",\"blue\",\"blue\",\"blue\",\"blue\",\"blue\",\"blue\",\"blue\",\"blue\",\"blue\",\"blue\",\"blue\",\"blue\",\"blue\",\"blue\",\"blue\",\"blue\",\"blue\",\"blue\",\"blue\",\"blue\",\"blue\",\"blue\",\"blue\",\"blue\",\"blue\",\"blue\",\"blue\",\"blue\",\"blue\",\"blue\",\"blue\",\"blue\",\"blue\",\"blue\",\"blue\",\"blue\",\"blue\",\"blue\",\"blue\",\"blue\",\"blue\",\"blue\",\"blue\",\"blue\",\"blue\",\"blue\",\"blue\",\"blue\",\"blue\",\"blue\",\"blue\",\"blue\",\"blue\",\"blue\",\"blue\",\"blue\",\"blue\",\"blue\",\"blue\",\"blue\",\"blue\",\"blue\",\"blue\",\"blue\",\"blue\",\"blue\",\"blue\",\"blue\",\"blue\",\"blue\",\"blue\",\"blue\",\"blue\",\"blue\",\"blue\",\"blue\",\"blue\",\"blue\",\"blue\",\"blue\",\"blue\",\"blue\",\"blue\",\"blue\",\"blue\",\"blue\",\"blue\",\"blue\",\"blue\",\"blue\",\"blue\",\"blue\",\"blue\",\"blue\",\"blue\",\"blue\",\"blue\",\"blue\",\"blue\",\"blue\",\"blue\",\"blue\",\"blue\",\"blue\",\"blue\",\"blue\",\"blue\",\"blue\",\"blue\",\"blue\",\"blue\",\"blue\",\"blue\",\"blue\",\"blue\",\"blue\",\"blue\",\"blue\",\"blue\",\"blue\",\"blue\",\"blue\",\"blue\",\"blue\",\"blue\",\"blue\",\"blue\",\"blue\",\"blue\",\"blue\",\"blue\",\"blue\",\"blue\",\"blue\",\"blue\",\"blue\",\"blue\",\"blue\",\"blue\",\"blue\",\"blue\",\"blue\",\"blue\",\"blue\",\"blue\",\"blue\",\"blue\",\"blue\",\"blue\",\"blue\",\"blue\",\"blue\",\"blue\",\"blue\",\"blue\",\"blue\",\"blue\",\"blue\",\"blue\",\"blue\",\"blue\",\"blue\",\"blue\",\"blue\",\"blue\",\"blue\",\"blue\",\"blue\",\"blue\",\"blue\",\"blue\",\"blue\",\"blue\",\"blue\",\"blue\",\"blue\",\"blue\",\"blue\",\"blue\",\"blue\",\"blue\",\"blue\",\"blue\",\"blue\",\"blue\",\"blue\",\"blue\",\"blue\",\"blue\",\"blue\",\"blue\",\"blue\",\"blue\",\"blue\",\"blue\",\"blue\",\"blue\",\"blue\",\"blue\",\"blue\",\"blue\",\"blue\",\"blue\",\"blue\",\"blue\",\"blue\",\"blue\",\"blue\",\"blue\",\"blue\",\"blue\",\"blue\",\"blue\",\"blue\",\"blue\",\"blue\",\"blue\",\"blue\",\"blue\",\"blue\",\"blue\",\"blue\",\"blue\",\"blue\",\"blue\",\"blue\",\"blue\",\"blue\",\"blue\",\"blue\",\"blue\",\"blue\",\"blue\",\"blue\",\"blue\",\"blue\",\"blue\",\"blue\",\"blue\",\"blue\",\"blue\",\"blue\",\"blue\",\"blue\",\"blue\",\"blue\",\"blue\",\"blue\",\"blue\",\"blue\",\"blue\",\"blue\",\"blue\",\"blue\",\"blue\",\"blue\",\"blue\",\"blue\",\"blue\",\"blue\",\"blue\",\"blue\",\"blue\",\"blue\",\"blue\",\"blue\",\"blue\",\"blue\",\"blue\",\"blue\",\"blue\",\"blue\",\"blue\",\"blue\",\"blue\",\"blue\",\"blue\",\"blue\",\"blue\",\"blue\",\"blue\",\"blue\",\"blue\",\"blue\",\"blue\",\"blue\",\"blue\",\"blue\",\"blue\",\"blue\",\"blue\",\"blue\",\"blue\",\"blue\",\"blue\",\"blue\",\"blue\",\"blue\",\"blue\",\"blue\",\"blue\",\"blue\",\"blue\",\"blue\",\"blue\",\"blue\",\"blue\",\"blue\",\"blue\",\"blue\",\"blue\",\"blue\",\"blue\",\"blue\",\"blue\",\"blue\",\"blue\",\"blue\",\"blue\",\"blue\",\"blue\",\"blue\",\"blue\",\"blue\",\"blue\",\"blue\",\"blue\",\"blue\",\"blue\",\"blue\",\"blue\",\"blue\",\"blue\",\"blue\",\"blue\",\"blue\",\"blue\",\"blue\",\"blue\",\"blue\",\"blue\",\"blue\",\"blue\",\"blue\",\"blue\",\"blue\",\"blue\",\"blue\",\"blue\",\"blue\",\"blue\",\"blue\",\"blue\",\"blue\",\"blue\",\"blue\",\"blue\",\"blue\",\"blue\",\"blue\",\"blue\",\"blue\",\"blue\",\"blue\",\"blue\",\"blue\",\"blue\",\"blue\",\"blue\",\"blue\",\"blue\",\"blue\",\"blue\",\"blue\",\"blue\",\"blue\",\"blue\",\"blue\",\"blue\",\"blue\",\"blue\",\"blue\",\"blue\",\"blue\",\"blue\",\"blue\",\"blue\",\"blue\",\"blue\",\"blue\",\"blue\",\"blue\",\"blue\",\"blue\",\"blue\",\"blue\",\"blue\",\"blue\",\"blue\",\"blue\",\"blue\",\"blue\",\"blue\",\"blue\",\"blue\",\"blue\",\"blue\",\"blue\",\"blue\",\"blue\",\"blue\",\"blue\",\"blue\",\"blue\",\"blue\",\"blue\",\"blue\",\"blue\",\"blue\",\"blue\",\"blue\",\"blue\",\"blue\",\"blue\",\"blue\",\"blue\",\"blue\",\"blue\",\"blue\",\"blue\",\"blue\",\"blue\",\"blue\",\"blue\",\"blue\",\"blue\",\"blue\",\"blue\",\"blue\",\"blue\",\"blue\",\"blue\",\"blue\",\"blue\",\"blue\",\"blue\",\"blue\",\"blue\",\"blue\",\"blue\",\"blue\",\"blue\",\"blue\",\"blue\",\"blue\",\"blue\",\"blue\",\"blue\",\"blue\",\"blue\",\"blue\",\"blue\",\"blue\",\"blue\",\"blue\",\"blue\",\"blue\",\"blue\",\"blue\",\"blue\",\"blue\",\"blue\",\"blue\",\"blue\",\"blue\",\"blue\",\"blue\",\"blue\",\"blue\",\"blue\",\"blue\",\"blue\",\"blue\",\"blue\",\"blue\",\"blue\",\"blue\",\"blue\",\"blue\",\"blue\",\"blue\",\"blue\",\"blue\",\"blue\",\"blue\",\"blue\",\"blue\",\"blue\",\"blue\",\"blue\",\"blue\",\"blue\",\"blue\",\"blue\",\"blue\",\"blue\",\"blue\",\"blue\",\"blue\",\"blue\",\"blue\",\"blue\",\"blue\",\"blue\",\"blue\",\"blue\",\"blue\",\"blue\",\"blue\",\"blue\",\"blue\",\"blue\",\"blue\",\"blue\",\"blue\",\"blue\",\"blue\",\"blue\",\"blue\",\"blue\",\"blue\",\"blue\",\"blue\",\"blue\",\"blue\",\"blue\",\"blue\",\"blue\",\"blue\",\"blue\",\"blue\",\"blue\",\"blue\",\"blue\",\"blue\",\"blue\",\"blue\",\"blue\",\"blue\",\"blue\",\"blue\",\"blue\",\"blue\",\"blue\",\"blue\",\"blue\",\"blue\",\"blue\",\"blue\",\"blue\",\"blue\",\"blue\",\"blue\",\"blue\",\"blue\",\"blue\",\"blue\",\"blue\",\"blue\",\"blue\",\"blue\",\"blue\",\"blue\",\"blue\",\"blue\",\"blue\",\"blue\",\"blue\",\"blue\",\"blue\",\"blue\",\"blue\",\"blue\",\"blue\",\"blue\",\"blue\",\"blue\",\"blue\",\"blue\",\"blue\",\"blue\",\"blue\",\"blue\",\"blue\",\"blue\",\"blue\",\"blue\",\"blue\",\"blue\",\"blue\",\"blue\",\"blue\",\"blue\",\"blue\",\"blue\",\"blue\",\"blue\",\"blue\",\"blue\",\"blue\",\"blue\",\"blue\",\"blue\",\"blue\",\"blue\",\"blue\",\"blue\",\"blue\",\"blue\",\"blue\",\"blue\",\"blue\",\"blue\",\"blue\",\"blue\",\"blue\",\"blue\",\"blue\",\"blue\",\"blue\",\"blue\",\"blue\",\"blue\",\"blue\",\"blue\",\"blue\",\"blue\",\"blue\",\"blue\",\"blue\",\"blue\",\"blue\",\"blue\",\"blue\",\"blue\",\"blue\",\"blue\",\"blue\",\"blue\",\"blue\",\"blue\",\"blue\",\"blue\",\"blue\",\"blue\",\"blue\",\"blue\",\"blue\",\"blue\",\"blue\",\"blue\",\"blue\",\"blue\",\"blue\",\"blue\",\"blue\",\"blue\",\"blue\",\"blue\",\"blue\",\"blue\",\"blue\",\"blue\",\"blue\",\"blue\",\"blue\",\"blue\",\"blue\",\"blue\",\"blue\",\"blue\",\"blue\",\"blue\",\"blue\",\"blue\",\"blue\",\"blue\",\"blue\",\"blue\",\"blue\",\"blue\",\"blue\",\"blue\",\"blue\",\"blue\",\"blue\",\"blue\",\"blue\",\"blue\",\"blue\",\"blue\",\"blue\",\"blue\",\"blue\",\"blue\",\"blue\",\"blue\",\"blue\",\"blue\",\"blue\",\"blue\",\"blue\",\"blue\",\"blue\",\"blue\",\"blue\",\"blue\",\"blue\",\"blue\",\"blue\",\"blue\",\"blue\",\"blue\",\"blue\",\"blue\",\"blue\",\"blue\",\"blue\",\"blue\",\"blue\",\"blue\",\"blue\",\"blue\",\"blue\",\"blue\",\"blue\",\"blue\",\"blue\",\"blue\",\"blue\",\"blue\",\"blue\",\"blue\",\"blue\",\"blue\",\"blue\",\"blue\",\"blue\",\"blue\",\"blue\",\"blue\",\"blue\",\"blue\",\"blue\",\"blue\",\"blue\",\"blue\",\"blue\",\"blue\",\"blue\",\"blue\",\"blue\",\"blue\",\"blue\",\"blue\",\"blue\",\"blue\",\"blue\",\"blue\",\"blue\",\"blue\",\"blue\",\"blue\",\"blue\",\"blue\",\"blue\",\"blue\",\"blue\",\"blue\",\"blue\",\"blue\",\"blue\",\"blue\",\"blue\",\"blue\",\"blue\",\"blue\",\"blue\",\"blue\",\"blue\",\"blue\",\"blue\",\"blue\",\"blue\",\"blue\",\"blue\",\"blue\",\"blue\",\"blue\",\"blue\",\"blue\",\"blue\",\"blue\",\"blue\",\"blue\",\"blue\",\"blue\",\"blue\",\"blue\",\"blue\",\"blue\",\"blue\",\"blue\",\"blue\",\"blue\",\"blue\",\"blue\",\"blue\",\"blue\",\"blue\",\"blue\",\"blue\",\"blue\",\"blue\",\"blue\",\"blue\",\"blue\",\"blue\",\"blue\",\"blue\",\"blue\",\"blue\",\"blue\",\"blue\",\"blue\",\"blue\",\"blue\",\"blue\",\"blue\",\"blue\",\"blue\",\"blue\",\"blue\",\"blue\",\"blue\",\"blue\",\"blue\",\"blue\",\"blue\",\"blue\",\"blue\",\"blue\",\"blue\",\"blue\",\"blue\",\"blue\",\"blue\",\"blue\",\"blue\",\"blue\",\"blue\",\"blue\",\"blue\",\"blue\",\"blue\",\"blue\",\"blue\",\"blue\",\"blue\",\"blue\",\"blue\",\"blue\",\"blue\",\"blue\",\"blue\",\"blue\",\"blue\",\"blue\",\"blue\",\"blue\",\"blue\",\"blue\",\"blue\",\"blue\",\"blue\",\"blue\",\"blue\",\"blue\",\"blue\",\"blue\",\"blue\",\"blue\",\"blue\",\"blue\",\"blue\",\"blue\",\"blue\",\"blue\",\"blue\",\"blue\",\"blue\",\"blue\",\"blue\",\"blue\",\"blue\",\"blue\",\"blue\",\"blue\",\"blue\",\"blue\",\"blue\",\"blue\",\"blue\",\"blue\",\"blue\",\"blue\",\"blue\",\"blue\",\"blue\",\"blue\",\"blue\",\"blue\",\"blue\",\"blue\",\"blue\",\"blue\",\"blue\",\"blue\",\"blue\",\"blue\",\"blue\",\"blue\",\"blue\",\"blue\",\"blue\",\"blue\",\"blue\",\"blue\",\"blue\",\"blue\",\"blue\",\"blue\",\"blue\",\"blue\",\"blue\",\"blue\",\"blue\",\"blue\",\"blue\",\"blue\",\"blue\",\"blue\",\"blue\",\"blue\",\"blue\",\"blue\",\"blue\",\"blue\",\"blue\",\"blue\",\"blue\",\"blue\",\"blue\",\"blue\",\"blue\",\"blue\",\"blue\",\"blue\",\"blue\",\"blue\",\"blue\",\"blue\",\"blue\",\"blue\",\"blue\",\"blue\",\"blue\",\"blue\",\"blue\",\"blue\",\"blue\",\"blue\",\"blue\",\"blue\",\"blue\",\"blue\",\"blue\",\"blue\",\"blue\",\"blue\",\"blue\",\"blue\",\"blue\",\"blue\",\"blue\",\"blue\",\"blue\",\"blue\",\"blue\",\"blue\",\"blue\",\"blue\",\"blue\",\"blue\",\"blue\",\"blue\",\"blue\",\"blue\",\"blue\",\"blue\",\"blue\",\"blue\",\"blue\",\"blue\",\"blue\",\"blue\",\"blue\",\"blue\",\"blue\",\"blue\",\"blue\",\"blue\",\"blue\",\"blue\",\"blue\",\"blue\",\"blue\",\"blue\",\"blue\",\"blue\",\"blue\",\"blue\",\"blue\",\"blue\",\"blue\",\"blue\",\"blue\",\"blue\",\"blue\",\"blue\",\"blue\",\"blue\",\"blue\",\"blue\",\"blue\",\"blue\",\"blue\",\"blue\",\"blue\",\"blue\",\"blue\",\"blue\",\"blue\",\"blue\",\"blue\",\"blue\",\"blue\",\"blue\",\"blue\",\"blue\",\"blue\",\"blue\",\"blue\",\"blue\",\"blue\",\"blue\",\"blue\",\"blue\",\"blue\",\"blue\",\"blue\",\"blue\",\"blue\",\"blue\",\"blue\",\"blue\",\"blue\",\"blue\",\"blue\",\"blue\",\"blue\",\"blue\",\"blue\",\"blue\",\"blue\",\"blue\",\"blue\",\"blue\",\"blue\",\"blue\",\"blue\",\"blue\",\"blue\",\"blue\",\"blue\",\"blue\",\"blue\",\"blue\",\"blue\",\"blue\",\"blue\",\"blue\",\"blue\",\"blue\",\"blue\",\"blue\",\"blue\",\"blue\",\"blue\",\"blue\",\"blue\",\"blue\",\"blue\",\"blue\",\"blue\",\"blue\",\"blue\",\"blue\",\"blue\",\"blue\",\"blue\",\"blue\",\"blue\",\"blue\",\"blue\",\"blue\",\"blue\",\"blue\",\"blue\",\"blue\",\"blue\",\"blue\",\"blue\",\"blue\",\"blue\",\"blue\",\"blue\",\"blue\",\"blue\",\"blue\",\"blue\",\"blue\",\"blue\",\"blue\",\"blue\",\"blue\",\"blue\",\"blue\",\"blue\",\"blue\",\"blue\",\"blue\",\"blue\",\"blue\",\"blue\",\"blue\",\"blue\",\"blue\",\"blue\",\"blue\",\"blue\",\"blue\",\"blue\",\"blue\",\"blue\",\"blue\",\"blue\",\"blue\",\"blue\",\"blue\",\"blue\",\"blue\",\"blue\",\"blue\",\"blue\",\"blue\",\"blue\",\"blue\",\"blue\",\"blue\",\"blue\",\"blue\",\"blue\",\"blue\",\"blue\",\"blue\",\"blue\",\"blue\",\"blue\",\"blue\",\"blue\",\"blue\",\"blue\",\"blue\",\"blue\",\"blue\",\"blue\",\"blue\",\"blue\",\"blue\",\"blue\",\"blue\",\"blue\",\"blue\",\"blue\",\"blue\",\"blue\",\"blue\",\"blue\",\"blue\",\"blue\",\"blue\",\"blue\",\"blue\",\"blue\",\"blue\",\"blue\",\"blue\",\"blue\",\"blue\",\"blue\",\"blue\",\"blue\",\"blue\",\"blue\",\"blue\",\"blue\",\"blue\",\"blue\",\"blue\",\"blue\",\"blue\",\"blue\",\"blue\",\"blue\",\"blue\",\"blue\",\"blue\",\"blue\",\"blue\",\"blue\",\"blue\",\"blue\",\"blue\",\"blue\",\"blue\",\"blue\",\"blue\",\"blue\",\"blue\",\"blue\",\"blue\",\"blue\",\"blue\",\"blue\",\"blue\",\"blue\",\"blue\",\"blue\",\"blue\",\"blue\",\"blue\",\"blue\",\"blue\",\"blue\",\"blue\",\"blue\",\"blue\",\"blue\",\"blue\",\"blue\",\"blue\",\"blue\",\"blue\",\"blue\",\"blue\",\"blue\",\"blue\",\"blue\",\"blue\",\"blue\",\"blue\",\"blue\",\"blue\",\"blue\",\"blue\",\"blue\",\"blue\",\"blue\",\"blue\",\"blue\",\"blue\",\"blue\",\"blue\",\"blue\",\"blue\",\"blue\",\"blue\",\"blue\",\"blue\",\"blue\",\"blue\",\"blue\",\"blue\",\"blue\",\"blue\",\"blue\",\"blue\",\"blue\",\"blue\",\"blue\",\"blue\",\"blue\",\"blue\",\"blue\",\"blue\",\"blue\",\"blue\",\"blue\",\"blue\",\"blue\",\"blue\",\"blue\",\"blue\",\"blue\",\"blue\",\"blue\",\"blue\",\"blue\",\"blue\",\"blue\",\"blue\",\"blue\",\"blue\",\"blue\",\"blue\",\"blue\",\"blue\",\"blue\",\"blue\",\"blue\",\"blue\",\"blue\",\"blue\",\"blue\",\"blue\",\"blue\",\"blue\",\"blue\",\"blue\",\"blue\",\"blue\",\"blue\",\"blue\",\"blue\",\"blue\",\"blue\",\"blue\",\"blue\",\"blue\",\"blue\",\"blue\",\"blue\",\"blue\",\"blue\",\"blue\",\"blue\",\"blue\",\"blue\",\"blue\",\"blue\",\"blue\",\"blue\",\"blue\",\"blue\",\"blue\",\"blue\",\"blue\",\"blue\",\"blue\",\"blue\",\"blue\",\"blue\",\"blue\",\"blue\",\"blue\",\"blue\",\"blue\",\"blue\",\"blue\",\"blue\",\"blue\",\"blue\",\"blue\",\"blue\",\"blue\",\"blue\",\"blue\",\"blue\",\"blue\",\"blue\",\"blue\",\"blue\",\"blue\",\"blue\",\"blue\",\"blue\",\"blue\",\"blue\",\"blue\",\"blue\",\"blue\",\"blue\",\"blue\",\"blue\",\"blue\",\"blue\",\"blue\",\"blue\",\"blue\",\"blue\",\"blue\",\"blue\",\"blue\",\"blue\",\"blue\",\"blue\",\"blue\",\"blue\",\"blue\",\"blue\",\"blue\",\"blue\",\"blue\",\"blue\",\"blue\",\"blue\",\"blue\",\"blue\",\"blue\",\"blue\",\"blue\",\"blue\",\"blue\",\"blue\",\"blue\",\"blue\",\"blue\",\"blue\",\"blue\",\"blue\",\"blue\",\"blue\",\"blue\",\"blue\",\"blue\",\"blue\",\"blue\",\"blue\",\"blue\",\"blue\",\"blue\",\"blue\",\"blue\",\"blue\",\"blue\",\"blue\",\"blue\",\"blue\",\"blue\",\"blue\",\"blue\",\"blue\",\"blue\",\"blue\",\"blue\",\"blue\",\"blue\",\"blue\",\"blue\",\"blue\",\"blue\",\"blue\",\"blue\",\"blue\",\"blue\",\"blue\",\"blue\",\"blue\",\"blue\",\"blue\",\"blue\",\"blue\",\"blue\",\"blue\",\"blue\",\"blue\",\"blue\",\"blue\",\"blue\",\"blue\",\"blue\",\"blue\",\"blue\",\"blue\",\"blue\",\"blue\",\"blue\",\"blue\",\"blue\",\"blue\",\"blue\",\"blue\",\"blue\",\"blue\",\"blue\",\"blue\",\"blue\",\"blue\",\"blue\",\"blue\",\"blue\",\"blue\",\"blue\",\"blue\",\"blue\",\"blue\",\"blue\",\"blue\",\"blue\",\"blue\",\"blue\",\"blue\",\"blue\",\"blue\",\"blue\",\"blue\",\"blue\",\"blue\",\"blue\",\"blue\",\"blue\",\"blue\",\"blue\",\"blue\",\"blue\",\"blue\",\"blue\",\"blue\",\"blue\",\"blue\",\"blue\",\"blue\",\"blue\",\"blue\",\"blue\",\"blue\",\"blue\",\"blue\",\"blue\",\"blue\",\"blue\",\"blue\",\"blue\",\"blue\",\"blue\",\"blue\",\"blue\",\"blue\",\"blue\",\"blue\",\"blue\",\"blue\",\"blue\",\"blue\",\"blue\",\"blue\",\"blue\",\"blue\",\"blue\",\"blue\",\"blue\",\"blue\",\"blue\",\"blue\",\"blue\",\"blue\",\"blue\",\"blue\",\"blue\",\"blue\",\"blue\",\"blue\",\"blue\",\"blue\",\"blue\",\"blue\",\"blue\",\"blue\",\"blue\",\"blue\",\"blue\",\"blue\",\"blue\",\"blue\",\"blue\",\"blue\",\"blue\",\"blue\",\"blue\",\"blue\",\"blue\",\"blue\",\"blue\",\"blue\",\"blue\",\"blue\",\"blue\",\"blue\",\"blue\",\"blue\",\"blue\",\"blue\",\"blue\",\"blue\",\"blue\",\"blue\",\"blue\",\"blue\",\"blue\",\"blue\",\"blue\",\"blue\",\"blue\",\"blue\",\"blue\",\"blue\",\"blue\",\"blue\",\"blue\",\"blue\",\"blue\",\"blue\",\"blue\",\"blue\",\"blue\",\"blue\",\"blue\",\"blue\",\"blue\",\"blue\",\"blue\",\"blue\",\"blue\",\"blue\",\"blue\",\"blue\",\"blue\",\"blue\",\"blue\",\"blue\",\"blue\",\"blue\",\"blue\",\"blue\",\"blue\",\"blue\",\"blue\",\"blue\",\"blue\",\"blue\",\"blue\",\"blue\",\"blue\",\"blue\",\"blue\",\"blue\",\"blue\",\"blue\",\"blue\",\"blue\",\"blue\",\"blue\",\"blue\",\"blue\",\"blue\",\"blue\",\"blue\",\"blue\",\"blue\",\"blue\",\"blue\",\"blue\",\"blue\",\"blue\",\"blue\",\"blue\",\"blue\",\"blue\",\"blue\",\"blue\",\"blue\",\"blue\",\"blue\",\"blue\",\"blue\",\"blue\",\"blue\",\"blue\",\"blue\",\"blue\",\"blue\",\"blue\",\"blue\",\"blue\",\"blue\",\"blue\",\"blue\",\"blue\",\"blue\",\"blue\",\"blue\",\"blue\",\"blue\",\"blue\",\"blue\",\"blue\",\"blue\",\"blue\",\"blue\",\"blue\",\"blue\",\"blue\",\"blue\",\"blue\",\"blue\",\"blue\",\"blue\",\"blue\",\"blue\",\"blue\",\"blue\",\"blue\",\"blue\",\"blue\",\"blue\",\"blue\",\"blue\",\"blue\",\"blue\",\"blue\",\"blue\",\"blue\",\"blue\",\"blue\",\"blue\",\"blue\",\"blue\",\"blue\",\"blue\",\"blue\",\"blue\",\"blue\",\"blue\",\"blue\",\"blue\",\"blue\",\"blue\",\"blue\",\"blue\",\"blue\",\"blue\",\"blue\",\"blue\",\"blue\",\"blue\",\"blue\",\"blue\",\"blue\",\"blue\",\"blue\",\"blue\",\"blue\",\"blue\",\"blue\",\"blue\",\"blue\",\"blue\",\"blue\",\"blue\",\"blue\",\"blue\",\"blue\",\"blue\",\"blue\",\"blue\",\"blue\",\"blue\",\"blue\",\"blue\",\"blue\",\"blue\",\"blue\",\"blue\",\"blue\",\"blue\",\"blue\",\"blue\",\"blue\",\"blue\",\"blue\",\"blue\",\"blue\",\"blue\",\"blue\",\"blue\",\"blue\",\"blue\",\"blue\",\"blue\",\"blue\",\"blue\",\"blue\",\"blue\",\"blue\",\"blue\",\"blue\",\"blue\",\"blue\",\"blue\",\"blue\",\"blue\",\"blue\",\"blue\",\"blue\",\"blue\",\"blue\",\"blue\",\"blue\",\"blue\",\"blue\",\"blue\",\"blue\",\"blue\",\"blue\",\"blue\",\"blue\",\"blue\",\"blue\",\"blue\",\"blue\",\"blue\",\"blue\",\"blue\",\"blue\",\"blue\",\"blue\",\"blue\",\"blue\",\"blue\",\"blue\",\"blue\",\"blue\",\"blue\",\"blue\",\"blue\",\"blue\",\"blue\",\"blue\",\"blue\",\"blue\",\"blue\",\"blue\",\"blue\",\"blue\",\"blue\",\"blue\",\"blue\",\"blue\",\"blue\",\"blue\",\"blue\",\"blue\",\"blue\",\"blue\",\"blue\",\"blue\",\"blue\",\"blue\",\"blue\",\"blue\",\"blue\",\"blue\",\"blue\",\"blue\",\"blue\",\"blue\",\"blue\",\"blue\",\"blue\",\"blue\",\"blue\",\"blue\",\"blue\",\"blue\",\"blue\",\"blue\",\"blue\",\"blue\",\"blue\",\"blue\",\"blue\",\"blue\",\"blue\",\"blue\",\"blue\",\"blue\",\"blue\",\"blue\",\"blue\",\"blue\",\"blue\",\"blue\",\"blue\",\"blue\",\"blue\",\"blue\",\"blue\",\"blue\",\"blue\",\"blue\",\"blue\",\"blue\",\"blue\",\"blue\",\"blue\",\"blue\",\"blue\",\"blue\",\"blue\",\"blue\",\"blue\",\"blue\",\"blue\",\"blue\",\"blue\",\"blue\",\"blue\",\"blue\",\"blue\",\"blue\",\"blue\",\"blue\",\"blue\",\"blue\",\"blue\",\"blue\",\"blue\",\"blue\",\"blue\",\"blue\",\"blue\",\"blue\",\"blue\",\"blue\",\"blue\",\"blue\",\"blue\",\"blue\",\"blue\",\"blue\",\"blue\",\"blue\",\"blue\",\"blue\",\"blue\",\"blue\",\"blue\",\"blue\",\"blue\",\"blue\",\"blue\",\"blue\",\"blue\",\"blue\",\"blue\",\"blue\",\"blue\",\"blue\",\"blue\",\"blue\",\"blue\",\"blue\",\"blue\",\"blue\",\"blue\",\"blue\",\"blue\",\"blue\",\"blue\",\"blue\",\"blue\",\"blue\",\"blue\",\"blue\",\"blue\",\"blue\",\"blue\",\"blue\",\"blue\",\"blue\",\"blue\",\"blue\",\"blue\",\"blue\",\"blue\",\"blue\",\"blue\",\"blue\",\"blue\",\"blue\",\"blue\",\"blue\",\"blue\",\"blue\",\"blue\",\"blue\",\"blue\",\"blue\",\"blue\",\"blue\",\"blue\",\"blue\",\"blue\",\"blue\",\"blue\",\"blue\",\"blue\",\"blue\",\"blue\",\"blue\",\"blue\",\"blue\",\"blue\",\"blue\",\"blue\",\"blue\",\"blue\",\"blue\",\"blue\",\"blue\",\"blue\",\"blue\",\"blue\",\"blue\",\"blue\",\"blue\",\"blue\",\"blue\",\"blue\",\"blue\",\"blue\",\"blue\",\"blue\",\"blue\",\"blue\",\"blue\",\"blue\",\"blue\",\"blue\",\"blue\",\"blue\",\"blue\",\"blue\",\"blue\",\"blue\",\"blue\",\"blue\",\"blue\",\"blue\",\"blue\",\"blue\",\"blue\",\"blue\",\"blue\",\"blue\",\"blue\",\"blue\",\"blue\",\"blue\",\"blue\",\"blue\",\"blue\",\"blue\",\"blue\",\"blue\",\"blue\",\"blue\",\"blue\",\"blue\",\"blue\",\"blue\",\"blue\",\"blue\",\"blue\",\"blue\",\"blue\",\"blue\",\"blue\",\"blue\",\"blue\",\"blue\",\"blue\",\"blue\",\"blue\",\"blue\",\"blue\",\"blue\",\"blue\",\"blue\",\"blue\",\"blue\",\"blue\",\"blue\",\"blue\",\"blue\",\"blue\",\"blue\",\"blue\",\"blue\",\"blue\",\"blue\",\"blue\",\"blue\",\"blue\",\"blue\",\"blue\",\"blue\",\"blue\",\"blue\",\"blue\",\"blue\",\"blue\",\"blue\",\"blue\",\"blue\",\"blue\",\"blue\",\"blue\",\"blue\",\"blue\",\"blue\",\"blue\",\"blue\",\"blue\",\"blue\",\"blue\",\"blue\",\"blue\",\"blue\",\"blue\",\"blue\",\"blue\",\"blue\",\"blue\",\"blue\",\"blue\",\"blue\",\"blue\",\"blue\",\"blue\",\"blue\",\"blue\",\"blue\",\"blue\",\"blue\",\"blue\",\"blue\",\"blue\",\"blue\",\"blue\",\"blue\",\"blue\",\"blue\",\"blue\",\"blue\",\"blue\",\"blue\",\"blue\",\"blue\",\"blue\",\"blue\",\"blue\",\"blue\",\"blue\",\"blue\",\"blue\",\"blue\",\"blue\",\"blue\",\"blue\",\"blue\",\"blue\",\"blue\",\"blue\",\"blue\",\"blue\",\"blue\",\"blue\",\"blue\",\"blue\",\"blue\",\"blue\",\"blue\",\"blue\",\"blue\",\"blue\",\"blue\",\"blue\",\"blue\",\"blue\",\"blue\",\"blue\",\"blue\",\"blue\",\"blue\",\"blue\",\"blue\",\"blue\",\"blue\",\"blue\",\"blue\",\"blue\",\"blue\",\"blue\",\"blue\",\"blue\",\"blue\",\"blue\",\"blue\",\"blue\",\"blue\",\"blue\",\"blue\",\"blue\",\"blue\",\"blue\",\"blue\",\"blue\",\"blue\",\"blue\",\"blue\",\"blue\",\"blue\",\"blue\",\"blue\",\"blue\",\"blue\",\"blue\",\"blue\",\"blue\",\"blue\",\"blue\",\"blue\",\"blue\",\"blue\",\"blue\",\"blue\",\"blue\",\"blue\",\"blue\",\"blue\",\"blue\",\"blue\",\"blue\",\"blue\",\"blue\",\"blue\",\"blue\",\"blue\",\"blue\",\"blue\",\"blue\",\"blue\",\"blue\",\"blue\",\"blue\",\"blue\",\"blue\",\"blue\",\"blue\",\"blue\",\"blue\",\"blue\",\"blue\",\"blue\",\"blue\",\"blue\",\"blue\",\"blue\",\"blue\",\"blue\",\"blue\",\"blue\",\"blue\",\"blue\",\"blue\",\"blue\",\"blue\",\"blue\",\"blue\",\"blue\",\"blue\",\"blue\",\"blue\",\"blue\",\"blue\",\"blue\",\"blue\",\"blue\",\"blue\",\"blue\",\"blue\",\"blue\",\"blue\",\"blue\",\"blue\",\"blue\",\"blue\",\"blue\",\"blue\",\"blue\",\"blue\",\"blue\",\"blue\",\"blue\",\"blue\",\"blue\",\"blue\",\"blue\",\"blue\",\"blue\",\"blue\",\"blue\",\"blue\",\"blue\",\"blue\",\"blue\",\"blue\",\"blue\",\"blue\",\"blue\",\"blue\",\"blue\",\"blue\",\"blue\",\"blue\",\"blue\",\"blue\",\"blue\",\"blue\",\"blue\",\"blue\",\"blue\",\"blue\",\"blue\",\"blue\",\"blue\",\"blue\",\"blue\",\"blue\",\"blue\",\"blue\",\"blue\",\"blue\",\"blue\",\"blue\",\"blue\",\"blue\",\"blue\",\"blue\",\"blue\",\"blue\",\"blue\",\"blue\",\"blue\",\"blue\",\"blue\",\"blue\",\"blue\",\"blue\",\"blue\",\"blue\",\"blue\",\"blue\",\"blue\",\"blue\",\"blue\",\"blue\",\"blue\",\"blue\",\"blue\",\"blue\",\"blue\",\"blue\",\"blue\",\"blue\",\"blue\",\"blue\",\"blue\",\"blue\",\"blue\",\"blue\",\"blue\",\"blue\",\"blue\",\"blue\",\"blue\",\"blue\",\"blue\",\"blue\",\"blue\",\"blue\",\"blue\",\"blue\",\"blue\",\"blue\",\"blue\",\"blue\",\"blue\",\"blue\",\"blue\",\"blue\",\"blue\",\"blue\",\"blue\",\"blue\",\"blue\",\"blue\",\"blue\",\"blue\",\"blue\",\"blue\",\"blue\",\"blue\",\"blue\",\"blue\",\"blue\",\"blue\",\"blue\",\"blue\",\"blue\",\"blue\",\"blue\",\"blue\",\"blue\",\"blue\",\"blue\",\"blue\",\"blue\",\"blue\",\"blue\",\"blue\",\"blue\",\"blue\",\"blue\",\"blue\",\"blue\",\"blue\",\"blue\",\"blue\",\"blue\",\"blue\",\"blue\",\"blue\",\"blue\",\"blue\",\"blue\",\"blue\",\"blue\",\"blue\",\"blue\",\"blue\",\"blue\",\"blue\",\"blue\",\"blue\",\"blue\",\"blue\",\"blue\",\"blue\",\"blue\",\"blue\",\"blue\",\"blue\",\"blue\",\"blue\",\"blue\",\"blue\",\"blue\",\"blue\",\"blue\",\"blue\",\"blue\",\"blue\",\"blue\",\"blue\",\"blue\",\"blue\",\"blue\",\"blue\",\"blue\",\"blue\",\"blue\",\"blue\",\"blue\",\"blue\",\"blue\",\"blue\",\"blue\",\"blue\",\"blue\",\"blue\",\"blue\",\"blue\",\"blue\",\"blue\",\"blue\",\"blue\",\"blue\",\"blue\",\"blue\",\"blue\",\"blue\",\"blue\",\"blue\",\"blue\",\"blue\",\"blue\",\"blue\",\"blue\",\"blue\",\"blue\",\"blue\",\"blue\",\"blue\",\"blue\",\"blue\",\"blue\",\"blue\",\"blue\",\"blue\",\"blue\",\"blue\",\"blue\",\"blue\",\"blue\",\"blue\",\"blue\",\"blue\",\"blue\",\"blue\",\"blue\",\"blue\",\"blue\",\"blue\",\"blue\",\"blue\",\"blue\",\"blue\",\"blue\",\"blue\",\"blue\",\"blue\",\"blue\",\"blue\",\"blue\",\"blue\",\"blue\",\"blue\",\"blue\",\"blue\",\"blue\",\"blue\",\"blue\",\"blue\",\"blue\",\"blue\",\"blue\",\"blue\",\"blue\",\"blue\",\"blue\",\"blue\",\"blue\",\"blue\",\"blue\",\"blue\",\"blue\",\"blue\",\"blue\",\"blue\",\"blue\",\"blue\",\"blue\",\"blue\",\"blue\",\"blue\",\"blue\",\"blue\",\"blue\",\"blue\",\"blue\",\"blue\",\"blue\",\"blue\",\"blue\",\"blue\",\"blue\",\"blue\",\"blue\",\"blue\",\"blue\",\"blue\",\"blue\",\"blue\",\"blue\",\"blue\",\"blue\",\"blue\",\"blue\",\"blue\",\"blue\",\"blue\",\"blue\",\"blue\",\"blue\",\"blue\",\"blue\",\"blue\",\"blue\",\"blue\",\"blue\",\"blue\",\"blue\",\"blue\",\"blue\",\"blue\",\"blue\",\"blue\",\"blue\",\"blue\",\"blue\",\"blue\",\"blue\",\"blue\",\"blue\",\"blue\",\"blue\",\"blue\",\"blue\",\"blue\",\"blue\",\"blue\",\"blue\",\"blue\",\"blue\",\"blue\",\"blue\",\"blue\",\"blue\",\"blue\",\"blue\",\"blue\",\"blue\",\"blue\",\"blue\",\"blue\",\"blue\",\"blue\",\"blue\",\"blue\",\"blue\",\"blue\",\"blue\",\"blue\",\"blue\",\"blue\",\"blue\",\"blue\",\"blue\",\"blue\",\"blue\",\"blue\",\"blue\",\"blue\",\"blue\",\"blue\",\"blue\",\"blue\",\"blue\",\"blue\",\"blue\",\"blue\",\"blue\",\"blue\",\"blue\",\"blue\",\"blue\",\"blue\",\"blue\",\"blue\",\"blue\",\"blue\",\"blue\",\"blue\",\"blue\",\"blue\",\"blue\",\"blue\",\"blue\",\"blue\",\"blue\",\"blue\",\"blue\",\"blue\",\"blue\",\"blue\",\"blue\",\"blue\",\"blue\",\"blue\",\"blue\",\"blue\",\"blue\",\"blue\",\"blue\",\"blue\",\"blue\",\"blue\",\"blue\",\"blue\",\"blue\",\"blue\",\"blue\",\"blue\",\"blue\",\"blue\",\"blue\",\"blue\",\"blue\",\"blue\",\"blue\",\"blue\",\"blue\",\"blue\",\"blue\",\"blue\",\"blue\",\"blue\",\"blue\",\"blue\",\"blue\",\"blue\",\"blue\",\"blue\",\"blue\",\"blue\",\"blue\",\"blue\",\"blue\",\"blue\",\"blue\",\"blue\",\"blue\",\"blue\",\"blue\",\"blue\",\"blue\",\"blue\",\"blue\",\"blue\",\"blue\",\"blue\",\"blue\",\"blue\",\"blue\",\"blue\",\"blue\",\"blue\",\"blue\",\"blue\",\"blue\",\"blue\",\"blue\",\"blue\",\"blue\",\"blue\",\"blue\",\"blue\",\"blue\",\"blue\",\"blue\",\"blue\",\"blue\",\"blue\",\"blue\",\"blue\",\"blue\",\"blue\",\"blue\",\"blue\",\"blue\",\"blue\",\"blue\",\"blue\",\"blue\",\"blue\",\"blue\",\"blue\",\"blue\",\"blue\",\"blue\",\"blue\",\"blue\",\"blue\",\"blue\",\"blue\",\"blue\",\"blue\",\"blue\",\"blue\",\"blue\",\"blue\",\"blue\",\"blue\",\"blue\",\"blue\",\"blue\",\"blue\",\"blue\",\"blue\",\"blue\",\"blue\",\"blue\",\"blue\",\"blue\",\"blue\",\"blue\",\"blue\",\"blue\",\"blue\",\"blue\",\"blue\",\"blue\",\"blue\",\"blue\",\"blue\",\"blue\",\"blue\",\"blue\",\"blue\",\"blue\",\"blue\",\"blue\",\"blue\",\"blue\",\"blue\",\"blue\",\"blue\",\"blue\",\"blue\",\"blue\",\"blue\",\"blue\",\"blue\",\"blue\",\"blue\",\"blue\",\"blue\",\"blue\",\"blue\",\"blue\",\"blue\",\"blue\",\"blue\",\"blue\",\"blue\",\"blue\",\"blue\",\"blue\",\"blue\",\"blue\",\"blue\",\"blue\",\"blue\",\"blue\",\"blue\",\"blue\",\"blue\",\"blue\",\"blue\",\"blue\",\"blue\",\"blue\",\"blue\",\"blue\",\"blue\",\"blue\",\"blue\",\"blue\",\"blue\",\"blue\",\"blue\",\"blue\",\"blue\",\"blue\",\"blue\",\"blue\",\"blue\",\"blue\",\"blue\",\"blue\",\"blue\",\"blue\",\"blue\",\"blue\",\"blue\",\"blue\",\"blue\",\"blue\",\"blue\",\"blue\",\"blue\",\"blue\",\"blue\",\"blue\",\"blue\",\"blue\",\"blue\",\"blue\",\"blue\",\"blue\",\"blue\",\"blue\",\"blue\",\"blue\",\"blue\",\"blue\",\"blue\",\"blue\",\"blue\",\"blue\",\"blue\",\"blue\",\"blue\",\"blue\",\"blue\",\"blue\",\"blue\",\"blue\",\"blue\",\"blue\",\"blue\",\"blue\",\"blue\",\"blue\",\"blue\",\"blue\",\"blue\",\"blue\",\"blue\",\"blue\",\"blue\",\"blue\",\"blue\",\"blue\",\"blue\",\"blue\",\"blue\",\"blue\",\"blue\",\"blue\",\"blue\",\"blue\",\"blue\",\"blue\",\"blue\",\"blue\",\"blue\",\"blue\",\"blue\",\"blue\",\"blue\",\"blue\",\"blue\",\"blue\",\"blue\",\"blue\",\"blue\",\"blue\",\"blue\",\"blue\",\"blue\",\"blue\",\"blue\",\"blue\",\"blue\",\"blue\",\"blue\",\"blue\",\"blue\",\"blue\",\"blue\",\"blue\",\"blue\",\"blue\",\"blue\",\"blue\",\"blue\",\"blue\",\"blue\",\"blue\",\"blue\",\"blue\",\"blue\",\"blue\",\"blue\",\"blue\",\"blue\",\"blue\",\"blue\",\"blue\",\"blue\",\"blue\",\"blue\",\"blue\",\"blue\",\"blue\",\"blue\",\"blue\",\"blue\",\"blue\",\"blue\",\"blue\",\"blue\",\"blue\",\"blue\",\"blue\",\"blue\",\"blue\",\"blue\",\"blue\",\"blue\",\"blue\",\"blue\",\"blue\",\"blue\",\"blue\",\"blue\",\"blue\",\"blue\",\"blue\",\"blue\",\"blue\",\"blue\",\"blue\",\"blue\",\"blue\",\"blue\",\"blue\",\"blue\",\"blue\",\"blue\",\"blue\",\"blue\",\"blue\",\"blue\",\"blue\",\"blue\",\"blue\",\"blue\",\"blue\",\"blue\",\"blue\",\"blue\",\"blue\",\"blue\",\"blue\",\"blue\",\"blue\",\"blue\",\"blue\",\"blue\",\"blue\",\"blue\",\"blue\",\"blue\",\"blue\",\"blue\",\"blue\",\"blue\",\"blue\",\"blue\",\"blue\",\"blue\",\"blue\",\"blue\",\"blue\",\"blue\",\"blue\",\"blue\",\"blue\",\"blue\",\"blue\",\"blue\",\"blue\",\"blue\",\"blue\",\"blue\",\"blue\",\"blue\",\"blue\",\"blue\",\"blue\",\"blue\",\"blue\",\"blue\",\"blue\",\"blue\",\"blue\",\"blue\",\"blue\",\"blue\",\"blue\",\"blue\",\"blue\",\"blue\",\"blue\",\"blue\",\"blue\",\"blue\",\"blue\",\"blue\",\"blue\",\"blue\",\"blue\",\"blue\",\"blue\",\"blue\",\"blue\",\"blue\",\"blue\",\"blue\",\"blue\",\"blue\",\"blue\",\"blue\",\"blue\",\"blue\",\"blue\",\"blue\",\"blue\",\"blue\",\"blue\",\"blue\",\"blue\",\"blue\",\"blue\",\"blue\",\"blue\",\"blue\",\"blue\",\"blue\",\"blue\",\"blue\",\"blue\",\"blue\",\"blue\",\"blue\",\"blue\",\"blue\",\"blue\",\"blue\",\"blue\",\"blue\",\"blue\",\"blue\",\"blue\",\"blue\",\"blue\",\"blue\",\"blue\",\"blue\",\"blue\",\"blue\",\"blue\",\"blue\",\"blue\",\"blue\",\"blue\",\"blue\",\"blue\",\"blue\",\"blue\",\"blue\",\"blue\",\"blue\",\"blue\",\"blue\",\"blue\",\"blue\",\"blue\",\"blue\",\"blue\",\"blue\",\"blue\",\"blue\",\"blue\",\"blue\",\"blue\",\"blue\",\"blue\",\"blue\",\"blue\",\"blue\",\"blue\",\"blue\",\"blue\",\"blue\",\"blue\",\"blue\",\"blue\",\"blue\",\"blue\",\"blue\",\"blue\",\"blue\",\"blue\",\"blue\",\"blue\",\"blue\",\"blue\",\"blue\",\"blue\",\"blue\",\"blue\",\"blue\",\"blue\",\"blue\",\"blue\",\"blue\",\"blue\",\"blue\",\"blue\",\"blue\",\"blue\",\"blue\",\"blue\",\"blue\",\"blue\",\"blue\",\"blue\",\"blue\",\"blue\",\"blue\",\"blue\",\"blue\",\"blue\",\"blue\",\"blue\",\"blue\",\"blue\",\"blue\",\"blue\",\"blue\",\"blue\",\"blue\",\"blue\",\"blue\",\"blue\",\"blue\",\"blue\",\"blue\",\"blue\",\"blue\",\"blue\",\"blue\",\"blue\",\"blue\",\"blue\",\"blue\",\"blue\",\"blue\",\"blue\",\"blue\",\"blue\",\"blue\",\"blue\",\"blue\",\"blue\",\"blue\",\"blue\",\"blue\",\"blue\",\"blue\",\"blue\",\"blue\",\"blue\",\"blue\",\"blue\",\"blue\",\"blue\",\"blue\",\"blue\",\"blue\",\"blue\",\"blue\",\"blue\",\"blue\",\"blue\",\"blue\",\"blue\",\"blue\",\"blue\",\"blue\",\"blue\",\"blue\",\"blue\",\"blue\",\"blue\",\"blue\",\"blue\",\"blue\",\"blue\",\"blue\",\"blue\",\"blue\",\"blue\",\"blue\",\"blue\",\"blue\",\"blue\",\"blue\",\"blue\",\"blue\",\"blue\",\"blue\",\"blue\",\"blue\",\"blue\",\"blue\",\"blue\",\"blue\",\"blue\",\"blue\",\"blue\",\"blue\",\"blue\",\"blue\",\"blue\",\"blue\",\"blue\",\"blue\",\"blue\",\"blue\",\"blue\",\"blue\",\"blue\",\"blue\",\"blue\",\"blue\",\"blue\",\"blue\",\"blue\",\"blue\",\"blue\",\"blue\",\"blue\",\"blue\",\"blue\",\"blue\",\"blue\",\"blue\",\"blue\",\"blue\",\"blue\",\"blue\",\"blue\",\"blue\",\"blue\",\"blue\",\"blue\",\"blue\",\"blue\",\"blue\",\"blue\",\"blue\",\"blue\",\"blue\",\"blue\",\"blue\",\"blue\",\"blue\",\"blue\",\"blue\",\"blue\",\"blue\",\"blue\",\"blue\",\"blue\",\"blue\",\"blue\",\"blue\",\"blue\",\"blue\",\"blue\",\"blue\",\"blue\",\"blue\",\"blue\",\"blue\",\"blue\",\"blue\",\"blue\",\"blue\",\"blue\",\"blue\",\"blue\",\"blue\",\"blue\",\"blue\",\"blue\",\"blue\",\"blue\",\"blue\",\"blue\",\"blue\",\"blue\",\"blue\",\"blue\",\"blue\",\"blue\",\"blue\",\"blue\",\"blue\",\"blue\",\"blue\",\"blue\",\"blue\",\"blue\",\"blue\",\"blue\",\"blue\",\"blue\",\"blue\",\"blue\",\"blue\",\"blue\",\"blue\",\"blue\",\"blue\",\"blue\",\"blue\",\"blue\",\"blue\",\"blue\",\"blue\",\"blue\",\"blue\",\"blue\",\"blue\",\"blue\",\"blue\",\"blue\",\"blue\",\"blue\",\"blue\",\"blue\",\"blue\",\"blue\",\"blue\",\"blue\",\"blue\",\"blue\",\"blue\",\"blue\",\"blue\",\"blue\",\"blue\",\"blue\",\"blue\",\"blue\",\"blue\",\"blue\",\"blue\",\"blue\",\"blue\",\"blue\",\"blue\",\"blue\",\"blue\",\"blue\",\"blue\",\"blue\",\"blue\",\"blue\",\"blue\",\"blue\",\"blue\",\"blue\",\"blue\",\"blue\",\"blue\",\"blue\",\"blue\",\"blue\",\"blue\",\"blue\",\"blue\",\"blue\",\"blue\",\"blue\",\"blue\",\"blue\",\"blue\",\"blue\",\"blue\",\"blue\",\"blue\",\"blue\",\"blue\",\"blue\",\"blue\",\"blue\",\"blue\",\"blue\",\"blue\",\"blue\",\"blue\",\"blue\",\"blue\",\"blue\",\"blue\",\"blue\",\"blue\",\"blue\",\"blue\",\"blue\",\"blue\",\"blue\",\"blue\",\"blue\",\"blue\",\"blue\",\"blue\",\"blue\",\"blue\",\"blue\",\"blue\",\"blue\",\"blue\",\"blue\",\"blue\",\"blue\",\"blue\",\"blue\",\"blue\",\"blue\",\"blue\",\"blue\",\"blue\",\"blue\",\"blue\",\"blue\",\"blue\",\"blue\",\"blue\",\"blue\",\"blue\",\"blue\",\"blue\",\"blue\",\"blue\",\"blue\",\"blue\",\"blue\",\"blue\",\"blue\",\"blue\",\"blue\",\"blue\",\"blue\",\"blue\",\"blue\",\"blue\",\"blue\",\"blue\",\"blue\",\"blue\",\"blue\",\"blue\",\"blue\",\"blue\",\"blue\",\"blue\",\"blue\",\"blue\",\"blue\",\"blue\",\"blue\",\"blue\",\"blue\",\"blue\",\"blue\",\"blue\",\"blue\",\"blue\",\"blue\",\"blue\",\"blue\",\"blue\",\"blue\",\"blue\",\"blue\",\"blue\",\"blue\",\"blue\",\"blue\",\"blue\",\"blue\",\"blue\",\"blue\",\"blue\",\"blue\",\"blue\",\"blue\",\"blue\",\"blue\",\"blue\",\"blue\",\"blue\",\"blue\",\"blue\",\"blue\",\"blue\",\"blue\",\"blue\",\"blue\",\"blue\",\"blue\",\"blue\",\"blue\",\"blue\",\"blue\",\"blue\",\"blue\",\"blue\",\"blue\",\"blue\",\"blue\",\"blue\",\"blue\",\"blue\",\"blue\",\"blue\",\"blue\",\"blue\",\"blue\",\"blue\",\"blue\",\"blue\",\"blue\",\"blue\",\"blue\",\"blue\",\"blue\",\"blue\",\"blue\",\"blue\",\"blue\",\"blue\",\"blue\",\"blue\",\"blue\",\"blue\",\"blue\",\"blue\",\"blue\",\"blue\",\"blue\",\"blue\",\"blue\",\"blue\",\"blue\",\"blue\",\"blue\",\"blue\",\"blue\",\"blue\",\"blue\",\"blue\",\"blue\",\"blue\",\"blue\",\"blue\",\"blue\",\"blue\",\"blue\",\"blue\",\"blue\",\"blue\",\"blue\",\"blue\",\"blue\",\"blue\",\"blue\",\"blue\",\"blue\",\"blue\",\"blue\",\"blue\",\"blue\",\"blue\",\"blue\",\"blue\",\"blue\",\"blue\",\"blue\",\"blue\",\"blue\",\"blue\",\"blue\",\"blue\",\"blue\",\"blue\",\"blue\",\"blue\",\"blue\",\"blue\",\"blue\",\"blue\",\"blue\",\"blue\",\"blue\",\"blue\",\"blue\",\"blue\",\"blue\",\"blue\",\"blue\",\"blue\",\"blue\",\"blue\",\"blue\",\"blue\",\"blue\",\"blue\",\"blue\",\"blue\",\"blue\",\"blue\",\"blue\",\"blue\",\"blue\",\"blue\",\"blue\",\"blue\",\"blue\",\"blue\",\"blue\",\"blue\",\"blue\",\"blue\",\"blue\",\"blue\",\"blue\",\"blue\",\"blue\",\"blue\",\"blue\",\"blue\",\"blue\",\"blue\",\"blue\",\"blue\",\"blue\",\"blue\",\"blue\",\"blue\",\"blue\",\"blue\",\"blue\",\"blue\",\"blue\",\"blue\",\"blue\",\"blue\",\"blue\",\"blue\",\"blue\",\"blue\",\"blue\",\"blue\",\"blue\",\"blue\",\"blue\",\"blue\",\"blue\",\"blue\",\"blue\",\"blue\",\"blue\",\"blue\",\"blue\",\"blue\",\"blue\",\"blue\",\"blue\",\"blue\",\"blue\",\"blue\",\"blue\",\"blue\",\"blue\",\"blue\",\"blue\",\"blue\",\"blue\",\"blue\",\"blue\",\"blue\",\"blue\",\"blue\",\"blue\",\"blue\",\"blue\",\"blue\",\"blue\",\"blue\",\"blue\",\"blue\",\"blue\",\"blue\",\"blue\",\"blue\",\"blue\",\"blue\",\"blue\",\"blue\",\"blue\",\"blue\",\"blue\",\"blue\",\"blue\",\"blue\",\"blue\",\"blue\",\"blue\",\"blue\",\"blue\",\"blue\",\"blue\",\"blue\",\"blue\",\"blue\",\"blue\",\"blue\",\"blue\",\"blue\",\"blue\",\"blue\",\"blue\",\"blue\",\"blue\",\"blue\",\"blue\",\"blue\",\"blue\",\"blue\",\"blue\",\"blue\",\"blue\",\"blue\",\"blue\",\"blue\",\"blue\",\"blue\",\"blue\",\"blue\",\"blue\",\"blue\",\"blue\",\"blue\",\"blue\",\"blue\",\"blue\",\"blue\",\"blue\",\"blue\",\"blue\",\"blue\",\"blue\",\"blue\",\"blue\",\"blue\",\"blue\",\"blue\",\"blue\",\"blue\",\"blue\",\"blue\",\"blue\",\"blue\",\"blue\",\"blue\",\"blue\",\"blue\",\"blue\",\"blue\",\"blue\",\"blue\",\"blue\",\"blue\",\"blue\",\"blue\",\"blue\",\"blue\",\"blue\",\"blue\",\"blue\",\"blue\",\"blue\",\"blue\",\"blue\",\"blue\",\"blue\",\"blue\",\"blue\",\"blue\",\"blue\",\"blue\",\"blue\",\"blue\",\"blue\",\"blue\",\"blue\",\"blue\",\"blue\",\"blue\",\"blue\",\"blue\",\"blue\",\"blue\",\"blue\",\"blue\",\"blue\",\"blue\",\"blue\",\"blue\",\"blue\",\"blue\",\"blue\",\"blue\",\"blue\",\"blue\",\"blue\",\"blue\",\"blue\",\"blue\",\"blue\",\"blue\",\"blue\",\"blue\",\"blue\",\"blue\",\"blue\",\"blue\",\"blue\",\"blue\",\"blue\",\"blue\",\"blue\",\"blue\",\"blue\",\"blue\",\"blue\",\"blue\",\"blue\",\"blue\",\"blue\",\"blue\",\"blue\",\"blue\",\"blue\",\"blue\",\"blue\",\"blue\",\"blue\",\"blue\",\"blue\",\"blue\",\"blue\",\"blue\",\"blue\",\"blue\",\"blue\",\"blue\",\"blue\",\"blue\",\"blue\",\"blue\",\"blue\",\"blue\",\"blue\",\"blue\",\"blue\",\"blue\",\"blue\",\"blue\",\"blue\",\"blue\",\"blue\",\"blue\",\"blue\",\"blue\",\"blue\",\"blue\",\"blue\",\"blue\",\"blue\",\"blue\",\"blue\",\"blue\",\"blue\",\"blue\",\"blue\",\"blue\",\"blue\",\"blue\",\"blue\",\"blue\",\"blue\",\"blue\",\"blue\",\"blue\",\"blue\",\"blue\",\"blue\",\"blue\",\"blue\",\"blue\",\"blue\",\"blue\",\"blue\",\"blue\",\"blue\",\"blue\",\"blue\",\"blue\",\"blue\",\"blue\",\"blue\",\"blue\",\"blue\",\"blue\",\"blue\",\"blue\",\"blue\",\"blue\",\"blue\",\"blue\",\"blue\",\"blue\",\"blue\",\"blue\",\"blue\",\"blue\",\"blue\",\"blue\",\"blue\",\"blue\",\"blue\",\"blue\",\"blue\",\"blue\",\"blue\",\"blue\",\"blue\",\"blue\",\"blue\",\"blue\",\"blue\",\"blue\",\"blue\",\"blue\",\"blue\",\"blue\",\"blue\",\"blue\",\"blue\",\"blue\",\"blue\",\"blue\",\"blue\",\"blue\",\"blue\",\"blue\",\"blue\",\"blue\",\"blue\",\"blue\",\"blue\",\"blue\",\"blue\",\"blue\",\"blue\",\"blue\",\"blue\",\"blue\",\"blue\",\"blue\",\"blue\",\"blue\",\"blue\",\"blue\",\"blue\",\"blue\",\"blue\",\"blue\",\"blue\",\"blue\",\"blue\",\"blue\",\"blue\",\"blue\",\"blue\",\"blue\",\"blue\",\"blue\",\"blue\",\"blue\",\"blue\",\"blue\",\"blue\",\"blue\",\"blue\",\"blue\",\"blue\",\"blue\",\"blue\",\"blue\",\"blue\",\"blue\",\"blue\",\"blue\",\"blue\",\"blue\",\"blue\",\"blue\",\"blue\",\"blue\",\"blue\",\"blue\",\"blue\",\"blue\",\"blue\",\"blue\",\"blue\",\"blue\",\"blue\",\"blue\",\"blue\",\"blue\",\"blue\",\"blue\",\"blue\",\"blue\",\"blue\",\"blue\",\"blue\",\"blue\",\"blue\",\"blue\",\"blue\",\"blue\",\"blue\",\"blue\",\"blue\",\"blue\",\"blue\",\"blue\",\"blue\",\"blue\",\"blue\",\"blue\",\"blue\",\"blue\",\"blue\",\"blue\",\"blue\",\"blue\",\"blue\",\"blue\",\"blue\",\"blue\",\"blue\",\"blue\",\"blue\",\"blue\",\"blue\",\"blue\",\"blue\",\"blue\",\"blue\",\"blue\",\"blue\",\"blue\",\"blue\",\"blue\",\"blue\",\"blue\",\"blue\",\"blue\",\"blue\",\"blue\",\"blue\",\"blue\",\"blue\",\"blue\",\"blue\",\"blue\",\"blue\",\"blue\",\"blue\",\"blue\",\"blue\",\"blue\",\"blue\",\"blue\",\"blue\",\"blue\",\"blue\",\"blue\",\"blue\",\"blue\",\"blue\",\"blue\",\"blue\",\"blue\",\"blue\",\"blue\",\"blue\",\"blue\",\"blue\",\"blue\",\"blue\",\"blue\",\"blue\",\"blue\",\"blue\",\"blue\",\"blue\",\"blue\",\"blue\",\"blue\",\"blue\",\"blue\",\"blue\",\"blue\",\"blue\",\"blue\",\"blue\",\"blue\",\"blue\",\"blue\",\"blue\",\"blue\",\"blue\",\"blue\",\"blue\",\"blue\",\"blue\",\"blue\",\"blue\",\"blue\",\"blue\",\"blue\",\"blue\",\"blue\",\"blue\",\"blue\",\"blue\",\"blue\",\"blue\",\"blue\",\"blue\",\"blue\",\"blue\",\"blue\",\"blue\",\"blue\",\"blue\",\"blue\",\"blue\",\"blue\",\"blue\",\"blue\",\"blue\",\"blue\",\"blue\",\"blue\",\"blue\",\"blue\",\"blue\",\"blue\",\"blue\",\"blue\",\"blue\",\"blue\",\"blue\",\"blue\",\"blue\",\"blue\",\"blue\",\"blue\",\"blue\",\"blue\",\"blue\",\"blue\",\"blue\",\"blue\",\"blue\",\"blue\",\"blue\",\"blue\"]],[\"token\",[\"verified\",\"2gb\",\"illinois\",\"jazz\",\"checking\",\"telescope\",\"seasons\",\"astrologer\",\"contribution\",\"homemade\",\"heroes\",\"warcraft\",\"kumar\",\"tester\",\"politically\",\"conquer\",\"columbia\",\"quiet\",\"repeat\",\"kapil\",\"involve\",\"mckinsey\",\"switched\",\"att\",\"instance\",\"innocent\",\"portuguese\",\"subscribers\",\"cabinet\",\"terror\",\"85\",\"rotation\",\"shirts\",\"drawn\",\"bi\",\"aspergers\",\"inspiration\",\"beats\",\"\\u00a3\",\"approximately\",\"asset\",\"empathy\",\"rooting\",\"ia\",\"dandruff\",\"slab\",\"operator\",\"horrible\",\"dominant\",\"ocd\",\"spacetime\",\"blow\",\"installing\",\"learnt\",\"separation\",\"institution\",\"temples\",\"hons\",\"pound\",\"removing\",\"unemployment\",\"greenlit\",\"audit\",\"supplement\",\"roller\",\"dota\",\"tiny\",\"equally\",\"braces\",\"aggressive\",\"corn\",\"camps\",\"additional\",\"consent\",\"granted\",\"welfare\",\"myths\",\"stations\",\"timeline\",\"psychologist\",\"nagpur\",\"herself\",\"cooper\",\"exgirlfriend\",\"intercourse\",\"flip\",\"hurts\",\"lpa\",\"nerve\",\"tvs\",\"halloween\",\"screenshot\",\"biomedical\",\"covered\",\"milky\",\"onsite\",\"aside\",\"meaningful\",\"stretch\",\"joker\",\"encounter\",\"tone\",\"founders\",\"talked\",\"respectively\",\"downloads\",\"cocaine\",\"toxic\",\"sword\",\"fuck\",\"trainer\",\"partition\",\"boxing\",\"grid\",\"practicing\",\"menu\",\"cms\",\"indore\",\"ate\",\"volunteer\",\"misconceptions\",\"pics\",\"flies\",\"instantly\",\"trans\",\"friday\",\"sociopaths\",\"ctc\",\"hoax\",\"detailed\",\"sizes\",\"rejection\",\"limitations\",\"bharat\",\"kissing\",\"renewable\",\"oriented\",\"countrys\",\"dumps\",\"spiders\",\"technological\",\"advertisement\",\"headache\",\"zodiac\",\"accommodation\",\"venus\",\"calcium\",\"passenger\",\"falls\",\"overnight\",\"pickup\",\"gary\",\"transportation\",\"odds\",\"jupiter\",\"purchasing\",\"fluently\",\"flu\",\"photons\",\"conductor\",\"ohio\",\"balaji\",\"mcdonalds\",\"betting\",\"irrational\",\"sachin\",\"deactivate\",\"estimate\",\"hairs\",\"fluent\",\"errors\",\"remaining\",\"marriages\",\"medieval\",\"charles\",\"spider\",\"oxford\",\"gita\",\"races\",\"liquor\",\"poland\",\"lease\",\"co2\",\"selenium\",\"attempts\",\"crystal\",\"manaphy\",\"knight\",\"collapsed\",\"wheels\",\"behaviour\",\"bitcoins\",\"parliament\",\"himher\",\"handsome\",\"thousands\",\"caring\",\"kings\",\"lucky\",\"workplace\",\"condom\",\"intuitive\",\"chronic\",\"eyesight\",\"simulation\",\"prank\",\"quickest\",\"concert\",\"popularity\",\"connections\",\"disorders\",\"scripting\",\"appearance\",\"js\",\"depth\",\"cheque\",\"longterm\",\"documentaries\",\"dioxide\",\"bright\",\"info\",\"diseases\",\"appeal\",\"snap\",\"smoked\",\"singers\",\"boil\",\"probably\",\"temperatures\",\"appearing\",\"olive\",\"ntse\",\"telecom\",\"brief\",\"discrimination\",\"ethnic\",\"cache\",\"passionate\",\"shoulder\",\"assault\",\"marshmallow\",\"momentum\",\"yr\",\"migrate\",\"retire\",\"cet\",\"canvas\",\"vietnamese\",\"institutions\",\"meter\",\"roots\",\"integer\",\"imported\",\"ants\",\"lyft\",\"piercing\",\"il\",\"poop\",\"organisms\",\"ve\",\"entropy\",\"calm\",\"saddest\",\"toward\",\"myth\",\"sight\",\"filling\",\"hdmi\",\"satisfied\",\"transactions\",\"pharmacy\",\"nursing\",\"correlation\",\"regression\",\"awake\",\"md\",\"nri\",\"recommendations\",\"bin\",\"finland\",\"multi\",\"voted\",\"discovery\",\"edward\",\"touching\",\"immigrant\",\"geometry\",\"indicate\",\"ourselves\",\"texting\",\"seek\",\"expecting\",\"dj\",\"brake\",\"helicopter\",\"blonde\",\"triple\",\"ladies\",\"vivekananda\",\"switching\",\"prostitution\",\"banana\",\"magazines\",\"shippuden\",\"lucknow\",\"2019\",\"failing\",\"elizabeth\",\"irish\",\"ebook\",\"temporary\",\"governor\",\"wasting\",\"weekends\",\"cpt\",\"wax\",\"labor\",\"instruments\",\"instrumentation\",\"hates\",\"hip\",\"arnab\",\"bubble\",\"employers\",\"aadhaar\",\"boyfriends\",\"jake\",\"explained\",\"yesterday\",\"beta\",\"extrovert\",\"andhra\",\"micromax\",\"vertical\",\"lay\",\"nonprofit\",\"dubbed\",\"typing\",\"automotive\",\"thomas\",\"procedures\",\"priority\",\"funded\",\"arabs\",\"siblings\",\"guinea\",\"missile\",\"luck\",\"strategic\",\"defend\",\"module\",\"tuition\",\"acids\",\"controller\",\"committee\",\"housing\",\"integral\",\"peaceful\",\"refugees\",\"prescription\",\"interns\",\"supported\",\"womans\",\"dentist\",\"wives\",\"village\",\"affecting\",\"lte\",\"beaches\",\"austin\",\"substance\",\"engagement\",\"trainee\",\"measures\",\"trailer\",\"purchased\",\"15000\",\"uttar\",\"glue\",\"dtu\",\"medal\",\"photon\",\"engg\",\"violin\",\"column\",\"somehow\",\"rotate\",\"3000\",\"virat\",\"forgotten\",\"fingers\",\"slim\",\"arrest\",\"covalent\",\"ncert\",\"kernel\",\"da\",\"alarm\",\"ngo\",\"4gb\",\"productivity\",\"planned\",\"district\",\"berlin\",\"lists\",\"leads\",\"slang\",\"defence\",\"aspiring\",\"56\",\"enemy\",\"farming\",\"muller\",\"pays\",\"liver\",\"membrane\",\"secretly\",\"plug\",\"gum\",\"eclipse\",\"chewing\",\"labs\",\"zombie\",\"authority\",\"males\",\"argentina\",\"tasks\",\"fell\",\"nails\",\"palestine\",\"tanks\",\"identical\",\"deck\",\"qualification\",\"leadership\",\"kohli\",\"pronunciation\",\"hello\",\"violent\",\"sabha\",\"respiration\",\"transform\",\"warranty\",\"faculty\",\"adolf\",\"expenses\",\"jersey\",\"mercury\",\"whiskey\",\"tackle\",\"tweet\",\"blame\",\"cruise\",\"mahindra\",\"discharge\",\"reduced\",\"vodka\",\"mahatma\",\"bass\",\"compete\",\"stains\",\"pill\",\"swim\",\"ali\",\"gf\",\"ford\",\"prince\",\"sweat\",\"performing\",\"limits\",\"leonardo\",\"cow\",\"resolve\",\"matters\",\"pharmaceutical\",\"ray\",\"remotely\",\"pf\",\"clinical\",\"bpo\",\"homeless\",\"husbands\",\"rising\",\"newtons\",\"outcome\",\"derivative\",\"alpha\",\"grown\",\"capitalism\",\"astronaut\",\"hybrid\",\"palm\",\"teens\",\"hits\",\"airplanes\",\"none\",\"admin\",\"applicable\",\"amcat\",\"spam\",\"neutrality\",\"pixel\",\"festival\",\"faces\",\"molar\",\"snakes\",\"sip\",\"kik\",\"farm\",\"ltd\",\"votes\",\"publishing\",\"comfort\",\"frontend\",\"spin\",\"diagnosed\",\"buildings\",\"\\u00b0\",\"cashless\",\"addictive\",\"extinct\",\"ugc\",\"coke\",\"llb\",\"phrases\",\"struggle\",\"drives\",\"fiber\",\"grocery\",\"achieved\",\"penny\",\"bath\",\"allies\",\"uninstall\",\"ny\",\"appears\",\"effort\",\"satellites\",\"confirmed\",\"loneliness\",\"illuminati\",\"uri\",\"lucid\",\"preferably\",\"neither\",\"\\u221a\",\"pacific\",\"americas\",\"bs\",\"graduated\",\"bills\",\"tube\",\"germans\",\"assume\",\"cleared\",\"mate\",\"divide\",\"versions\",\"fallen\",\"journey\",\"anthem\",\"certificates\",\"looked\",\"sponsor\",\"useless\",\"dependent\",\"invite\",\"guru\",\"keyword\",\"aipmt\",\"clone\",\"kgs\",\"chip\",\"origins\",\"wide\",\"motivational\",\"elite\",\"wanna\",\"unity\",\"cough\",\"connecting\",\"mystery\",\"kim\",\"syrian\",\"voldemort\",\"responsibilities\",\"molecules\",\"boobs\",\"holidays\",\"tutorial\",\"circumstances\",\"fiitjee\",\"islands\",\"bypass\",\"slowly\",\"mixture\",\"aluminum\",\"salesforce\",\"twin\",\"iot\",\"remedy\",\"sheets\",\"pole\",\"hated\",\"females\",\"protected\",\"irs\",\"insecure\",\"entering\",\"neuroscience\",\"offices\",\"delta\",\"suggestion\",\"snapdeal\",\"backstory\",\"periodic\",\"cancelled\",\"mans\",\"complicated\",\"bitsat\",\"pleasure\",\"loop\",\"dropbox\",\"selfish\",\"nude\",\"20000\",\"voter\",\"variables\",\"victory\",\"closest\",\"compensation\",\"extended\",\"locations\",\"cracked\",\"perks\",\"ended\",\"exit\",\"awareness\",\"pakistanis\",\"ebooks\",\"bull\",\"unblock\",\"100000\",\"entrepreneurship\",\"infrastructure\",\"scotland\",\"guest\",\"attacked\",\"hurting\",\"lion\",\"reject\",\"purposes\",\"knife\",\"thai\",\"ipl\",\"knee\",\"accepting\",\"spent\",\"punjabi\",\"tab\",\"quoras\",\"caffeine\",\"athletes\",\"ink\",\"cooked\",\"improving\",\"invaded\",\"allah\",\"thermodynamics\",\"mortgage\",\"firsttime\",\"achievements\",\"issued\",\"breath\",\"award\",\"llc\",\"legends\",\"mood\",\"influenced\",\"proteins\",\"holy\",\"performed\",\"pee\",\"blocks\",\"molecule\",\"interests\",\"imei\",\"requires\",\"cisco\",\"moves\",\"marrying\",\"mca\",\"perfectly\",\"iisc\",\"corporation\",\"shiva\",\"viruses\",\"difficulty\",\"50000\",\"volte\",\"shampoo\",\"secular\",\"transplant\",\"ghz\",\"ahead\",\"crew\",\"interact\",\"depend\",\"hawaii\",\"hiv\",\"evening\",\"vegetable\",\"revenge\",\"suppose\",\"busy\",\"label\",\"rogue\",\"rational\",\"hillstation\",\"brains\",\"urdu\",\"imagine\",\"salaries\",\"survey\",\"g4\",\"butt\",\"manufacturers\",\"saas\",\"residency\",\"recommendation\",\"purple\",\"fault\",\"aadhar\",\"aging\",\"bhopal\",\"conducted\",\"loses\",\"infection\",\"forest\",\"impacts\",\"collection\",\"fridge\",\"diamond\",\"mis\",\"recorded\",\"march\",\"conditioner\",\"signature\",\"listed\",\"branches\",\"manchester\",\"wanting\",\"perception\",\"absolutely\",\"servers\",\"soluble\",\"swami\",\"lumia\",\"directors\",\"52\",\"2008\",\"gaining\",\"stereotypes\",\"homes\",\"vegas\",\"jam\",\"behave\",\"relatively\",\"forum\",\"ib\",\"earphones\",\"facilities\",\"april\",\"finally\",\"tail\",\"capacitor\",\"tiger\",\"deaf\",\"deliver\",\"django\",\"expand\",\"skip\",\"nearly\",\"maybe\",\"task\",\"gateway\",\"strangest\",\"abstract\",\"adding\",\"suck\",\"tim\",\"printed\",\"sigma\",\"immigrate\",\"decline\",\"arrested\",\"95\",\"narcissistic\",\"freelancing\",\"patterns\",\"expired\",\"casual\",\"tablets\",\"patients\",\"lean\",\"pieces\",\"laymans\",\"whatever\",\"polish\",\"lemon\",\"abortion\",\"i3\",\"theorem\",\"h\",\"compulsory\",\"helped\",\"sons\",\"feminism\",\"compiler\",\"tested\",\"enhance\",\"adhd\",\"manhattan\",\"iii\",\"nail\",\"eee\",\"deals\",\"excellent\",\"ipo\",\"folder\",\"sand\",\"continuous\",\"capable\",\"libraries\",\"aggregate\",\"64\",\"bsnl\",\"profiles\",\"spirit\",\"pulled\",\"owns\",\"deloitte\",\"therapist\",\"acts\",\"millions\",\"authors\",\"marathi\",\"dvd\",\"coconut\",\"swiss\",\"interaction\",\"ncr\",\"kannada\",\"smallest\",\"advisable\",\"smartest\",\"sorry\",\"normally\",\"ends\",\"rome\",\"spectrum\",\"cousin\",\"75\",\"suzuki\",\"nights\",\"cap\",\"enable\",\"counselling\",\"proxy\",\"margin\",\"shops\",\"hackers\",\"tatkal\",\"opened\",\"cinema\",\"consumption\",\"coal\",\"silent\",\"choosing\",\"introduction\",\"electromagnetic\",\"hcl\",\"complaint\",\"puppies\",\"vc\",\"symbols\",\"lenses\",\"username\",\"arrow\",\"adopted\",\"affects\",\"sudden\",\"pcm\",\"gel\",\"affair\",\"pinterest\",\"statements\",\"supplements\",\"justified\",\"turns\",\"santa\",\"shoe\",\"trek\",\"headphone\",\"girlfriends\",\"verizon\",\"rocket\",\"conference\",\"ego\",\"srm\",\"afghanistan\",\"nucleus\",\"generated\",\"chinas\",\"ww1\",\"consultancy\",\"socially\",\"allen\",\"berkeley\",\"missed\",\"crying\",\"introduced\",\"ps3\",\"flour\",\"brought\",\"elder\",\"minecraft\",\"9th\",\"freelancer\",\"circles\",\"scars\",\"entertainment\",\"turbine\",\"deeply\",\"rom\",\"evolved\",\"nato\",\"strengths\",\"ide\",\"tweets\",\"scholarships\",\"mentor\",\"collect\",\"hdfc\",\"mandarin\",\"solo\",\"terrible\",\"influential\",\"professionals\",\"65\",\"recognition\",\"nvidia\",\"cia\",\"designs\",\"10k\",\"creation\",\"tom\",\"rated\",\"introverts\",\"boiling\",\"communism\",\"treaty\",\"whereas\",\"thanks\",\"cigarette\",\"bengaluru\",\"oneplus\",\"reserve\",\"advertise\",\"nits\",\"helping\",\"bruce\",\"mp3\",\"severe\",\"proposal\",\"cultures\",\"tap\",\"animated\",\"planes\",\"hall\",\"cognitive\",\"supports\",\"keys\",\"gotten\",\"feedback\",\"recording\",\"proceed\",\"membership\",\"console\",\"overseas\",\"hows\",\"william\",\"billionaires\",\"updated\",\"pre\",\"organizations\",\"messi\",\"unexpected\",\"nitrogen\",\"hungry\",\"nigeria\",\"sync\",\"arduino\",\"gross\",\"outer\",\"searching\",\"workers\",\"outlook\",\"europeans\",\"founder\",\"lectures\",\"legitimate\",\"camp\",\"ordinary\",\"investments\",\"bone\",\"raising\",\"quite\",\"ages\",\"joint\",\"johnson\",\"destination\",\"concerned\",\"belief\",\"refrigerator\",\"implications\",\"manga\",\"mandatory\",\"obamas\",\"lawyers\",\"bedroom\",\"icon\",\"qualifications\",\"qa\",\"bikes\",\"boston\",\"holding\",\"session\",\"appointment\",\"weaknesses\",\"iphones\",\"motorcycle\",\"schizophrenia\",\"5th\",\"intellectual\",\"eaten\",\"attending\",\"medals\",\"adsense\",\"nda\",\"6th\",\"kali\",\"georgia\",\"wechat\",\"earlier\",\"drone\",\"truck\",\"horse\",\"merchant\",\"torque\",\"seed\",\"backend\",\"holmes\",\"graduating\",\"400\",\"bones\",\"sufficient\",\"participate\",\"rifle\",\"shock\",\"downloaded\",\"earthquake\",\"breasts\",\"secretary\",\"insert\",\"damaged\",\"massive\",\"standing\",\"remainder\",\"programme\",\"holocaust\",\"totally\",\"belt\",\"affairs\",\"nokia\",\"mechanism\",\"pin\",\"scan\",\"fought\",\"superpower\",\"poetry\",\"signals\",\"educated\",\"scariest\",\"trains\",\"closer\",\"weapon\",\"icici\",\"serial\",\"bicycle\",\"terminal\",\"finished\",\"stolen\",\"inspiring\",\"cuisine\",\"spark\",\"sounds\",\"pricing\",\"click\",\"underwear\",\"kidney\",\"bengal\",\"invention\",\"discount\",\"chase\",\"evaluate\",\"distributed\",\"themes\",\"amd\",\"stem\",\"st\",\"genre\",\"vegetables\",\"council\",\"bihar\",\"thick\",\"mouse\",\"worry\",\"newly\",\"updates\",\"candy\",\"prepaid\",\"wet\",\"rap\",\"motors\",\"implemented\",\"theoretical\",\"fabric\",\"mexican\",\"portfolio\",\"technique\",\"icse\",\"expansion\",\"evolutionary\",\"justify\",\"trick\",\"attached\",\"lightning\",\"pitch\",\"armed\",\"einstein\",\"conversion\",\"iitjee\",\"declared\",\"admit\",\"acquisition\",\"innovation\",\"runs\",\"wwe\",\"trial\",\"memories\",\"refuse\",\"netherlands\",\"committed\",\"fraud\",\"jailbreak\",\"settle\",\"badly\",\"approved\",\"eligibility\",\"trend\",\"increases\",\"comic\",\"quorans\",\"cellular\",\"matches\",\"receiving\",\"bmw\",\"vlsi\",\"signed\",\"lakes\",\"350\",\"communications\",\"pork\",\"joined\",\"anyway\",\"differentiate\",\"actresses\",\"29\",\"ethics\",\"premier\",\"hearing\",\"vehicles\",\"drama\",\"instant\",\"lips\",\"dates\",\"july\",\"holiday\",\"coach\",\"malayalam\",\"superior\",\"soviet\",\"plate\",\"throw\",\"worship\",\"bars\",\"sharma\",\"mothers\",\"integrated\",\"clubs\",\"bug\",\"melbourne\",\"co\",\"bisexual\",\"regions\",\"lesson\",\"heads\",\"reader\",\"snake\",\"qualify\",\"paul\",\"causing\",\"disappear\",\"era\",\"lets\",\"qualified\",\"spiritual\",\"wolf\",\"requirement\",\"journalism\",\"studied\",\"lowest\",\"vader\",\"coursera\",\"stark\",\"configuration\",\"verbal\",\"undergrad\",\"dimensions\",\"transition\",\"efficiently\",\"interstellar\",\"locked\",\"summary\",\"chandigarh\",\"ghosts\",\"included\",\"operate\",\"dimension\",\"mount\",\"noticed\",\"rating\",\"somewhere\",\"martin\",\"bra\",\"bird\",\"zuckerberg\",\"sensor\",\"audience\",\"dirty\",\"starbucks\",\"permission\",\"residential\",\"wholesale\",\"assets\",\"clearly\",\"km\",\"invade\",\"ipcc\",\"fb\",\"shell\",\"shave\",\"loud\",\"tip\",\"seeds\",\"sets\",\"polar\",\"although\",\"june\",\"judaism\",\"anti\",\"instrument\",\"seven\",\"shooting\",\"j\",\"portal\",\"tower\",\"github\",\"linked\",\"admitted\",\"punishment\",\"mid\",\"micro\",\"cured\",\"lifestyle\",\"nor\",\"upset\",\"challenge\",\"soap\",\"standards\",\"integration\",\"lottery\",\"lab\",\"williams\",\"odd\",\"soil\",\"sensitive\",\"route\",\"tattoos\",\"coin\",\"declare\",\"frame\",\"differential\",\"bowl\",\"softwares\",\"notifications\",\"maintenance\",\"inner\",\"apples\",\"converted\",\"recruiter\",\"bombay\",\"command\",\"posting\",\"controlled\",\"balls\",\"personally\",\"poker\",\"extract\",\"hired\",\"bugs\",\"providers\",\"loans\",\"calculator\",\"attractions\",\"torrents\",\"keywords\",\"profession\",\"blogging\",\"transport\",\"sue\",\"anonymously\",\"compounds\",\"robot\",\"buddhism\",\"sweet\",\"defense\",\"nobody\",\"uc\",\"defined\",\"division\",\"bags\",\"epic\",\"unhealthy\",\"craziest\",\"urban\",\"combination\",\"pair\",\"laugh\",\"cv\",\"usd\",\"launched\",\"usps\",\"visited\",\"nexus\",\"regularly\",\"brothers\",\"broker\",\"concentrate\",\"agreement\",\"nervous\",\"frozen\",\"detail\",\"sir\",\"situations\",\"borderline\",\"angularjs\",\"abusive\",\"tourism\",\"relate\",\"august\",\"communist\",\"accountant\",\"dumb\",\"arab\",\"b2b\",\"du\",\"thermal\",\"asians\",\"threat\",\"karma\",\"passive\",\"homosexuality\",\"putting\",\"quantitative\",\"relativity\",\"sanskrit\",\"opinions\",\"verify\",\"bear\",\"roll\",\"expanding\",\"teenage\",\"jeans\",\"providing\",\"shared\",\"extreme\",\"mi\",\"vr\",\"progress\",\"greece\",\"cpu\",\"ips\",\"merge\",\"reputation\",\"loving\",\"salman\",\"iss\",\"warm\",\"dental\",\"extension\",\"attraction\",\"fictional\",\"journal\",\"login\",\"secondary\",\"recognize\",\"southern\",\"ph\",\"lunch\",\"wallet\",\"ronaldo\",\"larger\",\"actions\",\"fathers\",\"adopt\",\"claims\",\"bottom\",\"therapy\",\"patient\",\"described\",\"virginity\",\"functional\",\"ionic\",\"chartered\",\"discover\",\"55\",\"21st\",\"biased\",\"mad\",\"northern\",\"onto\",\"liberals\",\"premium\",\"neutral\",\"detect\",\"diagram\",\"sperm\",\"ga\",\"bleach\",\"spread\",\"contributions\",\"activate\",\"prior\",\"safest\",\"holder\",\"360\",\"aim\",\"rental\",\"families\",\"everybody\",\"shut\",\"payments\",\"150\",\"cube\",\"vegan\",\"newspaper\",\"beef\",\"houses\",\"preferred\",\"simultaneously\",\"marked\",\"reactions\",\"emergency\",\"protection\",\"cab\",\"forex\",\"norway\",\"immigrants\",\"googles\",\"ssb\",\"wing\",\"yrs\",\"ensure\",\"spy\",\"reasoning\",\"strange\",\"forgive\",\"turkish\",\"tag\",\"ranking\",\"platforms\",\"fox\",\"existed\",\"walmart\",\"lazy\",\"ears\",\"clock\",\"beam\",\"rare\",\"bush\",\"2011\",\"stops\",\"batteries\",\"certified\",\"naked\",\"worldwide\",\"staying\",\"lifetime\",\"ted\",\"lake\",\"wealthy\",\"transit\",\"stephen\",\"rural\",\"versa\",\"pets\",\"commonly\",\"adults\",\"ultimate\",\"genius\",\"vinegar\",\"allows\",\"aid\",\"retirement\",\"airtel\",\"sciences\",\"mountain\",\"drinks\",\"tour\",\"wind\",\"seattle\",\"disabled\",\"bodies\",\"lesbian\",\"governments\",\"kinetic\",\"tumblr\",\"absolute\",\"author\",\"toilet\",\"whey\",\"sleepy\",\"molecular\",\"watches\",\"inventions\",\"rain\",\"34\",\"angular\",\"o\",\"dish\",\"however\",\"agents\",\"abs\",\"switzerland\",\"transformer\",\"clearing\",\"consciousness\",\"broadband\",\"uae\",\"automatic\",\"opposed\",\"geography\",\"astronauts\",\"decisions\",\"cement\",\"induction\",\"luxury\",\"upvotes\",\"politicians\",\"posted\",\"toefl\",\"kitchen\",\"noise\",\"radius\",\"dye\",\"miles\",\"risks\",\"scientifically\",\"mnc\",\"propose\",\"prepared\",\"iiit\",\"mention\",\"equipment\",\"darth\",\"january\",\"surname\",\"raised\",\"attitude\",\"gta\",\"david\",\"hike\",\"awkward\",\"proven\",\"productive\",\"lg\",\"filled\",\"atmosphere\",\"lee\",\"irctc\",\"addicted\",\"dynamic\",\"employment\",\"weekend\",\"replacement\",\"singing\",\"owners\",\"bipolar\",\"tomorrow\",\"poems\",\"default\",\"kvpy\",\"sauce\",\"competitors\",\"russians\",\"sample\",\"crimes\",\"hang\",\"inspired\",\"furniture\",\"throughout\",\"presence\",\"efficiency\",\"leg\",\"biological\",\"pilani\",\"conversations\",\"inspirational\",\"bachelor\",\"centers\",\"withdraw\",\"fundamental\",\"comparison\",\"november\",\"fifa\",\"penalty\",\"algebra\",\"joke\",\"htc\",\"pilots\",\"collapse\",\"texts\",\"vocabulary\",\"moved\",\"sc\",\"smile\",\"october\",\"dot\",\"genetic\",\"architect\",\"url\",\"51\",\"sore\",\"uniform\",\"re\",\"rails\",\"smaller\",\"marine\",\"terrorists\",\"nazi\",\"breast\",\"politician\",\"subtitles\",\"chosen\",\"egypt\",\"thin\",\"packages\",\"editor\",\"bands\",\"mythology\",\"reasonable\",\"permit\",\"acceptable\",\"seriously\",\"iraq\",\"fever\",\"visitor\",\"honest\",\"friction\",\"offering\",\"smarter\",\"ahmedabad\",\"replaced\",\"resolution\",\"burning\",\"bridge\",\"catholic\",\"calendar\",\"resident\",\"policies\",\"forced\",\"leading\",\"arm\",\"deserve\",\"context\",\"coolest\",\"arranged\",\"arizona\",\"comics\",\"harm\",\"democrats\",\"jail\",\"breed\",\"anywhere\",\"psu\",\"christ\",\"violence\",\"agriculture\",\"objective\",\"moments\",\"infinity\",\"supporting\",\"critical\",\"trees\",\"beyond\",\"bag\",\"vitamin\",\"assembly\",\"solved\",\"array\",\"perspective\",\"pas\",\"wwii\",\"skinny\",\"contains\",\"lift\",\"cleaning\",\"peter\",\"aap\",\"pimples\",\"initial\",\"lesserknown\",\"sights\",\"principles\",\"realize\",\"millionaire\",\"faux\",\"orbit\",\"desire\",\"hi\",\"prophet\",\"suits\",\"careers\",\"thinks\",\"quantity\",\"spots\",\"wage\",\"asleep\",\"sociology\",\"guard\",\"units\",\"structural\",\"operation\",\"pants\",\"w\",\"bulk\",\"possibly\",\"drunk\",\"fired\",\"accident\",\"inch\",\"bottle\",\"aerospace\",\"narcissist\",\"ux\",\"angeles\",\"wood\",\"index\",\"safely\",\"robotics\",\"edition\",\"metals\",\"practices\",\"scheme\",\"interior\",\"diabetes\",\"nobel\",\"youth\",\"lived\",\"september\",\"chief\",\"proposed\",\"assuming\",\"sin\",\"counter\",\"disable\",\"introduce\",\"restore\",\"swimming\",\"intern\",\"answering\",\"mentioned\",\"crash\",\"laser\",\"teenagers\",\"presentation\",\"quran\",\"classified\",\"demonetisation\",\"communicate\",\"cotton\",\"autism\",\"anger\",\"environmental\",\"stable\",\"7th\",\"bread\",\"invited\",\"wisdom\",\"wrote\",\"widely\",\"minor\",\"formal\",\"dreaming\",\"managers\",\"escape\",\"pollution\",\"taiwan\",\"verification\",\"los\",\"figures\",\"26\",\"illness\",\"sides\",\"compatible\",\"pack\",\"conspiracy\",\"hedge\",\"flights\",\"dropped\",\"former\",\"suffer\",\"aware\",\"designers\",\"mahabharata\",\"evolve\",\"weigh\",\"dies\",\"fruits\",\"cc\",\"butter\",\"sharing\",\"atoms\",\"tongue\",\"transaction\",\"poverty\",\"suffering\",\"presidents\",\"resistance\",\"adam\",\"civilization\",\"mining\",\"toronto\",\"stick\",\"increased\",\"wild\",\"freelance\",\"removal\",\"aws\",\"rio\",\"principle\",\"asus\",\"cute\",\"consumer\",\"pool\",\"variable\",\"tutorials\",\"advance\",\"keeping\",\"visible\",\"cognizant\",\"equations\",\"rooms\",\"krishna\",\"printer\",\"tooth\",\"mentally\",\"realistic\",\"automobile\",\"cake\",\"tie\",\"beach\",\"ghost\",\"comfortable\",\"mysql\",\"oral\",\"closed\",\"helps\",\"maharashtra\",\"admissions\",\"i5\",\"partners\",\"axis\",\"beliefs\",\"neck\",\"clans\",\"hidden\",\"cyber\",\"voting\",\"bacteria\",\"layer\",\"chhattisgarh\",\"5000\",\"sitting\",\"murder\",\"argument\",\"f\",\"privacy\",\"syndrome\",\"2010\",\"bite\",\"vacation\",\"isro\",\"trouble\",\"records\",\"answered\",\"digit\",\"defeat\",\"childhood\",\"5s\",\"gates\",\"f1\",\"town\",\"anal\",\"copper\",\"talks\",\"affiliate\",\"sociopath\",\"installed\",\"static\",\"copyright\",\"animation\",\"donate\",\"stranger\",\"bcom\",\"destroyed\",\"gujarat\",\"foundation\",\"prize\",\"components\",\"foreigner\",\"arms\",\"unlimited\",\"needing\",\"settings\",\"item\",\"eve\",\"competition\",\"landing\",\"beard\",\"patent\",\"ending\",\"2020\",\"incident\",\"petroleum\",\"florida\",\"particularly\",\"ups\",\"generator\",\"leather\",\"heal\",\"experiment\",\"28\",\"passing\",\"talent\",\"remote\",\"300\",\"published\",\"impossible\",\"steam\",\"80\",\"washing\",\"guilty\",\"punjab\",\"70\",\"album\",\"bullet\",\"paris\",\"interface\",\"agencies\",\"mission\",\"digits\",\"modis\",\"recruitment\",\"manipal\",\"telling\",\"meal\",\"orange\",\"stone\",\"links\",\"ab\",\"upper\",\"cameras\",\"p\",\"combat\",\"passion\",\"shower\",\"thailand\",\"beings\",\"grad\",\"27\",\"finger\",\"jump\",\"lights\",\"ui\",\"bba\",\"sweden\",\"arrive\",\"4th\",\"amendment\",\"window\",\"satellite\",\"al\",\"matlab\",\"jokes\",\"muhammad\",\"expression\",\"booking\",\"dinner\",\"skype\",\"lots\",\"2018\",\"teen\",\"finish\",\"dslr\",\"mens\",\"proud\",\"entrepreneurs\",\"ukraine\",\"coins\",\"scenario\",\"transmission\",\"ignore\",\"pride\",\"contribute\",\"grand\",\"curve\",\"false\",\"operations\",\"breakup\",\"eventually\",\"acquire\",\"commission\",\"lies\",\"spoken\",\"pills\",\"masturbating\",\"jackson\",\"airbnb\",\"delivered\",\"disk\",\"radiation\",\"plays\",\"marvel\",\"particle\",\"breakfast\",\"smartphones\",\"relevant\",\"quota\",\"refund\",\"inches\",\"telugu\",\"angel\",\"eastern\",\"inflation\",\"predict\",\"annoying\",\"obc\",\"tough\",\"conduct\",\"originate\",\"notification\",\"backup\",\"harder\",\"richest\",\"pronounce\",\"sri\",\"wheel\",\"wasnt\",\"oldest\",\"sheet\",\"soda\",\"20s\",\"wipro\",\"awesome\",\"facial\",\"z\",\"noida\",\"confident\",\"fbi\",\"corrupt\",\"succeed\",\"reddit\",\"associate\",\"input\",\"guns\",\"rahul\",\"baking\",\"description\",\"musical\",\"apache\",\"nowadays\",\"fluid\",\"capacity\",\"loose\",\"freshman\",\"cfa\",\"optional\",\"theres\",\"ps4\",\"trends\",\"jon\",\"richard\",\"legit\",\"nodejs\",\"document\",\"sexually\",\"particles\",\"singer\",\"printing\",\"captain\",\"valuable\",\"several\",\"aiims\",\"boot\",\"sit\",\"zone\",\"billionaire\",\"floor\",\"gravitational\",\"export\",\"motivation\",\"golden\",\"transgender\",\"healthcare\",\"heaven\",\"81\",\"leaves\",\"listening\",\"overall\",\"press\",\"dishes\",\"railways\",\"warming\",\"enfield\",\"extent\",\"acceleration\",\"afford\",\"bonds\",\"border\",\"registration\",\"cast\",\"hope\",\"shipping\",\"karnataka\",\"specifically\",\"opportunity\",\"arabia\",\"pump\",\"pg\",\"carrier\",\"plot\",\"kingdom\",\"contract\",\"painful\",\"kindle\",\"boring\",\"essential\",\"disney\",\"charger\",\"seconds\",\"measured\",\"honda\",\"ba\",\"makeup\",\"\\u2013\",\"mini\",\"annual\",\"traits\",\"retrieve\",\"willing\",\"swift\",\"consume\",\"hindus\",\"psychopath\",\"tells\",\"solving\",\"conditions\",\"artists\",\"spotify\",\"bomb\",\"integrate\",\"stuck\",\"nikon\",\"gadgets\",\"womens\",\"judge\",\"republicans\",\"vacuum\",\"felt\",\"putin\",\"tennis\",\"concentration\",\"fans\",\"constantly\",\"matrix\",\"secrets\",\"spot\",\"soft\",\"stored\",\"neural\",\"submit\",\"scores\",\"ola\",\"wire\",\"gdp\",\"jaipur\",\"typically\",\"airline\",\"roles\",\"cheaper\",\"machines\",\"shift\",\"impress\",\"basics\",\"32\",\"conservative\",\"birds\",\"tend\",\"duty\",\"setup\",\"rude\",\"pink\",\"church\",\"mine\",\"jack\",\"sending\",\"cooking\",\"versus\",\"expert\",\"olympic\",\"biotechnology\",\"gurgaon\",\"worked\",\"codes\",\"successfully\",\"hardware\",\"faith\",\"pr\",\"television\",\"compound\",\"vit\",\"universal\",\"thank\",\"grammatically\",\"chicago\",\"ivy\",\"worried\",\"enterprise\",\"sodium\",\"railway\",\"remedies\",\"racism\",\"tracking\",\"psychological\",\"apartment\",\"magazine\",\"martial\",\"beauty\",\"waiting\",\"attacks\",\"horror\",\"fantasy\",\"ma\",\"select\",\"increasing\",\"metro\",\"opt\",\"map\",\"watched\",\"gear\",\"icloud\",\"james\",\"comedy\",\"lollipop\",\"ireland\",\"upcoming\",\"italian\",\"oven\",\"emotionally\",\"decided\",\"lakh\",\"grey\",\"kept\",\"produced\",\"mouth\",\"manual\",\"dhoni\",\"fill\",\"throat\",\"shoot\",\"liked\",\"innovative\",\"immediately\",\"lonely\",\"fighting\",\"max\",\"accidentally\",\"schedule\",\"orgasm\",\"rape\",\"ride\",\"muscles\",\"graduates\",\"taller\",\"boost\",\"lakhs\",\"microwave\",\"electrons\",\"upon\",\"attract\",\"ap\",\"abuse\",\"earths\",\"forever\",\"underrated\",\"facing\",\"terrorist\",\"alien\",\"celebrity\",\"frequently\",\"vpn\",\"wales\",\"powder\",\"superman\",\"mixed\",\"caught\",\"goods\",\"beginning\",\"starts\",\"atomic\",\"associated\",\"triangle\",\"parties\",\"banning\",\"k\",\"honey\",\"monitor\",\"graph\",\"leaders\",\"embedded\",\"juice\",\"split\",\"lady\",\"sequence\",\"911\",\"harassment\",\"nepal\",\"pop\",\"habit\",\"setting\",\"edge\",\"ww2\",\"gps\",\"federal\",\"charged\",\"lying\",\"empty\",\"whenever\",\"airplane\",\"jet\",\"destroy\",\"ies\",\"wouldnt\",\"quick\",\"decrease\",\"robert\",\"pradesh\",\"professors\",\"massage\",\"held\",\"spending\",\"markets\",\"objects\",\"chart\",\"mechanics\",\"silver\",\"usage\",\"basketball\",\"gen\",\"periods\",\"identity\",\"individuals\",\"css\",\"soul\",\"ipod\",\"chest\",\"understanding\",\"coast\",\"classic\",\"spain\",\"babies\",\"sd\",\"hostel\",\"shirt\",\"further\",\"logical\",\"franchise\",\"obtain\",\"foreigners\",\"fully\",\"region\",\"designed\",\"cheated\",\"beneficial\",\"shes\",\"accent\",\"couldnt\",\"queen\",\"sick\",\"blowing\",\"properly\",\"stronger\",\"returns\",\"condition\",\"musk\",\"ugly\",\"teams\",\"filter\",\"snow\",\"glasses\",\"employer\",\"solid\",\"followed\",\"embarrassing\",\"auto\",\"meeting\",\"belong\",\"strike\",\"internships\",\"bachelors\",\"administration\",\"temple\",\"wealth\",\"retail\",\"speakers\",\"electoral\",\"headphones\",\"streaming\",\"mirror\",\"diesel\",\"republic\",\"antivirus\",\"customers\",\"atm\",\"vagina\",\"cigarettes\",\"aptitude\",\"lewis\",\"saudi\",\"puppy\",\"recovery\",\"jimmy\",\"obsessed\",\"domestic\",\"pen\",\"batch\",\"de\",\"drawing\",\"ai\",\"medium\",\"simply\",\"photoshop\",\"sms\",\"turning\",\"nadu\",\"appropriate\",\"adobe\",\"substitute\",\"fruit\",\"recipes\",\"fighter\",\"saving\",\"greater\",\"cheat\",\"routine\",\"push\",\"sherlock\",\"arguments\",\"sony\",\"import\",\"soldiers\",\"charges\",\"emotions\",\"ibm\",\"un\",\"innovations\",\"itunes\",\"consultant\",\"iims\",\"relations\",\"psychopaths\",\"existing\",\"angle\",\"clash\",\"bus\",\"australian\",\"crazy\",\"pull\",\"theories\",\"savings\",\"suit\",\"contrast\",\"calculus\",\"pi\",\"credits\",\"bluetooth\",\"himself\",\"traveling\",\"criminal\",\"xiaomi\",\"zealand\",\"seats\",\"electron\",\"script\",\"11th\",\"lessons\",\"programmers\",\"december\",\"flag\",\"singh\",\"arabic\",\"sale\",\"nfl\",\"grammar\",\"killing\",\"virgin\",\"differently\",\"poem\",\"provided\",\"automation\",\"shy\",\"translation\",\"mathematical\",\"45\",\"celebrities\",\"spring\",\"downloading\",\"dr\",\"organization\",\"majority\",\"clients\",\"hd\",\"motivate\",\"thats\",\"thesis\",\"door\",\"weakest\",\"saw\",\"canon\",\"younger\",\"costs\",\"river\",\"rings\",\"factory\",\"decent\",\"clintons\",\"holes\",\"desert\",\"divorce\",\"sold\",\"cheese\",\"atom\",\"taught\",\"minute\",\"ocean\",\"crisis\",\"represent\",\"surgical\",\"parent\",\"brexit\",\"possibility\",\"longest\",\"edit\",\"scholarship\",\"motivated\",\"chocolate\",\"faced\",\"90\",\"parallel\",\"foot\",\"examination\",\"friendly\",\"kinds\",\"wins\",\"islamic\",\"degrees\",\"registered\",\"distribution\",\"junior\",\"gave\",\"sing\",\"articles\",\"hadoop\",\"saved\",\"hero\",\"ear\",\"asks\",\"improved\",\"teenager\",\"forms\",\"wash\",\"provides\",\"washington\",\"strikes\",\"binary\",\"syria\",\"indonesia\",\"powers\",\"highly\",\"heshe\",\"happiness\",\"director\",\"citizenship\",\"knew\",\"humanity\",\"translate\",\"nba\",\"permanently\",\"soccer\",\"todays\",\"challenges\",\"barack\",\"title\",\"latin\",\"fitness\",\"genuine\",\"investor\",\"dislike\",\"scenes\",\"hacker\",\"bangladesh\",\"ebay\",\"earning\",\"dell\",\"paytm\",\"spouse\",\"bored\",\"roman\",\"official\",\"dragon\",\"park\",\"except\",\"habits\",\"quote\",\"astrology\",\"congress\",\"automatically\",\"island\",\"religions\",\"christianity\",\"supreme\",\"owner\",\"hell\",\"wikipedia\",\"cancel\",\"industries\",\"actress\",\"client\",\"visual\",\"michael\",\"remain\",\"ability\",\"concrete\",\"conflict\",\"string\",\"linear\",\"supposed\",\"engines\",\"2012\",\"\\u2018\",\"lesser\",\"traditional\",\"episodes\",\"goals\",\"tata\",\"opening\",\"target\",\"weak\",\"anonymous\",\"bjp\",\"resource\",\"concepts\",\"ruby\",\"friendship\",\"nyc\",\"pretty\",\"implement\",\"painting\",\"ill\",\"agency\",\"reverse\",\"confused\",\"italy\",\"response\",\"yellow\",\"dance\",\"contain\",\"vice\",\"editing\",\"acting\",\"weirdest\",\"feels\",\"govt\",\"accounting\",\"rise\",\"wise\",\"leaving\",\"lens\",\"artist\",\"arvind\",\"pattern\",\"scared\",\"attention\",\"airlines\",\"sky\",\"malaysia\",\"port\",\"attempt\",\"element\",\"classical\",\"shown\",\"safety\",\"including\",\"tablet\",\"la\",\"terrorism\",\"commit\",\"maps\",\"african\",\"viewed\",\"calling\",\"6s\",\"agent\",\"output\",\"justice\",\"don\",\"addiction\",\"lock\",\"vegetarian\",\"britain\",\"percent\",\"meditation\",\"ibps\",\"monthly\",\"writers\",\"forward\",\"stuff\",\"mr\",\"ready\",\"forgot\",\"flying\",\"recommended\",\"fields\",\"blind\",\"l\",\"hinduism\",\"desktop\",\"host\",\"tattoo\",\"maintain\",\"boards\",\"helpful\",\"semester\",\"load\",\"tier\",\"agree\",\"factor\",\"elon\",\"freshers\",\"sql\",\"cases\",\"exact\",\"confidence\",\"behavior\",\"hacked\",\"quotes\",\"hydrogen\",\"pakistani\",\"masturbate\",\"divided\",\"skill\",\"fine\",\"falling\",\"chess\",\"charging\",\"pages\",\"vector\",\"supporters\",\"waste\",\"sanders\",\"affordable\",\"unlock\",\"techniques\",\"wine\",\"keyboard\",\"cm\",\"wireless\",\"lawyer\",\"egg\",\"cope\",\"mindblowing\",\"recipe\",\"corruption\",\"scored\",\"secure\",\"teaching\",\"opposite\",\"educational\",\"bernie\",\"y\",\"library\",\"models\",\"kid\",\"stack\",\"separate\",\"19\",\"extremely\",\"properties\",\"cable\",\"magic\",\"removed\",\"computing\",\"hospital\",\"beer\",\"christians\",\"twice\",\"kg\",\"consulting\",\"whose\",\"serious\",\"petrol\",\"travelling\",\"revolution\",\"custom\",\"structures\",\"guide\",\"celebrate\",\"lenovo\",\"turned\",\"ielts\",\"grades\",\"fuel\",\"relative\",\"oracle\",\"academy\",\"lack\",\"passed\",\"relation\",\"values\",\"movement\",\"strategies\",\"eu\",\"emotional\",\"legs\",\"pokemon\",\"3g\",\"iran\",\"mostly\",\"jewish\",\"offered\",\"log\",\"hasnt\",\"explanation\",\"signal\",\"stores\",\"syllabus\",\"bits\",\"yoga\",\"weapons\",\"gods\",\"10000\",\"delivery\",\"gb\",\"sum\",\"letters\",\"venture\",\"selection\",\"winning\",\"35\",\"comment\",\"consequences\",\"sport\",\"items\",\"seems\",\"ring\",\"jealous\",\"laptops\",\"criteria\",\"fresh\",\"reference\",\"bitcoin\",\"infinite\",\"perform\",\"brazil\",\"density\",\"plans\",\"hosting\",\"clothing\",\"hong\",\"dying\",\"heavy\",\"steve\",\"gone\",\"damage\",\"missing\",\"ethical\",\"republican\",\"contacts\",\"activity\",\"electronic\",\"qualities\",\"piano\",\"hisher\",\"repair\",\"posts\",\"disease\",\"winter\",\"ten\",\"publish\",\"paint\",\"physically\",\"executive\",\"deposit\",\"elements\",\"xbox\",\"ceo\",\"visitors\",\"discovered\",\"tickets\",\"literature\",\"primary\",\"naturally\",\"senior\",\"u\",\"hardest\",\"debate\",\"frequency\",\"vietnam\",\"cry\",\"assistant\",\"gifts\",\"practical\",\"funny\",\"valid\",\"liberal\",\"refer\",\"beat\",\"shape\",\"institutes\",\"msc\",\"internal\",\"located\",\"significant\",\"scientists\",\"g\",\"ship\",\"proper\",\"independence\",\"added\",\"hes\",\"catch\",\"urine\",\"effectively\",\"named\",\"responsible\",\"strength\",\"whos\",\"immigration\",\"vehicle\",\"tesla\",\"kong\",\"meth\",\"england\",\"huge\",\"pizza\",\"rejected\",\"george\",\"fan\",\"salt\",\"browser\",\"sat\",\"loved\",\"fees\",\"walking\",\"symbol\",\"equity\",\"ubuntu\",\"alternatives\",\"theme\",\"virus\",\"manufacturing\",\"cutoff\",\"pure\",\"22\",\"introvert\",\"unable\",\"greek\",\"rice\",\"gst\",\"happening\",\"centre\",\"kiss\",\"prison\",\"bigger\",\"font\",\"construction\",\"exercises\",\"keeps\",\"gmat\",\"offers\",\"cross\",\"nasa\",\"unit\",\"advertising\",\"cup\",\"fixed\",\"limited\",\"billion\",\"subjects\",\"arts\",\"worlds\",\"stupid\",\"breaking\",\"funding\",\"tank\",\"generate\",\"efficient\",\"exists\",\"atheist\",\"entrepreneur\",\"direction\",\"broken\",\"offline\",\"firms\",\"station\",\"magnetic\",\"include\",\"aliens\",\"tinder\",\"logo\",\"photography\",\"worse\",\"besides\",\"path\",\"somebody\",\"interviews\",\"persons\",\"figure\",\"placed\",\"nation\",\"knows\",\"unmarried\",\"hp\",\"profitable\",\"tricks\",\"boss\",\"reply\",\"scam\",\"circle\",\"processor\",\"debt\",\"growing\",\"royal\",\"fiction\",\"department\",\"mistake\",\"weird\",\"graphics\",\"external\",\"article\",\"volume\",\"scratch\",\"chain\",\"protect\",\"storage\",\"texas\",\"liquid\",\"circuit\",\"graphic\",\"tired\",\"weather\",\"oxygen\",\"velocity\",\"dad\",\"band\",\"teachers\",\"drugs\",\"complex\",\"studio\",\"accenture\",\"leader\",\"levels\",\"goal\",\"logic\",\"acne\",\"plastic\",\"motion\",\"button\",\"peoples\",\"vision\",\"gap\",\"dollar\",\"computers\",\"stomach\",\"sources\",\"constant\",\"draw\",\"dress\",\"calculated\",\"sort\",\"3rd\",\"club\",\"channels\",\"creating\",\"candidates\",\"kejriwal\",\"broke\",\"sentences\",\"format\",\"emails\",\"raw\",\"stanford\",\"completed\",\"documents\",\"pan\",\"showing\",\"enter\",\"unknown\",\"bought\",\"router\",\"claim\",\"six\",\"technologies\",\"\\u20b9\",\"flipkart\",\"infosys\",\"mutual\",\"angry\",\"iits\",\"affected\",\"prices\",\"shares\",\"naruto\",\"processing\",\"finding\",\"democratic\",\"evolution\",\"harmful\",\"dual\",\"virtual\",\"member\",\"wave\",\"actual\",\"extra\",\"radio\",\"citizens\",\"e\",\"hr\",\"previous\",\"stopped\",\"walk\",\"redmi\",\"speaker\",\"torrent\",\"smoke\",\"mistakes\",\"flash\",\"iron\",\"entire\",\"individual\",\"express\",\"flow\",\"mode\",\"aircraft\",\"section\",\"planets\",\"10th\",\"respond\",\"easier\",\"evil\",\"percentile\",\"seeing\",\"calories\",\"upgrade\",\"professor\",\"v\",\"launch\",\"staff\",\"till\",\"silicon\",\"entry\",\"constitution\",\"century\",\"notice\",\"ie\",\"atheists\",\"tests\",\"21\",\"became\",\"kerala\",\"truly\",\"count\",\"essay\",\"papers\",\"accurate\",\"colors\",\"respect\",\"ideal\",\"rock\",\"reliance\",\"peace\",\"masturbation\",\"audio\",\"random\",\"independent\",\"colour\",\"hotels\",\"presidency\",\"generation\",\"paypal\",\"shot\",\"central\",\"released\",\"occur\",\"display\",\"industrial\",\"particular\",\"risk\",\"eg\",\"belly\",\"pet\",\"similarities\",\"organic\",\"marijuana\",\"networks\",\"aspects\",\"flat\",\"d\",\"comments\",\"nose\",\"identify\",\"rbi\",\"improvement\",\"directly\",\"framework\",\"suggestions\",\"designing\",\"brands\",\"religious\",\"influence\",\"novels\",\"statistics\",\"historical\",\"ground\",\"commerce\",\"pregnancy\",\"romantic\",\"failure\",\"wearing\",\"john\",\"apart\",\"bay\",\"symptoms\",\"200\",\"couple\",\"60\",\"canadian\",\"lie\",\"print\",\"carry\",\"gender\",\"experienced\",\"pounds\",\"reservation\",\"either\",\"stage\",\"artificial\",\"fit\",\"blogs\",\"developing\",\"environment\",\"learned\",\"copy\",\"phase\",\"bond\",\"democracy\",\"cgpa\",\"operating\",\"surface\",\"officers\",\"h1b\",\"ip\",\"workout\",\"fee\",\"elected\",\"hands\",\"largest\",\"sad\",\"shouldnt\",\"seat\",\"sister\",\"developers\",\"despite\",\"scene\",\"po\",\"diploma\",\"request\",\"empire\",\"ratio\",\"considering\",\"academic\",\"tree\",\"register\",\"advantage\",\"eligible\",\"nit\",\"shop\",\"intel\",\"funniest\",\"alternative\",\"fail\",\"ads\",\"nature\",\"miss\",\"involved\",\"overrated\",\"attend\",\"freedom\",\"dna\",\"beginners\",\"raise\",\"dry\",\"failed\",\"legally\",\"batman\",\"upload\",\"carbon\",\"regret\",\"applied\",\"points\",\"investors\",\"pick\",\"equivalent\",\"connected\",\"christmas\",\"lyrics\",\"nations\",\"caused\",\"bsc\",\"1st\",\"action\",\"activities\",\"biology\",\"hide\",\"asia\",\"takes\",\"require\",\"alive\",\"mom\",\"cycle\",\"generally\",\"campaign\",\"fair\",\"wake\",\"bit\",\"rules\",\"olympics\",\"racist\",\"areas\",\"eggs\",\"feature\",\"sap\",\"taxes\",\"ad\",\"shall\",\"theyre\",\"species\",\"pilot\",\"firm\",\"fish\",\"define\",\"doctors\",\"piece\",\"itself\",\"bang\",\"solutions\",\"iim\",\"2013\",\"wanted\",\"length\",\"burn\",\"waves\",\"bar\",\"gives\",\"forces\",\"christian\",\"anybody\",\"relationships\",\"nice\",\"wedding\",\"various\",\"brother\",\"films\",\"cream\",\"suddenly\",\"philippines\",\"fashion\",\"truth\",\"gpa\",\"cgl\",\"tall\",\"goa\",\"hacking\",\"statement\",\"reset\",\"materials\",\"played\",\"match\",\"usb\",\"novel\",\"unusual\",\"knowing\",\"selected\",\"valley\",\"chrome\",\"couples\",\"becomes\",\"died\",\"cheating\",\"community\",\"groups\",\"category\",\"pursuing\",\"writer\",\"mexico\",\"anymore\",\"sugar\",\"climate\",\"brown\",\"players\",\"ii\",\"reviews\",\"took\",\"led\",\"connection\",\"begin\",\"html\",\"changing\",\"received\",\"plants\",\"debit\",\"record\",\"revenue\",\"mars\",\"strongest\",\"members\",\"formed\",\"union\",\"thought\",\"existence\",\"kashmir\",\"gandhi\",\"pdf\",\"banned\",\"0\",\"plane\",\"treated\",\"electricity\",\"scale\",\"basis\",\"moral\",\"images\",\"methods\",\"certification\",\"voltage\",\"style\",\"base\",\"excel\",\"amazing\",\"regarding\",\"result\",\"rates\",\"hold\",\"indias\",\"airport\",\"businesses\",\"feet\",\"built\",\"linkedin\",\"signs\",\"above\",\"networking\",\"r\",\"shopping\",\"looks\",\"went\",\"placements\",\"bed\",\"experiences\",\"daughter\",\"tourist\",\"employee\",\"caste\",\"wait\",\"direct\",\"especially\",\"feed\",\"continue\",\"expected\",\"algorithm\",\"depressed\",\"shoes\",\"soon\",\"supply\",\"stress\",\"24\",\"inr\",\"foods\",\"rent\",\"architecture\",\"ban\",\"entrance\",\"actors\",\"messenger\",\"unique\",\"kolkata\",\"funds\",\"rupee\",\"promote\",\"rupees\",\"jews\",\"23\",\"cook\",\"cultural\",\"accepted\",\"hear\",\"glass\",\"road\",\"joining\",\"measure\",\"havent\",\"metal\",\"resume\",\"afraid\",\"turkey\",\"meat\",\"goes\",\"installation\",\"netflix\",\"benefit\",\"demand\",\"release\",\"produce\",\"report\",\"cover\",\"changes\",\"double\",\"2nd\",\"reaction\",\"killed\",\"steel\",\"requirements\",\"france\",\"exchange\",\"ac\",\"quantum\",\"reliable\",\"box\",\"results\",\"lives\",\"treatment\",\"4g\",\"ece\",\"probability\",\"sleeping\",\"philosophy\",\"handle\",\"forget\",\"driver\",\"demonetization\",\"algorithms\",\"trade\",\"rule\",\"muscle\",\"calls\",\"tried\",\"mental\",\"sure\",\"quit\",\"navy\",\"achieve\",\"francisco\",\"location\",\"until\",\"sense\",\"anxiety\",\"wordpress\",\"focus\",\"fact\",\"production\",\"conversation\",\"motor\",\"five\",\"attracted\",\"hit\",\"analyst\",\"moto\",\"isis\",\"chicken\",\"sector\",\"permanent\",\"along\",\"king\",\"slow\",\"candidate\",\"minutes\",\"purchase\",\"gun\",\"selling\",\"usually\",\"\\u2026\",\"fly\",\"round\",\"panel\",\"error\",\"stocks\",\"api\",\"remember\",\"africa\",\"paying\",\"hitler\",\"3d\",\"regular\",\"losing\",\"mail\",\"yahoo\",\"cheapest\",\"older\",\"concept\",\"characters\",\"definition\",\"lines\",\"pm\",\"cloud\",\"cats\",\"russian\",\"ipad\",\"korean\",\"proof\",\"battle\",\"stars\",\"stream\",\"recent\",\"typical\",\"performance\",\"harvard\",\"restaurant\",\"origin\",\"listen\",\"smell\",\"decide\",\"serve\",\"undergraduate\",\"profit\",\"situation\",\"surgery\",\"asking\",\"plant\",\"link\",\"square\",\"completing\",\"four\",\"trust\",\"payment\",\"gym\",\"andor\",\"worklife\",\"guitar\",\"elections\",\"half\",\"investing\",\"scientist\",\"street\",\"needs\",\"native\",\"thoughts\",\"reality\",\"40\",\"medicine\",\"race\",\"choice\",\"longer\",\"came\",\"applying\",\"hiring\",\"west\",\"weed\",\"hacks\",\"step\",\"sea\",\"crime\",\"devices\",\"event\",\"citizen\",\"14\",\"17\",\"ticket\",\"fund\",\"equation\",\"suicide\",\"whom\",\"met\",\"almost\",\"designer\",\"local\",\"departments\",\"khan\",\"customer\",\"banking\",\"javascript\",\"trip\",\"issue\",\"react\",\"cannot\",\"dubai\",\"wall\",\"touch\",\"parts\",\"loves\",\"clothes\",\"straight\",\"sexual\",\"active\",\"inpatient\",\"dreams\",\"protein\",\"table\",\"exercise\",\"lord\",\"mtech\",\"creative\",\"ball\",\"speaking\",\"son\",\"receive\",\"dollars\",\"domain\",\"prospects\",\"hour\",\"graduation\",\"commercial\",\"themselves\",\"factors\",\"jesus\",\"programmer\",\"recommend\",\"replace\",\"chat\",\"placement\",\"episode\",\"fastest\",\"restaurants\",\"object\",\"drivers\",\"gaming\",\"mark\",\"taste\",\"seem\",\"perfect\",\"potential\",\"trumps\",\"appear\",\"rights\",\"equal\",\"rest\",\"package\",\"meant\",\"drop\",\"cool\",\"material\",\"potter\",\"events\",\"convince\",\"completely\",\"n\",\"zero\",\"significance\",\"lower\",\"feelings\",\"followers\",\"evidence\",\"certain\",\"later\",\"original\",\"bible\",\"disorder\",\"testing\",\"via\",\"stand\",\"actor\",\"characteristics\",\"cities\",\"reach\",\"ago\",\"mbbs\",\"speech\",\"electric\",\"approach\",\"scientific\",\"root\",\"analytics\",\"below\",\"grade\",\"mains\",\"topic\",\"fun\",\"ancient\",\"adult\",\"standard\",\"ice\",\"everyday\",\"population\",\"invented\",\"european\",\"intelligent\",\"11\",\"subject\",\"rehab\",\"background\",\"giving\",\"platform\",\"flight\",\"thrones\",\"maths\",\"dc\",\"teeth\",\"mit\",\"weeks\",\"east\",\"means\",\"programs\",\"beginner\",\"heat\",\"third\",\"tea\",\"range\",\"london\",\"maximum\",\"enjoy\",\"2000\",\"cells\",\"quickly\",\"here\",\"expensive\",\"phrase\",\"partner\",\"league\",\"anime\",\"latest\",\"specific\",\"whether\",\"functions\",\"os\",\"fire\",\"saying\",\"secret\",\"13\",\"planet\",\"hole\",\"super\",\"teacher\",\"strong\",\"accounts\",\"minister\",\"database\",\"economic\",\"channel\",\"estate\",\"ram\",\"switch\",\"asian\",\"smoking\",\"branch\",\"israel\",\"18\",\"features\",\"success\",\"lead\",\"total\",\"key\",\"master\",\"ok\",\"favourite\",\"psychology\",\"pok\\u00e9mon\",\"nothing\",\"clean\",\"25\",\"politics\",\"drinking\",\"sometimes\",\"recently\",\"korea\",\"sent\",\"poor\",\"hindu\",\"hollywood\",\"survive\",\"cure\",\"property\",\"return\",\"narendra\",\"budget\",\"sports\",\"limit\",\"arent\",\"boys\",\"driving\",\"whole\",\"cash\",\"smartphone\",\"php\",\"developed\",\"ssc\",\"hot\",\"attractive\",\"tool\",\"physical\",\"ecommerce\",\"sbi\",\"morning\",\"animal\",\"multiple\",\"loan\",\"acid\",\"fresher\",\"spanish\",\"moving\",\"decision\",\"county\",\"determined\",\"becoming\",\"seo\",\"summer\",\"manage\",\"server\",\"competitive\",\"milk\",\"importance\",\"banks\",\"cheap\",\"powerful\",\"issues\",\"penis\",\"according\",\"analysis\",\"bike\",\"position\",\"western\",\"advanced\",\"campus\",\"highest\",\"front\",\"court\",\"status\",\"gravity\",\"positions\",\"comes\",\"steps\",\"complete\",\"electronics\",\"won\",\"hurt\",\"certificate\",\"temperature\",\"player\",\"someones\",\"communication\",\"million\",\"talking\",\"preparing\",\"finance\",\"cancer\",\"9\",\"harry\",\"accept\",\"2014\",\"plus\",\"born\",\"tcs\",\"license\",\"bring\",\"teach\",\"practice\",\"trading\",\"m\",\"might\",\"opportunities\",\"global\",\"wish\",\"outside\",\"attack\",\"procedure\",\"needed\",\"update\",\"coffee\",\"provider\",\"rather\",\"16\",\"allow\",\"tamil\",\"mix\",\"connect\",\"room\",\"watching\",\"deep\",\"york\",\"image\",\"birth\",\"sign\",\"birthday\",\"playing\",\"wars\",\"grads\",\"hire\",\"phones\",\"cbse\",\"details\",\"clear\",\"cricket\",\"dangerous\",\"track\",\"corporate\",\"voice\",\"upsc\",\"content\",\"okay\",\"san\",\"heart\",\"far\",\"heard\",\"prove\",\"positive\",\"moment\",\"sales\",\"opinion\",\"engineers\",\"block\",\"diet\",\"coding\",\"core\",\"baby\",\"father\",\"little\",\"large\",\"blocked\",\"distance\",\"land\",\"simple\",\"husband\",\"told\",\"traffic\",\"prevent\",\"pictures\",\"planning\",\"fear\",\"classes\",\"towards\",\"technical\",\"building\",\"trying\",\"photo\",\"early\",\"uses\",\"sydney\",\"startups\",\"act\",\"id\",\"describe\",\"12th\",\"may\",\"formula\",\"gets\",\"present\",\"wont\",\"cut\",\"treat\",\"mathematics\",\"visiting\",\"eye\",\"policy\",\"close\",\"cse\",\"suitable\",\"version\",\"tools\",\"head\",\"minimum\",\"chennai\",\"easily\",\"method\",\"intelligence\",\"gre\",\"mother\",\"doctor\",\"macbook\",\"deleted\",\"gas\",\"suggest\",\"cards\",\"files\",\"loss\",\"art\",\"easiest\",\"late\",\"among\",\"together\",\"depression\",\"higher\",\"alone\",\"economics\",\"dead\",\"growth\",\"insurance\",\"gold\",\"necessary\",\"neet\",\"blog\",\"example\",\"memory\",\"crack\",\"consider\",\"works\",\"currency\",\"recruit\",\"pursue\",\"strategy\",\"young\",\"cs\",\"projects\",\"50\",\"manager\",\"abroad\",\"schools\",\"illegal\",\"inside\",\"stories\",\"hand\",\"t\",\"greatest\",\"personality\",\"galaxy\",\"device\",\"views\",\"user\",\"chemistry\",\"cars\",\"iq\",\"prefer\",\"picture\",\"nuclear\",\"middle\",\"applications\",\"gmail\",\"laws\",\"final\",\"capital\",\"kids\",\"society\",\"fake\",\"bill\",\"save\",\"though\",\"likely\",\"determine\",\"shows\",\"character\",\"snapchat\",\"youre\",\"eyes\",\"islam\",\"marry\",\"brand\",\"yet\",\"impact\",\"speak\",\"within\",\"rich\",\"resources\",\"net\",\"non\",\"pressure\",\"changed\",\"allowed\",\"obama\",\"cold\",\"running\",\"feeling\",\"jio\",\"football\",\"gift\",\"written\",\"buying\",\"mac\",\"spend\",\"prime\",\"blue\",\"train\",\"studies\",\"negative\",\"thinking\",\"solution\",\"sun\",\"least\",\"following\",\"install\",\"else\",\"muslims\",\"camera\",\"vote\",\"linux\",\"expect\",\"german\",\"recover\",\"starting\",\"crush\",\"coming\",\"muslim\",\"modern\",\"battery\",\"provide\",\"access\",\"presidential\",\"interest\",\"dating\",\"pro\",\"likes\",\"french\",\"singapore\",\"useful\",\"already\",\"professional\",\"percentage\",\"drink\",\"created\",\"board\",\"passport\",\"structure\",\"case\",\"height\",\"microsoft\",\"break\",\"screen\",\"names\",\"chance\",\"special\",\"30\",\"skin\",\"natural\",\"color\",\"interested\",\"amount\",\"pain\",\"healthy\",\"hack\",\"messages\",\"ias\",\"gay\",\"disadvantages\",\"pass\",\"moon\",\"systems\",\"hindi\",\"financial\",\"taken\",\"yes\",\"sim\",\"pregnant\",\"faster\",\"animals\",\"internship\",\"let\",\"photos\",\"balance\",\"sound\",\"due\",\"knowledge\",\"charge\",\"message\",\"officer\",\"solar\",\"military\",\"meet\",\"option\",\"reading\",\"across\",\"overcome\",\"everyone\",\"everything\",\"wife\",\"reduce\",\"chances\",\"samsung\",\"income\",\"bollywood\",\"season\",\"europe\",\"boy\",\"currently\",\"ex\",\"smart\",\"california\",\"engine\",\"paid\",\"army\",\"contact\",\"address\",\"wants\",\"ones\",\"gain\",\"reasons\",\"avoid\",\"please\",\"note\",\"known\",\"pune\",\"film\",\"national\",\"once\",\"users\",\"porn\",\"scope\",\"twitter\",\"drug\",\"rank\",\"japan\",\"fight\",\"transfer\",\"political\",\"green\",\"news\",\"self\",\"uber\",\"basic\",\"british\",\"religion\",\"hyderabad\",\"topics\",\"explain\",\"phd\",\"eating\",\"letter\",\"calculate\",\"ive\",\"tech\",\"personal\",\"japanese\",\"check\",\"hotel\",\"wifi\",\"beautiful\",\"difficult\",\"paper\",\"languages\",\"investment\",\"develop\",\"north\",\"electrical\",\"ios\",\"alcohol\",\"exactly\",\"profile\",\"past\",\"exams\",\"ca\",\"convert\",\"vs\",\"understand\",\"care\",\"dream\",\"try\",\"americans\",\"lost\",\"chemical\",\"source\",\"b\",\"admission\",\"easy\",\"must\",\"three\",\"effect\",\"view\",\"options\",\"page\",\"away\",\"red\",\"said\",\"line\",\"short\",\"happy\",\"security\",\"dark\",\"preparation\",\"second\",\"fat\",\"matter\",\"few\",\"since\",\"role\",\"pc\",\"office\",\"team\",\"delete\",\"cell\",\"election\",\"economy\",\"term\",\"dogs\",\"text\",\"female\",\"effective\",\"brain\",\"share\",\"digital\",\"btech\",\"russia\",\"\\u201c\",\"party\",\"numbers\",\"20\",\"store\",\"male\",\"mass\",\"turn\",\"left\",\"married\",\"rs\",\"taking\",\"those\",\"password\",\"follow\",\"advice\",\"isnt\",\"15\",\"types\",\"network\",\"\\u201d\",\"week\",\"purpose\",\"related\",\"fix\",\"started\",\"courses\",\"masters\",\"grow\",\"8\",\"fast\",\"leave\",\"100\",\"often\",\"found\",\"pros\",\"marriage\",\"cons\",\"quality\",\"words\",\"kill\",\"price\",\"near\",\"modi\",\"enough\",\"search\",\"python\",\"x\",\"blood\",\"math\",\"yourself\",\"drive\",\"size\",\"star\",\"graduate\",\"majors\",\"500\",\"model\",\"studying\",\"general\",\"oil\",\"colleges\",\"area\",\"developer\",\"germany\",\"industry\",\"full\",\"training\",\"says\",\"period\",\"videos\",\"universe\",\"fall\",\"daily\",\"information\",\"foreign\",\"credit\",\"force\",\"12\",\"youve\",\"south\",\"offer\",\"set\",\"add\",\"send\",\"australia\",\"center\",\"1000\",\"famous\",\"2015\",\"lot\",\"function\",\"tax\",\"correct\",\"solve\",\"advantages\",\"coaching\",\"institute\",\"effects\",\"guys\",\"again\",\"group\",\"hours\",\"side\",\"sentence\",\"low\",\"similar\",\"plan\",\"children\",\"answers\",\"talk\",\"marks\",\"ideas\",\"theory\",\"death\",\"compared\",\"night\",\"remove\",\"dog\",\"anything\",\"single\",\"successful\",\"gate\",\"indians\",\"put\",\"problems\",\"move\",\"writing\",\"point\",\"invest\",\"asked\",\"biggest\",\"others\",\"stock\",\"notes\",\"story\",\"machine\",\"private\",\"sell\",\"seen\",\"required\",\"field\",\"file\",\"rate\",\"humans\",\"application\",\"face\",\"sites\",\"mind\",\"facts\",\"mumbai\",\"post\",\"stay\",\"child\",\"terms\",\"products\",\"control\",\"legal\",\"police\",\"didnt\",\"level\",\"worst\",\"hate\",\"visit\",\"called\",\"amazon\",\"causes\",\"health\",\"form\",\"physics\",\"iit\",\"skills\",\"times\",\"medical\",\"based\",\"list\",\"websites\",\"die\",\"part\",\"less\",\"benefits\",\"apple\",\"instead\",\"these\",\"boyfriend\",\"sleep\",\"canada\",\"reason\",\"education\",\"cause\",\"jee\",\"value\",\"today\",\"media\",\"public\",\"happened\",\"product\",\"research\",\"main\",\"behind\",\"international\",\"project\",\"uk\",\"differ\",\"7\",\"places\",\"wear\",\"order\",\"date\",\"etc\",\"small\",\"songs\",\"apps\",\"email\",\"given\",\"wrong\",\"site\",\"normal\",\"culture\",\"also\",\"civil\",\"city\",\"available\",\"house\",\"exist\",\"startup\",\"services\",\"ms\",\"both\",\"down\",\"2017\",\"run\",\"cat\",\"well\",\"space\",\"join\",\"deal\",\"games\",\"visa\",\"rid\",\"air\",\"speed\",\"popular\",\"problem\",\"support\",\"current\",\"pakistan\",\"choose\",\"build\",\"idea\",\"america\",\"whatsapp\",\"affect\",\"law\",\"technology\",\"call\",\"6\",\"universities\",\"family\",\"marketing\",\"major\",\"actually\",\"favorite\",\"light\",\"bangalore\",\"woman\",\"because\",\"type\",\"program\",\"looking\",\"living\",\"open\",\"believe\",\"month\",\"able\",\"management\",\"travel\",\"degree\",\"show\",\"interesting\",\"score\",\"months\",\"series\",\"chinese\",\"development\",\"end\",\"code\",\"design\",\"per\",\"employees\",\"review\",\"clinton\",\"common\",\"kind\",\"internet\",\"song\",\"download\",\"course\",\"parents\",\"jobs\",\"such\",\"increase\",\"java\",\"god\",\"another\",\"united\",\"girlfriend\",\"mechanical\",\"always\",\"next\",\"never\",\"around\",\"tips\",\"mba\",\"myself\",\"hillary\",\"apply\",\"answer\",\"something\",\"considered\",\"making\",\"differences\",\"market\",\"compare\",\"great\",\"keep\",\"test\",\"s\",\"win\",\"against\",\"states\",\"earn\",\"youtube\",\"worth\",\"delhi\",\"energy\",\"laptop\",\"american\",\"lose\",\"each\",\"hard\",\"makes\",\"age\",\"ask\",\"safe\",\"body\",\"power\",\"salary\",\"4\",\"watch\",\"white\",\"windows\",\"instagram\",\"history\",\"pay\",\"every\",\"last\",\"create\",\"relationship\",\"music\",\"too\",\"meaning\",\"state\",\"average\",\"earth\",\"got\",\"process\",\"class\",\"tv\",\"eat\",\"done\",\"happens\",\"days\",\"big\",\"off\",\"improve\",\"future\",\"place\",\"man\",\"human\",\"government\",\"play\",\"countries\",\"food\",\"service\",\"students\",\"weight\",\"game\",\"engineer\",\"write\",\"very\",\"interview\",\"web\",\"tell\",\"social\",\"girls\",\"video\",\"look\",\"having\",\"guy\",\"home\",\"hair\",\"usa\",\"doesnt\",\"word\",\"bank\",\"friend\",\"true\",\"experience\",\"career\",\"president\",\"question\",\"own\",\"china\",\"come\",\"under\",\"working\",\"him\",\"doing\",\"donald\",\"friends\",\"right\",\"5\",\"cost\",\"mobile\",\"even\",\"movies\",\"then\",\"c\",\"\\u2019\",\"exam\",\"men\",\"learning\",\"card\",\"war\",\"read\",\"programming\",\"black\",\"anyone\",\"high\",\"10\",\"companies\",\"car\",\"getting\",\"give\",\"important\",\"questions\",\"cant\",\"iphone\",\"website\",\"top\",\"water\",\"prepare\",\"during\",\"real\",\"say\",\"system\",\"name\",\"through\",\"two\",\"1\",\"our\",\"study\",\"3\",\"university\",\"made\",\"back\",\"happen\",\"stop\",\"student\",\"sex\",\"bad\",\"language\",\"going\",\"same\",\"before\",\"software\",\"school\",\"live\",\"country\",\"android\",\"science\",\"help\",\"she\",\"see\",\"thing\",\"women\",\"over\",\"data\",\"examples\",\"computer\",\"had\",\"ways\",\"change\",\"while\",\"book\",\"english\",\"account\",\"still\",\"movie\",\"books\",\"2016\",\"facebook\",\"free\",\"number\",\"college\",\"app\",\"2\",\"just\",\"now\",\"no\",\"trump\",\"company\",\"only\",\"old\",\"been\",\"google\",\"phone\",\"long\",\"different\",\"girl\",\"his\",\"her\",\"years\",\"really\",\"them\",\"using\",\"business\",\"need\",\"being\",\"buy\",\"day\",\"person\",\"things\",\"possible\",\"could\",\"were\",\"its\",\"love\",\"engineering\",\"im\",\"used\",\"online\",\"go\",\"year\",\"he\",\"into\",\"feel\",\"dont\",\"first\",\"up\"]]]}}},\"view\":{\"type\":\"object\",\"name\":\"CDSView\",\"id\":\"p1045\",\"attributes\":{\"filter\":{\"type\":\"object\",\"name\":\"AllIndices\",\"id\":\"p1046\"}}},\"glyph\":{\"type\":\"object\",\"name\":\"Scatter\",\"id\":\"p1041\",\"attributes\":{\"x\":{\"type\":\"field\",\"field\":\"x\"},\"y\":{\"type\":\"field\",\"field\":\"y\"},\"size\":{\"type\":\"value\",\"value\":10},\"line_color\":{\"type\":\"field\",\"field\":\"color\"},\"line_alpha\":{\"type\":\"value\",\"value\":0.25},\"fill_color\":{\"type\":\"field\",\"field\":\"color\"},\"fill_alpha\":{\"type\":\"value\",\"value\":0.25},\"hatch_color\":{\"type\":\"field\",\"field\":\"color\"},\"hatch_alpha\":{\"type\":\"value\",\"value\":0.25}}},\"nonselection_glyph\":{\"type\":\"object\",\"name\":\"Scatter\",\"id\":\"p1042\",\"attributes\":{\"x\":{\"type\":\"field\",\"field\":\"x\"},\"y\":{\"type\":\"field\",\"field\":\"y\"},\"size\":{\"type\":\"value\",\"value\":10},\"line_color\":{\"type\":\"field\",\"field\":\"color\"},\"line_alpha\":{\"type\":\"value\",\"value\":0.1},\"fill_color\":{\"type\":\"field\",\"field\":\"color\"},\"fill_alpha\":{\"type\":\"value\",\"value\":0.1},\"hatch_color\":{\"type\":\"field\",\"field\":\"color\"},\"hatch_alpha\":{\"type\":\"value\",\"value\":0.1}}},\"muted_glyph\":{\"type\":\"object\",\"name\":\"Scatter\",\"id\":\"p1043\",\"attributes\":{\"x\":{\"type\":\"field\",\"field\":\"x\"},\"y\":{\"type\":\"field\",\"field\":\"y\"},\"size\":{\"type\":\"value\",\"value\":10},\"line_color\":{\"type\":\"field\",\"field\":\"color\"},\"line_alpha\":{\"type\":\"value\",\"value\":0.2},\"fill_color\":{\"type\":\"field\",\"field\":\"color\"},\"fill_alpha\":{\"type\":\"value\",\"value\":0.2},\"hatch_color\":{\"type\":\"field\",\"field\":\"color\"},\"hatch_alpha\":{\"type\":\"value\",\"value\":0.2}}}}}],\"toolbar\":{\"type\":\"object\",\"name\":\"Toolbar\",\"id\":\"p1012\",\"attributes\":{\"tools\":[{\"type\":\"object\",\"name\":\"PanTool\",\"id\":\"p1025\"},{\"type\":\"object\",\"name\":\"WheelZoomTool\",\"id\":\"p1026\",\"attributes\":{\"renderers\":\"auto\"}},{\"type\":\"object\",\"name\":\"BoxZoomTool\",\"id\":\"p1027\",\"attributes\":{\"overlay\":{\"type\":\"object\",\"name\":\"BoxAnnotation\",\"id\":\"p1028\",\"attributes\":{\"syncable\":false,\"line_color\":\"black\",\"line_alpha\":1.0,\"line_width\":2,\"line_dash\":[4,4],\"fill_color\":\"lightgrey\",\"fill_alpha\":0.5,\"level\":\"overlay\",\"visible\":false,\"left\":{\"type\":\"number\",\"value\":\"nan\"},\"right\":{\"type\":\"number\",\"value\":\"nan\"},\"top\":{\"type\":\"number\",\"value\":\"nan\"},\"bottom\":{\"type\":\"number\",\"value\":\"nan\"},\"left_units\":\"canvas\",\"right_units\":\"canvas\",\"top_units\":\"canvas\",\"bottom_units\":\"canvas\",\"handles\":{\"type\":\"object\",\"name\":\"BoxInteractionHandles\",\"id\":\"p1034\",\"attributes\":{\"all\":{\"type\":\"object\",\"name\":\"AreaVisuals\",\"id\":\"p1033\",\"attributes\":{\"fill_color\":\"white\",\"hover_fill_color\":\"lightgray\"}}}}}}}},{\"type\":\"object\",\"name\":\"SaveTool\",\"id\":\"p1035\"},{\"type\":\"object\",\"name\":\"ResetTool\",\"id\":\"p1036\"},{\"type\":\"object\",\"name\":\"HelpTool\",\"id\":\"p1037\"},{\"type\":\"object\",\"name\":\"HoverTool\",\"id\":\"p1047\",\"attributes\":{\"renderers\":\"auto\",\"tooltips\":[[\"token\",\"@token\"]]}}],\"active_scroll\":{\"id\":\"p1026\"}}},\"left\":[{\"type\":\"object\",\"name\":\"LinearAxis\",\"id\":\"p1020\",\"attributes\":{\"ticker\":{\"type\":\"object\",\"name\":\"BasicTicker\",\"id\":\"p1021\",\"attributes\":{\"mantissas\":[1,2,5]}},\"formatter\":{\"type\":\"object\",\"name\":\"BasicTickFormatter\",\"id\":\"p1022\"},\"major_label_policy\":{\"type\":\"object\",\"name\":\"AllLabels\",\"id\":\"p1023\"}}}],\"below\":[{\"type\":\"object\",\"name\":\"LinearAxis\",\"id\":\"p1015\",\"attributes\":{\"ticker\":{\"type\":\"object\",\"name\":\"BasicTicker\",\"id\":\"p1016\",\"attributes\":{\"mantissas\":[1,2,5]}},\"formatter\":{\"type\":\"object\",\"name\":\"BasicTickFormatter\",\"id\":\"p1017\"},\"major_label_policy\":{\"type\":\"object\",\"name\":\"AllLabels\",\"id\":\"p1018\"}}}],\"center\":[{\"type\":\"object\",\"name\":\"Grid\",\"id\":\"p1019\",\"attributes\":{\"axis\":{\"id\":\"p1015\"}}},{\"type\":\"object\",\"name\":\"Grid\",\"id\":\"p1024\",\"attributes\":{\"dimension\":1,\"axis\":{\"id\":\"p1020\"}}}]}}]}};\n",
              "  const render_items = [{\"docid\":\"2c3247b3-85d6-4b15-a438-12ac9b7a62c9\",\"roots\":{\"p1004\":\"b586d28b-fccb-4d86-82e2-8345168fbfa9\"},\"root_ids\":[\"p1004\"]}];\n",
              "  void root.Bokeh.embed.embed_items_notebook(docs_json, render_items);\n",
              "  }\n",
              "  if (root.Bokeh !== undefined) {\n",
              "    embed_document(root);\n",
              "  } else {\n",
              "    let attempts = 0;\n",
              "    const timer = setInterval(function(root) {\n",
              "      if (root.Bokeh !== undefined) {\n",
              "        clearInterval(timer);\n",
              "        embed_document(root);\n",
              "      } else {\n",
              "        attempts++;\n",
              "        if (attempts > 100) {\n",
              "          clearInterval(timer);\n",
              "          console.log(\"Bokeh: ERROR: Unable to run BokehJS code because BokehJS library is missing\");\n",
              "        }\n",
              "      }\n",
              "    }, 10, root)\n",
              "  }\n",
              "})(window);"
            ],
            "application/vnd.bokehjs_exec.v0+json": ""
          },
          "metadata": {
            "application/vnd.bokehjs_exec.v0+json": {
              "id": "p1004"
            }
          }
        },
        {
          "output_type": "execute_result",
          "data": {
            "text/plain": [
              "figure(id='p1004', ...)"
            ],
            "text/html": [
              "<div style=\"display: table;\"><div style=\"display: table-row;\"><div style=\"display: table-cell;\"><b title=\"bokeh.plotting._figure.figure\">figure</b>(</div><div style=\"display: table-cell;\">id&nbsp;=&nbsp;'p1004', <span id=\"p1051\" style=\"cursor: pointer;\">&hellip;)</span></div></div><div class=\"p1050\" style=\"display: none;\"><div style=\"display: table-cell;\"></div><div style=\"display: table-cell;\">above&nbsp;=&nbsp;[],</div></div><div class=\"p1050\" style=\"display: none;\"><div style=\"display: table-cell;\"></div><div style=\"display: table-cell;\">align&nbsp;=&nbsp;'auto',</div></div><div class=\"p1050\" style=\"display: none;\"><div style=\"display: table-cell;\"></div><div style=\"display: table-cell;\">aspect_ratio&nbsp;=&nbsp;None,</div></div><div class=\"p1050\" style=\"display: none;\"><div style=\"display: table-cell;\"></div><div style=\"display: table-cell;\">aspect_scale&nbsp;=&nbsp;1,</div></div><div class=\"p1050\" style=\"display: none;\"><div style=\"display: table-cell;\"></div><div style=\"display: table-cell;\">attribution&nbsp;=&nbsp;[],</div></div><div class=\"p1050\" style=\"display: none;\"><div style=\"display: table-cell;\"></div><div style=\"display: table-cell;\">background_fill_alpha&nbsp;=&nbsp;1.0,</div></div><div class=\"p1050\" style=\"display: none;\"><div style=\"display: table-cell;\"></div><div style=\"display: table-cell;\">background_fill_color&nbsp;=&nbsp;'#ffffff',</div></div><div class=\"p1050\" style=\"display: none;\"><div style=\"display: table-cell;\"></div><div style=\"display: table-cell;\">below&nbsp;=&nbsp;[LinearAxis(id='p1015', ...)],</div></div><div class=\"p1050\" style=\"display: none;\"><div style=\"display: table-cell;\"></div><div style=\"display: table-cell;\">border_fill_alpha&nbsp;=&nbsp;1.0,</div></div><div class=\"p1050\" style=\"display: none;\"><div style=\"display: table-cell;\"></div><div style=\"display: table-cell;\">border_fill_color&nbsp;=&nbsp;'#ffffff',</div></div><div class=\"p1050\" style=\"display: none;\"><div style=\"display: table-cell;\"></div><div style=\"display: table-cell;\">center&nbsp;=&nbsp;[Grid(id='p1019', ...), Grid(id='p1024', ...)],</div></div><div class=\"p1050\" style=\"display: none;\"><div style=\"display: table-cell;\"></div><div style=\"display: table-cell;\">context_menu&nbsp;=&nbsp;None,</div></div><div class=\"p1050\" style=\"display: none;\"><div style=\"display: table-cell;\"></div><div style=\"display: table-cell;\">css_classes&nbsp;=&nbsp;[],</div></div><div class=\"p1050\" style=\"display: none;\"><div style=\"display: table-cell;\"></div><div style=\"display: table-cell;\">css_variables&nbsp;=&nbsp;{},</div></div><div class=\"p1050\" style=\"display: none;\"><div style=\"display: table-cell;\"></div><div style=\"display: table-cell;\">disabled&nbsp;=&nbsp;False,</div></div><div class=\"p1050\" style=\"display: none;\"><div style=\"display: table-cell;\"></div><div style=\"display: table-cell;\">elements&nbsp;=&nbsp;[],</div></div><div class=\"p1050\" style=\"display: none;\"><div style=\"display: table-cell;\"></div><div style=\"display: table-cell;\">extra_x_ranges&nbsp;=&nbsp;{},</div></div><div class=\"p1050\" style=\"display: none;\"><div style=\"display: table-cell;\"></div><div style=\"display: table-cell;\">extra_x_scales&nbsp;=&nbsp;{},</div></div><div class=\"p1050\" style=\"display: none;\"><div style=\"display: table-cell;\"></div><div style=\"display: table-cell;\">extra_y_ranges&nbsp;=&nbsp;{},</div></div><div class=\"p1050\" style=\"display: none;\"><div style=\"display: table-cell;\"></div><div style=\"display: table-cell;\">extra_y_scales&nbsp;=&nbsp;{},</div></div><div class=\"p1050\" style=\"display: none;\"><div style=\"display: table-cell;\"></div><div style=\"display: table-cell;\">flow_mode&nbsp;=&nbsp;'block',</div></div><div class=\"p1050\" style=\"display: none;\"><div style=\"display: table-cell;\"></div><div style=\"display: table-cell;\">frame_align&nbsp;=&nbsp;True,</div></div><div class=\"p1050\" style=\"display: none;\"><div style=\"display: table-cell;\"></div><div style=\"display: table-cell;\">frame_height&nbsp;=&nbsp;None,</div></div><div class=\"p1050\" style=\"display: none;\"><div style=\"display: table-cell;\"></div><div style=\"display: table-cell;\">frame_width&nbsp;=&nbsp;None,</div></div><div class=\"p1050\" style=\"display: none;\"><div style=\"display: table-cell;\"></div><div style=\"display: table-cell;\">height&nbsp;=&nbsp;400,</div></div><div class=\"p1050\" style=\"display: none;\"><div style=\"display: table-cell;\"></div><div style=\"display: table-cell;\">height_policy&nbsp;=&nbsp;'auto',</div></div><div class=\"p1050\" style=\"display: none;\"><div style=\"display: table-cell;\"></div><div style=\"display: table-cell;\">hidpi&nbsp;=&nbsp;True,</div></div><div class=\"p1050\" style=\"display: none;\"><div style=\"display: table-cell;\"></div><div style=\"display: table-cell;\">hold_render&nbsp;=&nbsp;False,</div></div><div class=\"p1050\" style=\"display: none;\"><div style=\"display: table-cell;\"></div><div style=\"display: table-cell;\">js_event_callbacks&nbsp;=&nbsp;{},</div></div><div class=\"p1050\" style=\"display: none;\"><div style=\"display: table-cell;\"></div><div style=\"display: table-cell;\">js_property_callbacks&nbsp;=&nbsp;{},</div></div><div class=\"p1050\" style=\"display: none;\"><div style=\"display: table-cell;\"></div><div style=\"display: table-cell;\">left&nbsp;=&nbsp;[LinearAxis(id='p1020', ...)],</div></div><div class=\"p1050\" style=\"display: none;\"><div style=\"display: table-cell;\"></div><div style=\"display: table-cell;\">lod_factor&nbsp;=&nbsp;10,</div></div><div class=\"p1050\" style=\"display: none;\"><div style=\"display: table-cell;\"></div><div style=\"display: table-cell;\">lod_interval&nbsp;=&nbsp;300,</div></div><div class=\"p1050\" style=\"display: none;\"><div style=\"display: table-cell;\"></div><div style=\"display: table-cell;\">lod_threshold&nbsp;=&nbsp;2000,</div></div><div class=\"p1050\" style=\"display: none;\"><div style=\"display: table-cell;\"></div><div style=\"display: table-cell;\">lod_timeout&nbsp;=&nbsp;500,</div></div><div class=\"p1050\" style=\"display: none;\"><div style=\"display: table-cell;\"></div><div style=\"display: table-cell;\">margin&nbsp;=&nbsp;None,</div></div><div class=\"p1050\" style=\"display: none;\"><div style=\"display: table-cell;\"></div><div style=\"display: table-cell;\">match_aspect&nbsp;=&nbsp;False,</div></div><div class=\"p1050\" style=\"display: none;\"><div style=\"display: table-cell;\"></div><div style=\"display: table-cell;\">max_height&nbsp;=&nbsp;None,</div></div><div class=\"p1050\" style=\"display: none;\"><div style=\"display: table-cell;\"></div><div style=\"display: table-cell;\">max_width&nbsp;=&nbsp;None,</div></div><div class=\"p1050\" style=\"display: none;\"><div style=\"display: table-cell;\"></div><div style=\"display: table-cell;\">min_border&nbsp;=&nbsp;5,</div></div><div class=\"p1050\" style=\"display: none;\"><div style=\"display: table-cell;\"></div><div style=\"display: table-cell;\">min_border_bottom&nbsp;=&nbsp;None,</div></div><div class=\"p1050\" style=\"display: none;\"><div style=\"display: table-cell;\"></div><div style=\"display: table-cell;\">min_border_left&nbsp;=&nbsp;None,</div></div><div class=\"p1050\" style=\"display: none;\"><div style=\"display: table-cell;\"></div><div style=\"display: table-cell;\">min_border_right&nbsp;=&nbsp;None,</div></div><div class=\"p1050\" style=\"display: none;\"><div style=\"display: table-cell;\"></div><div style=\"display: table-cell;\">min_border_top&nbsp;=&nbsp;None,</div></div><div class=\"p1050\" style=\"display: none;\"><div style=\"display: table-cell;\"></div><div style=\"display: table-cell;\">min_height&nbsp;=&nbsp;None,</div></div><div class=\"p1050\" style=\"display: none;\"><div style=\"display: table-cell;\"></div><div style=\"display: table-cell;\">min_width&nbsp;=&nbsp;None,</div></div><div class=\"p1050\" style=\"display: none;\"><div style=\"display: table-cell;\"></div><div style=\"display: table-cell;\">name&nbsp;=&nbsp;None,</div></div><div class=\"p1050\" style=\"display: none;\"><div style=\"display: table-cell;\"></div><div style=\"display: table-cell;\">outline_line_alpha&nbsp;=&nbsp;1.0,</div></div><div class=\"p1050\" style=\"display: none;\"><div style=\"display: table-cell;\"></div><div style=\"display: table-cell;\">outline_line_cap&nbsp;=&nbsp;'butt',</div></div><div class=\"p1050\" style=\"display: none;\"><div style=\"display: table-cell;\"></div><div style=\"display: table-cell;\">outline_line_color&nbsp;=&nbsp;'#e5e5e5',</div></div><div class=\"p1050\" style=\"display: none;\"><div style=\"display: table-cell;\"></div><div style=\"display: table-cell;\">outline_line_dash&nbsp;=&nbsp;[],</div></div><div class=\"p1050\" style=\"display: none;\"><div style=\"display: table-cell;\"></div><div style=\"display: table-cell;\">outline_line_dash_offset&nbsp;=&nbsp;0,</div></div><div class=\"p1050\" style=\"display: none;\"><div style=\"display: table-cell;\"></div><div style=\"display: table-cell;\">outline_line_join&nbsp;=&nbsp;'bevel',</div></div><div class=\"p1050\" style=\"display: none;\"><div style=\"display: table-cell;\"></div><div style=\"display: table-cell;\">outline_line_width&nbsp;=&nbsp;1,</div></div><div class=\"p1050\" style=\"display: none;\"><div style=\"display: table-cell;\"></div><div style=\"display: table-cell;\">output_backend&nbsp;=&nbsp;'canvas',</div></div><div class=\"p1050\" style=\"display: none;\"><div style=\"display: table-cell;\"></div><div style=\"display: table-cell;\">renderers&nbsp;=&nbsp;[GlyphRenderer(id='p1044', ...)],</div></div><div class=\"p1050\" style=\"display: none;\"><div style=\"display: table-cell;\"></div><div style=\"display: table-cell;\">reset_policy&nbsp;=&nbsp;'standard',</div></div><div class=\"p1050\" style=\"display: none;\"><div style=\"display: table-cell;\"></div><div style=\"display: table-cell;\">resizable&nbsp;=&nbsp;False,</div></div><div class=\"p1050\" style=\"display: none;\"><div style=\"display: table-cell;\"></div><div style=\"display: table-cell;\">right&nbsp;=&nbsp;[],</div></div><div class=\"p1050\" style=\"display: none;\"><div style=\"display: table-cell;\"></div><div style=\"display: table-cell;\">sizing_mode&nbsp;=&nbsp;None,</div></div><div class=\"p1050\" style=\"display: none;\"><div style=\"display: table-cell;\"></div><div style=\"display: table-cell;\">styles&nbsp;=&nbsp;{},</div></div><div class=\"p1050\" style=\"display: none;\"><div style=\"display: table-cell;\"></div><div style=\"display: table-cell;\">stylesheets&nbsp;=&nbsp;[],</div></div><div class=\"p1050\" style=\"display: none;\"><div style=\"display: table-cell;\"></div><div style=\"display: table-cell;\">subscribed_events&nbsp;=&nbsp;PropertyValueSet(),</div></div><div class=\"p1050\" style=\"display: none;\"><div style=\"display: table-cell;\"></div><div style=\"display: table-cell;\">syncable&nbsp;=&nbsp;True,</div></div><div class=\"p1050\" style=\"display: none;\"><div style=\"display: table-cell;\"></div><div style=\"display: table-cell;\">tags&nbsp;=&nbsp;[],</div></div><div class=\"p1050\" style=\"display: none;\"><div style=\"display: table-cell;\"></div><div style=\"display: table-cell;\">title&nbsp;=&nbsp;Title(id='p1011', ...),</div></div><div class=\"p1050\" style=\"display: none;\"><div style=\"display: table-cell;\"></div><div style=\"display: table-cell;\">title_location&nbsp;=&nbsp;'above',</div></div><div class=\"p1050\" style=\"display: none;\"><div style=\"display: table-cell;\"></div><div style=\"display: table-cell;\">toolbar&nbsp;=&nbsp;Toolbar(id='p1012', ...),</div></div><div class=\"p1050\" style=\"display: none;\"><div style=\"display: table-cell;\"></div><div style=\"display: table-cell;\">toolbar_inner&nbsp;=&nbsp;False,</div></div><div class=\"p1050\" style=\"display: none;\"><div style=\"display: table-cell;\"></div><div style=\"display: table-cell;\">toolbar_location&nbsp;=&nbsp;'right',</div></div><div class=\"p1050\" style=\"display: none;\"><div style=\"display: table-cell;\"></div><div style=\"display: table-cell;\">toolbar_sticky&nbsp;=&nbsp;True,</div></div><div class=\"p1050\" style=\"display: none;\"><div style=\"display: table-cell;\"></div><div style=\"display: table-cell;\">visible&nbsp;=&nbsp;True,</div></div><div class=\"p1050\" style=\"display: none;\"><div style=\"display: table-cell;\"></div><div style=\"display: table-cell;\">width&nbsp;=&nbsp;600,</div></div><div class=\"p1050\" style=\"display: none;\"><div style=\"display: table-cell;\"></div><div style=\"display: table-cell;\">width_policy&nbsp;=&nbsp;'auto',</div></div><div class=\"p1050\" style=\"display: none;\"><div style=\"display: table-cell;\"></div><div style=\"display: table-cell;\">x_range&nbsp;=&nbsp;DataRange1d(id='p1005', ...),</div></div><div class=\"p1050\" style=\"display: none;\"><div style=\"display: table-cell;\"></div><div style=\"display: table-cell;\">x_scale&nbsp;=&nbsp;LinearScale(id='p1013', ...),</div></div><div class=\"p1050\" style=\"display: none;\"><div style=\"display: table-cell;\"></div><div style=\"display: table-cell;\">y_range&nbsp;=&nbsp;DataRange1d(id='p1006', ...),</div></div><div class=\"p1050\" style=\"display: none;\"><div style=\"display: table-cell;\"></div><div style=\"display: table-cell;\">y_scale&nbsp;=&nbsp;LinearScale(id='p1014', ...))</div></div></div>\n",
              "<script>\n",
              "(function() {\n",
              "  let expanded = false;\n",
              "  const ellipsis = document.getElementById(\"p1051\");\n",
              "  ellipsis.addEventListener(\"click\", function() {\n",
              "    const rows = document.getElementsByClassName(\"p1050\");\n",
              "    for (let i = 0; i < rows.length; i++) {\n",
              "      const el = rows[i];\n",
              "      el.style.display = expanded ? \"none\" : \"table-row\";\n",
              "    }\n",
              "    ellipsis.innerHTML = expanded ? \"&hellip;)\" : \"&lsaquo;&lsaquo;&lsaquo;\";\n",
              "    expanded = !expanded;\n",
              "  });\n",
              "})();\n",
              "</script>\n"
            ]
          },
          "metadata": {},
          "execution_count": 37
        }
      ],
      "source": [
        "draw_vectors(embedding[:, 0], embedding[:, 1], token=top_words)"
      ]
    },
    {
      "cell_type": "markdown",
      "metadata": {
        "id": "7w38WgY20AiI"
      },
      "source": [
        "Для сдачи задания необходимо загрузить функции `subsample_frequent_words` и `get_negative_sampling_prob`, а также сгенерировать файл для посылки ниже и приложить в соответствующую задачу. Успехов!"
      ]
    },
    {
      "cell_type": "code",
      "execution_count": 38,
      "metadata": {
        "id": "D9tH7WuW0AiJ",
        "outputId": "e5c21781-1ef8-4044-8fc9-f5010a0685b4",
        "colab": {
          "base_uri": "https://localhost:8080/"
        }
      },
      "outputs": [
        {
          "output_type": "stream",
          "name": "stdout",
          "text": [
            "File saved to `submission_dict.json`\n"
          ]
        }
      ],
      "source": [
        "# do not change the code in the block below\n",
        "# __________start of block__________\n",
        "import os\n",
        "import json\n",
        "\n",
        "assert os.path.exists(\n",
        "    \"words_subset.txt\"\n",
        "), \"Please, download `words_subset.txt` and place it in the working directory\"\n",
        "\n",
        "with open(\"words_subset.txt\") as iofile:\n",
        "    selected_words = iofile.read().split(\"\\n\")\n",
        "\n",
        "\n",
        "def get_matrix_for_selected_words(selected_words, embedding_matrix, word_to_index):\n",
        "    word_vectors = []\n",
        "    for word in selected_words:\n",
        "        index = word_to_index.get(word, None)\n",
        "        vector = [0.0] * embedding_matrix.shape[1]\n",
        "        if index is not None:\n",
        "            vector = embedding_matrix[index].numpy().tolist()\n",
        "        word_vectors.append(vector)\n",
        "    return word_vectors\n",
        "\n",
        "\n",
        "word_vectors = get_matrix_for_selected_words(\n",
        "    selected_words, embedding_matrix_context, word_to_index\n",
        ")\n",
        "\n",
        "with open(\"submission_dict.json\", \"w\") as iofile:\n",
        "    json.dump(word_vectors, iofile)\n",
        "print(\"File saved to `submission_dict.json`\")\n",
        "# __________end of block__________"
      ]
    }
  ],
  "metadata": {
    "colab": {
      "provenance": [],
      "gpuType": "T4"
    },
    "kernelspec": {
      "display_name": "Python 3",
      "name": "python3"
    },
    "language_info": {
      "codemirror_mode": {
        "name": "ipython",
        "version": 3
      },
      "file_extension": ".py",
      "mimetype": "text/x-python",
      "name": "python",
      "nbconvert_exporter": "python",
      "pygments_lexer": "ipython3",
      "version": "3.11.2"
    },
    "accelerator": "GPU",
    "widgets": {
      "application/vnd.jupyter.widget-state+json": {
        "3938c759797c41be97b4b95109fa3d0e": {
          "model_module": "@jupyter-widgets/controls",
          "model_name": "HBoxModel",
          "model_module_version": "1.5.0",
          "state": {
            "_dom_classes": [],
            "_model_module": "@jupyter-widgets/controls",
            "_model_module_version": "1.5.0",
            "_model_name": "HBoxModel",
            "_view_count": null,
            "_view_module": "@jupyter-widgets/controls",
            "_view_module_version": "1.5.0",
            "_view_name": "HBoxView",
            "box_style": "",
            "children": [
              "IPY_MODEL_ee0a423c765a4ab78b41bfeee05d5072",
              "IPY_MODEL_a8ff0ce095a84454971cb0d42a71d4ee",
              "IPY_MODEL_242ef3217369479792a3c68eb157e667"
            ],
            "layout": "IPY_MODEL_d24d602c346e4ab7be9d4904ac4c351e"
          }
        },
        "ee0a423c765a4ab78b41bfeee05d5072": {
          "model_module": "@jupyter-widgets/controls",
          "model_name": "HTMLModel",
          "model_module_version": "1.5.0",
          "state": {
            "_dom_classes": [],
            "_model_module": "@jupyter-widgets/controls",
            "_model_module_version": "1.5.0",
            "_model_name": "HTMLModel",
            "_view_count": null,
            "_view_module": "@jupyter-widgets/controls",
            "_view_module_version": "1.5.0",
            "_view_name": "HTMLView",
            "description": "",
            "description_tooltip": null,
            "layout": "IPY_MODEL_ef3400bb31684f07b96775cafaa16083",
            "placeholder": "​",
            "style": "IPY_MODEL_9efcee153a944f6a90e09a59930503ce",
            "value": "100%"
          }
        },
        "a8ff0ce095a84454971cb0d42a71d4ee": {
          "model_module": "@jupyter-widgets/controls",
          "model_name": "FloatProgressModel",
          "model_module_version": "1.5.0",
          "state": {
            "_dom_classes": [],
            "_model_module": "@jupyter-widgets/controls",
            "_model_module_version": "1.5.0",
            "_model_name": "FloatProgressModel",
            "_view_count": null,
            "_view_module": "@jupyter-widgets/controls",
            "_view_module_version": "1.5.0",
            "_view_name": "ProgressView",
            "bar_style": "success",
            "description": "",
            "description_tooltip": null,
            "layout": "IPY_MODEL_cfb3e6056a7b4dc7bc3cd8140990e141",
            "max": 2500,
            "min": 0,
            "orientation": "horizontal",
            "style": "IPY_MODEL_63339d01d52e4c9296daf913510d5901",
            "value": 2500
          }
        },
        "242ef3217369479792a3c68eb157e667": {
          "model_module": "@jupyter-widgets/controls",
          "model_name": "HTMLModel",
          "model_module_version": "1.5.0",
          "state": {
            "_dom_classes": [],
            "_model_module": "@jupyter-widgets/controls",
            "_model_module_version": "1.5.0",
            "_model_name": "HTMLModel",
            "_view_count": null,
            "_view_module": "@jupyter-widgets/controls",
            "_view_module_version": "1.5.0",
            "_view_name": "HTMLView",
            "description": "",
            "description_tooltip": null,
            "layout": "IPY_MODEL_02c3df890a44442faff04b3ce824cffb",
            "placeholder": "​",
            "style": "IPY_MODEL_1cc02be4f2624836ad449276c566106d",
            "value": " 2500/2500 [51:24&lt;00:00,  1.48s/it]"
          }
        },
        "d24d602c346e4ab7be9d4904ac4c351e": {
          "model_module": "@jupyter-widgets/base",
          "model_name": "LayoutModel",
          "model_module_version": "1.2.0",
          "state": {
            "_model_module": "@jupyter-widgets/base",
            "_model_module_version": "1.2.0",
            "_model_name": "LayoutModel",
            "_view_count": null,
            "_view_module": "@jupyter-widgets/base",
            "_view_module_version": "1.2.0",
            "_view_name": "LayoutView",
            "align_content": null,
            "align_items": null,
            "align_self": null,
            "border": null,
            "bottom": null,
            "display": null,
            "flex": null,
            "flex_flow": null,
            "grid_area": null,
            "grid_auto_columns": null,
            "grid_auto_flow": null,
            "grid_auto_rows": null,
            "grid_column": null,
            "grid_gap": null,
            "grid_row": null,
            "grid_template_areas": null,
            "grid_template_columns": null,
            "grid_template_rows": null,
            "height": null,
            "justify_content": null,
            "justify_items": null,
            "left": null,
            "margin": null,
            "max_height": null,
            "max_width": null,
            "min_height": null,
            "min_width": null,
            "object_fit": null,
            "object_position": null,
            "order": null,
            "overflow": null,
            "overflow_x": null,
            "overflow_y": null,
            "padding": null,
            "right": null,
            "top": null,
            "visibility": null,
            "width": null
          }
        },
        "ef3400bb31684f07b96775cafaa16083": {
          "model_module": "@jupyter-widgets/base",
          "model_name": "LayoutModel",
          "model_module_version": "1.2.0",
          "state": {
            "_model_module": "@jupyter-widgets/base",
            "_model_module_version": "1.2.0",
            "_model_name": "LayoutModel",
            "_view_count": null,
            "_view_module": "@jupyter-widgets/base",
            "_view_module_version": "1.2.0",
            "_view_name": "LayoutView",
            "align_content": null,
            "align_items": null,
            "align_self": null,
            "border": null,
            "bottom": null,
            "display": null,
            "flex": null,
            "flex_flow": null,
            "grid_area": null,
            "grid_auto_columns": null,
            "grid_auto_flow": null,
            "grid_auto_rows": null,
            "grid_column": null,
            "grid_gap": null,
            "grid_row": null,
            "grid_template_areas": null,
            "grid_template_columns": null,
            "grid_template_rows": null,
            "height": null,
            "justify_content": null,
            "justify_items": null,
            "left": null,
            "margin": null,
            "max_height": null,
            "max_width": null,
            "min_height": null,
            "min_width": null,
            "object_fit": null,
            "object_position": null,
            "order": null,
            "overflow": null,
            "overflow_x": null,
            "overflow_y": null,
            "padding": null,
            "right": null,
            "top": null,
            "visibility": null,
            "width": null
          }
        },
        "9efcee153a944f6a90e09a59930503ce": {
          "model_module": "@jupyter-widgets/controls",
          "model_name": "DescriptionStyleModel",
          "model_module_version": "1.5.0",
          "state": {
            "_model_module": "@jupyter-widgets/controls",
            "_model_module_version": "1.5.0",
            "_model_name": "DescriptionStyleModel",
            "_view_count": null,
            "_view_module": "@jupyter-widgets/base",
            "_view_module_version": "1.2.0",
            "_view_name": "StyleView",
            "description_width": ""
          }
        },
        "cfb3e6056a7b4dc7bc3cd8140990e141": {
          "model_module": "@jupyter-widgets/base",
          "model_name": "LayoutModel",
          "model_module_version": "1.2.0",
          "state": {
            "_model_module": "@jupyter-widgets/base",
            "_model_module_version": "1.2.0",
            "_model_name": "LayoutModel",
            "_view_count": null,
            "_view_module": "@jupyter-widgets/base",
            "_view_module_version": "1.2.0",
            "_view_name": "LayoutView",
            "align_content": null,
            "align_items": null,
            "align_self": null,
            "border": null,
            "bottom": null,
            "display": null,
            "flex": null,
            "flex_flow": null,
            "grid_area": null,
            "grid_auto_columns": null,
            "grid_auto_flow": null,
            "grid_auto_rows": null,
            "grid_column": null,
            "grid_gap": null,
            "grid_row": null,
            "grid_template_areas": null,
            "grid_template_columns": null,
            "grid_template_rows": null,
            "height": null,
            "justify_content": null,
            "justify_items": null,
            "left": null,
            "margin": null,
            "max_height": null,
            "max_width": null,
            "min_height": null,
            "min_width": null,
            "object_fit": null,
            "object_position": null,
            "order": null,
            "overflow": null,
            "overflow_x": null,
            "overflow_y": null,
            "padding": null,
            "right": null,
            "top": null,
            "visibility": null,
            "width": null
          }
        },
        "63339d01d52e4c9296daf913510d5901": {
          "model_module": "@jupyter-widgets/controls",
          "model_name": "ProgressStyleModel",
          "model_module_version": "1.5.0",
          "state": {
            "_model_module": "@jupyter-widgets/controls",
            "_model_module_version": "1.5.0",
            "_model_name": "ProgressStyleModel",
            "_view_count": null,
            "_view_module": "@jupyter-widgets/base",
            "_view_module_version": "1.2.0",
            "_view_name": "StyleView",
            "bar_color": null,
            "description_width": ""
          }
        },
        "02c3df890a44442faff04b3ce824cffb": {
          "model_module": "@jupyter-widgets/base",
          "model_name": "LayoutModel",
          "model_module_version": "1.2.0",
          "state": {
            "_model_module": "@jupyter-widgets/base",
            "_model_module_version": "1.2.0",
            "_model_name": "LayoutModel",
            "_view_count": null,
            "_view_module": "@jupyter-widgets/base",
            "_view_module_version": "1.2.0",
            "_view_name": "LayoutView",
            "align_content": null,
            "align_items": null,
            "align_self": null,
            "border": null,
            "bottom": null,
            "display": null,
            "flex": null,
            "flex_flow": null,
            "grid_area": null,
            "grid_auto_columns": null,
            "grid_auto_flow": null,
            "grid_auto_rows": null,
            "grid_column": null,
            "grid_gap": null,
            "grid_row": null,
            "grid_template_areas": null,
            "grid_template_columns": null,
            "grid_template_rows": null,
            "height": null,
            "justify_content": null,
            "justify_items": null,
            "left": null,
            "margin": null,
            "max_height": null,
            "max_width": null,
            "min_height": null,
            "min_width": null,
            "object_fit": null,
            "object_position": null,
            "order": null,
            "overflow": null,
            "overflow_x": null,
            "overflow_y": null,
            "padding": null,
            "right": null,
            "top": null,
            "visibility": null,
            "width": null
          }
        },
        "1cc02be4f2624836ad449276c566106d": {
          "model_module": "@jupyter-widgets/controls",
          "model_name": "DescriptionStyleModel",
          "model_module_version": "1.5.0",
          "state": {
            "_model_module": "@jupyter-widgets/controls",
            "_model_module_version": "1.5.0",
            "_model_name": "DescriptionStyleModel",
            "_view_count": null,
            "_view_module": "@jupyter-widgets/base",
            "_view_module_version": "1.2.0",
            "_view_name": "StyleView",
            "description_width": ""
          }
        }
      }
    }
  },
  "nbformat": 4,
  "nbformat_minor": 0
}